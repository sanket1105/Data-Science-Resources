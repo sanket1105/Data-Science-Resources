xtrain, xvalid = model_selection.train_test_split(xdat['value'], test_size = 12)

# Fit an ARMA(2,2) model to the data
model = sm.tsa.ARMA(xtrain, order=(2,2))
results = model.fit()

# Forecast the next 10 values
forecast = results.forecast(steps=xvalid.shape[0])

len(forecast)