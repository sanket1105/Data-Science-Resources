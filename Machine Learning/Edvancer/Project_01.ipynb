{
 "cells": [
  {
   "cell_type": "code",
   "execution_count": null,
   "metadata": {},
   "outputs": [],
   "source": []
  },
  {
   "cell_type": "code",
   "execution_count": 1,
   "metadata": {},
   "outputs": [],
   "source": [
    "import pandas as pd\n",
    "import numpy as np\n",
    "from sklearn.model_selection import train_test_split\n",
    "from sklearn.metrics import mean_squared_error"
   ]
  },
  {
   "cell_type": "code",
   "execution_count": 6,
   "metadata": {},
   "outputs": [],
   "source": [
    "idtrain = pd.read_csv('./Project 01/housing_train.csv')\n",
    "idtest = pd.read_csv(\"./Project 01/housing_test.csv\")"
   ]
  },
  {
   "cell_type": "code",
   "execution_count": 7,
   "metadata": {},
   "outputs": [
    {
     "name": "stdout",
     "output_type": "stream",
     "text": [
      "(7536, 16)\n",
      "(1885, 15)\n"
     ]
    }
   ],
   "source": [
    "print(idtrain.shape)\n",
    "print(idtest.shape)"
   ]
  },
  {
   "cell_type": "code",
   "execution_count": 34,
   "metadata": {},
   "outputs": [
    {
     "data": {
      "text/html": [
       "<div>\n",
       "<style scoped>\n",
       "    .dataframe tbody tr th:only-of-type {\n",
       "        vertical-align: middle;\n",
       "    }\n",
       "\n",
       "    .dataframe tbody tr th {\n",
       "        vertical-align: top;\n",
       "    }\n",
       "\n",
       "    .dataframe thead th {\n",
       "        text-align: right;\n",
       "    }\n",
       "</style>\n",
       "<table border=\"1\" class=\"dataframe\">\n",
       "  <thead>\n",
       "    <tr style=\"text-align: right;\">\n",
       "      <th></th>\n",
       "      <th>Suburb</th>\n",
       "      <th>Address</th>\n",
       "      <th>Rooms</th>\n",
       "      <th>Type</th>\n",
       "      <th>Price</th>\n",
       "      <th>Method</th>\n",
       "      <th>SellerG</th>\n",
       "      <th>Distance</th>\n",
       "      <th>Postcode</th>\n",
       "      <th>Bedroom2</th>\n",
       "      <th>Bathroom</th>\n",
       "      <th>Car</th>\n",
       "      <th>Landsize</th>\n",
       "      <th>BuildingArea</th>\n",
       "      <th>YearBuilt</th>\n",
       "      <th>CouncilArea</th>\n",
       "    </tr>\n",
       "  </thead>\n",
       "  <tbody>\n",
       "    <tr>\n",
       "      <th>0</th>\n",
       "      <td>Brunswick</td>\n",
       "      <td>52 Evans St</td>\n",
       "      <td>3</td>\n",
       "      <td>h</td>\n",
       "      <td>1650000</td>\n",
       "      <td>S</td>\n",
       "      <td>Nelson</td>\n",
       "      <td>5.2</td>\n",
       "      <td>3056</td>\n",
       "      <td>3.0</td>\n",
       "      <td>1.0</td>\n",
       "      <td>2.0</td>\n",
       "      <td>495.0</td>\n",
       "      <td>141.0</td>\n",
       "      <td>1920.0</td>\n",
       "      <td>Moreland</td>\n",
       "    </tr>\n",
       "    <tr>\n",
       "      <th>1</th>\n",
       "      <td>Reservoir</td>\n",
       "      <td>85 Radford Rd</td>\n",
       "      <td>5</td>\n",
       "      <td>h</td>\n",
       "      <td>791000</td>\n",
       "      <td>S</td>\n",
       "      <td>Ray</td>\n",
       "      <td>11.2</td>\n",
       "      <td>3073</td>\n",
       "      <td>4.0</td>\n",
       "      <td>3.0</td>\n",
       "      <td>1.0</td>\n",
       "      <td>961.0</td>\n",
       "      <td>NaN</td>\n",
       "      <td>NaN</td>\n",
       "      <td>Darebin</td>\n",
       "    </tr>\n",
       "    <tr>\n",
       "      <th>2</th>\n",
       "      <td>Newport</td>\n",
       "      <td>99 Anderson St</td>\n",
       "      <td>3</td>\n",
       "      <td>h</td>\n",
       "      <td>785000</td>\n",
       "      <td>S</td>\n",
       "      <td>RT</td>\n",
       "      <td>8.4</td>\n",
       "      <td>3015</td>\n",
       "      <td>3.0</td>\n",
       "      <td>1.0</td>\n",
       "      <td>1.0</td>\n",
       "      <td>185.0</td>\n",
       "      <td>NaN</td>\n",
       "      <td>NaN</td>\n",
       "      <td>Hobsons Bay</td>\n",
       "    </tr>\n",
       "    <tr>\n",
       "      <th>3</th>\n",
       "      <td>Brighton East</td>\n",
       "      <td>4/377 South Rd</td>\n",
       "      <td>2</td>\n",
       "      <td>u</td>\n",
       "      <td>755000</td>\n",
       "      <td>SP</td>\n",
       "      <td>Buxton</td>\n",
       "      <td>10.7</td>\n",
       "      <td>3187</td>\n",
       "      <td>NaN</td>\n",
       "      <td>NaN</td>\n",
       "      <td>NaN</td>\n",
       "      <td>NaN</td>\n",
       "      <td>NaN</td>\n",
       "      <td>NaN</td>\n",
       "      <td>NaN</td>\n",
       "    </tr>\n",
       "    <tr>\n",
       "      <th>4</th>\n",
       "      <td>Hawthorn East</td>\n",
       "      <td>3 Jaques St</td>\n",
       "      <td>5</td>\n",
       "      <td>h</td>\n",
       "      <td>2500000</td>\n",
       "      <td>VB</td>\n",
       "      <td>RT</td>\n",
       "      <td>7.5</td>\n",
       "      <td>3123</td>\n",
       "      <td>5.0</td>\n",
       "      <td>3.0</td>\n",
       "      <td>3.0</td>\n",
       "      <td>757.0</td>\n",
       "      <td>240.0</td>\n",
       "      <td>1925.0</td>\n",
       "      <td>Boroondara</td>\n",
       "    </tr>\n",
       "  </tbody>\n",
       "</table>\n",
       "</div>"
      ],
      "text/plain": [
       "          Suburb         Address  Rooms Type    Price Method SellerG  \\\n",
       "0      Brunswick     52 Evans St      3    h  1650000      S  Nelson   \n",
       "1      Reservoir   85 Radford Rd      5    h   791000      S     Ray   \n",
       "2        Newport  99 Anderson St      3    h   785000      S      RT   \n",
       "3  Brighton East  4/377 South Rd      2    u   755000     SP  Buxton   \n",
       "4  Hawthorn East     3 Jaques St      5    h  2500000     VB      RT   \n",
       "\n",
       "   Distance  Postcode  Bedroom2  Bathroom  Car  Landsize  BuildingArea  \\\n",
       "0       5.2      3056       3.0       1.0  2.0     495.0         141.0   \n",
       "1      11.2      3073       4.0       3.0  1.0     961.0           NaN   \n",
       "2       8.4      3015       3.0       1.0  1.0     185.0           NaN   \n",
       "3      10.7      3187       NaN       NaN  NaN       NaN           NaN   \n",
       "4       7.5      3123       5.0       3.0  3.0     757.0         240.0   \n",
       "\n",
       "   YearBuilt  CouncilArea  \n",
       "0     1920.0     Moreland  \n",
       "1        NaN      Darebin  \n",
       "2        NaN  Hobsons Bay  \n",
       "3        NaN          NaN  \n",
       "4     1925.0   Boroondara  "
      ]
     },
     "execution_count": 34,
     "metadata": {},
     "output_type": "execute_result"
    }
   ],
   "source": [
    "idtrain.head()"
   ]
  },
  {
   "cell_type": "code",
   "execution_count": 35,
   "metadata": {},
   "outputs": [
    {
     "name": "stdout",
     "output_type": "stream",
     "text": [
      "Suburb object 0\n",
      "Address object 0\n",
      "Rooms int64 0\n",
      "Type object 0\n",
      "Price int64 0\n",
      "Method object 0\n",
      "SellerG object 0\n",
      "Distance float64 0\n",
      "Postcode int64 0\n",
      "Bedroom2 float64 1559\n",
      "Bathroom float64 1559\n",
      "Car float64 1559\n",
      "Landsize float64 1564\n",
      "BuildingArea float64 4209\n",
      "YearBuilt float64 3717\n",
      "CouncilArea object 1564\n",
      "******************************\n",
      "Suburb object 0\n",
      "Address object 0\n",
      "Rooms int64 0\n",
      "Type object 0\n",
      "Method object 0\n",
      "SellerG object 0\n",
      "Distance float64 0\n",
      "Postcode int64 0\n",
      "Bedroom2 float64 419\n",
      "Bathroom float64 419\n",
      "Car float64 419\n",
      "Landsize float64 421\n",
      "BuildingArea float64 1060\n",
      "YearBuilt float64 943\n",
      "CouncilArea object 421\n"
     ]
    }
   ],
   "source": [
    " for i in idtrain.columns:\n",
    "     print(i,idtrain[i].dtype, idtrain[i].isnull().sum())\n",
    "\n",
    "print(\"*\"*30)\n",
    " for i in idtest.columns:\n",
    "     print(i,idtest[i].dtype, idtest[i].isnull().sum())     \n",
    "\n",
    "     "
   ]
  },
  {
   "cell_type": "code",
   "execution_count": 36,
   "metadata": {},
   "outputs": [],
   "source": [
    "## councilarea is of object type and has too many null values\n",
    "## lets delete this column from both test and train dataset\n",
    "\n",
    "X_train = idtrain.drop([\"CouncilArea\"],axis=1)\n",
    "X_valid = idtest.drop(\"CouncilArea\",axis=1)"
   ]
  },
  {
   "cell_type": "code",
   "execution_count": 37,
   "metadata": {},
   "outputs": [
    {
     "name": "stdout",
     "output_type": "stream",
     "text": [
      "{'Suburb', 'Method', 'Type', 'SellerG', 'Address'}\n"
     ]
    }
   ],
   "source": [
    "object_cols = [col for col in X_train.columns if X_train[col].dtype=='object']\n",
    "print(set(object_cols))"
   ]
  },
  {
   "cell_type": "code",
   "execution_count": 38,
   "metadata": {},
   "outputs": [
    {
     "data": {
      "text/plain": [
       "['Suburb', 'Type', 'Method']"
      ]
     },
     "execution_count": 38,
     "metadata": {},
     "output_type": "execute_result"
    }
   ],
   "source": [
    "good_label_cols = [col for col in object_cols if set(X_valid[col]).issubset(set(X_train[col]))]\n",
    "good_label_cols"
   ]
  },
  {
   "cell_type": "code",
   "execution_count": 39,
   "metadata": {},
   "outputs": [
    {
     "data": {
      "text/plain": [
       "['Address', 'SellerG']"
      ]
     },
     "execution_count": 39,
     "metadata": {},
     "output_type": "execute_result"
    }
   ],
   "source": [
    "bad_label_cols = list(set(object_cols) - set(good_label_cols))\n",
    "bad_label_cols"
   ]
  },
  {
   "cell_type": "code",
   "execution_count": 40,
   "metadata": {},
   "outputs": [],
   "source": [
    "from sklearn.preprocessing import OrdinalEncoder\n",
    "\n",
    "# Drop categorical columns that will not be encoded\n",
    "label_X_train = X_train.drop(bad_label_cols, axis=1)\n",
    "label_X_valid = X_valid.drop(bad_label_cols, axis=1)\n",
    "\n",
    "# Apply ordinal encoder \n",
    "# Your code here\n",
    "\n",
    "ord_train_data = X_train[good_label_cols].copy()\n",
    "ord_valid_data = X_valid[good_label_cols].copy()\n",
    "\n",
    "ordinal_encoder = OrdinalEncoder()\n",
    "ord_train_data = pd.DataFrame(ordinal_encoder.fit_transform(ord_train_data))\n",
    "ord_valid_data = pd.DataFrame(ordinal_encoder.transform(ord_valid_data))\n",
    "\n",
    "ord_train_data.index = X_train.index\n",
    "ord_valid_data.index = X_valid.index\n",
    "    \n",
    "label_X_train.drop(good_label_cols,axis=1,inplace=True)\n",
    "label_X_valid.drop(good_label_cols,axis=1,inplace=True)\n",
    "\n",
    "label_X_train = pd.concat([label_X_train,ord_train_data],axis=1)\n",
    "label_X_valid = pd.concat([label_X_valid,ord_valid_data],axis=1)\n",
    "\n",
    "    \n"
   ]
  },
  {
   "cell_type": "code",
   "execution_count": 41,
   "metadata": {},
   "outputs": [
    {
     "name": "stdout",
     "output_type": "stream",
     "text": [
      "Rooms int64 0\n",
      "Price int64 0\n",
      "Distance float64 0\n",
      "Postcode int64 0\n",
      "Bedroom2 float64 1559\n",
      "Bathroom float64 1559\n",
      "Car float64 1559\n",
      "Landsize float64 1564\n",
      "BuildingArea float64 4209\n",
      "YearBuilt float64 3717\n",
      "0 float64 0\n",
      "1 float64 0\n",
      "2 float64 0\n",
      "******************************\n",
      "Rooms int64 0\n",
      "Distance float64 0\n",
      "Postcode int64 0\n",
      "Bedroom2 float64 419\n",
      "Bathroom float64 419\n",
      "Car float64 419\n",
      "Landsize float64 421\n",
      "BuildingArea float64 1060\n",
      "YearBuilt float64 943\n",
      "0 float64 0\n",
      "1 float64 0\n",
      "2 float64 0\n"
     ]
    }
   ],
   "source": [
    " for i in label_X_train.columns:\n",
    "     print(i,label_X_train[i].dtype, label_X_train[i].isnull().sum())\n",
    "\n",
    "print(\"*\"*30)\n",
    " for i in label_X_valid.columns:\n",
    "     print(i,label_X_valid[i].dtype, label_X_valid[i].isnull().sum())     \n",
    "\n",
    "     "
   ]
  },
  {
   "cell_type": "code",
   "execution_count": 42,
   "metadata": {},
   "outputs": [],
   "source": [
    "X_full = label_X_train.copy()\n",
    "X_test_full = label_X_valid.copy()"
   ]
  },
  {
   "cell_type": "code",
   "execution_count": 45,
   "metadata": {},
   "outputs": [],
   "source": [
    "X = X_full.select_dtypes(exclude=['object'])\n",
    "X_test = X_test_full.select_dtypes(exclude=['object'])"
   ]
  },
  {
   "cell_type": "code",
   "execution_count": 47,
   "metadata": {},
   "outputs": [
    {
     "name": "stdout",
     "output_type": "stream",
     "text": [
      "['Bedroom2', 'Bathroom', 'Car', 'Landsize', 'BuildingArea', 'YearBuilt']\n"
     ]
    },
    {
     "data": {
      "text/plain": [
       "['Rooms', 'Price', 'Distance', 'Postcode', 0, 1, 2]"
      ]
     },
     "execution_count": 47,
     "metadata": {},
     "output_type": "execute_result"
    }
   ],
   "source": [
    "cols_with_missing_values = [col for col in X.columns if X[col].isnull().any()]\n",
    "print(cols_with_missing_values)\n",
    "\n",
    "cols_with_all = [ col for col in X.columns if not  X[col].isnull().any()]\n",
    "cols_with_all"
   ]
  },
  {
   "cell_type": "code",
   "execution_count": 48,
   "metadata": {},
   "outputs": [],
   "source": [
    "from sklearn.ensemble import RandomForestRegressor, GradientBoostingRegressor\n",
    "\n",
    "\n",
    "def nan_predictor_train(col):\n",
    "    cols_with_all = [col for col in X.columns if not X[col].isnull().any()]\n",
    "    cols_used = cols_with_all[:]\n",
    "    cols_used.append(col)\n",
    "    data = X[cols_used]\n",
    "    print(f'before deleting nan values: {data.shape}')\n",
    "    data_train = data.dropna(axis=0)\n",
    "    print(f'after deleting nan values: {data_train.shape}')\n",
    "    target_train = data_train[col]\n",
    "    features_train = data_train.drop([col],axis=1)\n",
    "    \n",
    "    rf_model = RandomForestRegressor(n_estimators=500, random_state=0)\n",
    "    rf_model.fit(features_train, target_train)\n",
    "    gmb_model = GradientBoostingRegressor(n_estimators=500, random_state=0)\n",
    "    gmb_model.fit(features_train, target_train)\n",
    "    \n",
    "    features_test = data[cols_with_all]\n",
    "    pred1 = rf_model.predict(features_test)\n",
    "    pred2 = gmb_model.predict(features_test)\n",
    "    pred = (pred1 + pred2) / 2\n",
    "    X[col] = pred\n"
   ]
  },
  {
   "cell_type": "code",
   "execution_count": 49,
   "metadata": {},
   "outputs": [
    {
     "name": "stdout",
     "output_type": "stream",
     "text": [
      "before deleting nan values: (7536, 8)\n",
      "after deleting nan values: (5977, 8)\n",
      "before deleting nan values: (7536, 9)\n",
      "after deleting nan values: (5977, 9)\n",
      "before deleting nan values: (7536, 10)\n",
      "after deleting nan values: (5977, 10)\n",
      "before deleting nan values: (7536, 11)\n",
      "after deleting nan values: (5972, 11)\n",
      "before deleting nan values: (7536, 12)\n",
      "after deleting nan values: (3327, 12)\n",
      "before deleting nan values: (7536, 13)\n",
      "after deleting nan values: (3819, 13)\n"
     ]
    }
   ],
   "source": [
    "for col in cols_with_missing_value:\n",
    "    nan_predictor_train(col)"
   ]
  },
  {
   "cell_type": "code",
   "execution_count": null,
   "metadata": {},
   "outputs": [],
   "source": []
  },
  {
   "cell_type": "code",
   "execution_count": 50,
   "metadata": {},
   "outputs": [
    {
     "name": "stdout",
     "output_type": "stream",
     "text": [
      "['Bedroom2', 'Bathroom', 'Car', 'Landsize', 'BuildingArea', 'YearBuilt']\n",
      "['Rooms', 'Distance', 'Postcode', 0, 1, 2]\n"
     ]
    }
   ],
   "source": [
    "cols_with_nan = [col for col in X_test.columns if X_test[col].isnull().any()]\n",
    "print(cols_with_nan)\n",
    "cols_with_all = [col for col in X_test.columns if not X_test[col].isnull().any()]\n",
    "print(cols_with_all)"
   ]
  },
  {
   "cell_type": "code",
   "execution_count": 51,
   "metadata": {},
   "outputs": [],
   "source": [
    "from sklearn.ensemble import RandomForestRegressor, GradientBoostingRegressor\n",
    "\n",
    "\n",
    "def nan_predictor_test(col):\n",
    "    cols_with_all = [col for col in X_test.columns if not X_test[col].isnull().any()]\n",
    "    cols_used = cols_with_all[:]\n",
    "    cols_used.append(col)\n",
    "    data = X_test[cols_used]\n",
    "    print(f'before deleting nan values: {data.shape}')\n",
    "    data_train = data.dropna(axis=0)\n",
    "    print(f'after deleting nan values: {data_train.shape}')\n",
    "    target_train = data_train[col]\n",
    "    features_train = data_train.drop([col],axis=1)\n",
    "    \n",
    "    rf_model = RandomForestRegressor(n_estimators=500, random_state=0)\n",
    "    rf_model.fit(features_train, target_train)\n",
    "    gmb_model = GradientBoostingRegressor(n_estimators=500, random_state=0)\n",
    "    gmb_model.fit(features_train, target_train)\n",
    "    \n",
    "    features_test = data[cols_with_all]\n",
    "    pred1 = rf_model.predict(features_test)\n",
    "    pred2 = gmb_model.predict(features_test)\n",
    "    pred = (pred1 + pred2) / 2\n",
    "    X_test[col] = pred\n"
   ]
  },
  {
   "cell_type": "code",
   "execution_count": 52,
   "metadata": {},
   "outputs": [
    {
     "name": "stdout",
     "output_type": "stream",
     "text": [
      "before deleting nan values: (1885, 7)\n",
      "after deleting nan values: (1466, 7)\n",
      "before deleting nan values: (1885, 8)\n",
      "after deleting nan values: (1466, 8)\n",
      "before deleting nan values: (1885, 9)\n",
      "after deleting nan values: (1466, 9)\n",
      "before deleting nan values: (1885, 10)\n",
      "after deleting nan values: (1464, 10)\n",
      "before deleting nan values: (1885, 11)\n",
      "after deleting nan values: (825, 11)\n",
      "before deleting nan values: (1885, 12)\n",
      "after deleting nan values: (942, 12)\n"
     ]
    }
   ],
   "source": [
    "for col in ['Bedroom2', 'Bathroom', 'Car', 'Landsize', 'BuildingArea', 'YearBuilt']:\n",
    "    nan_predictor_test(col)"
   ]
  },
  {
   "cell_type": "code",
   "execution_count": 62,
   "metadata": {},
   "outputs": [
    {
     "name": "stdout",
     "output_type": "stream",
     "text": [
      "(7536, 13)\n"
     ]
    },
    {
     "data": {
      "text/plain": [
       "Rooms           0\n",
       "Price           0\n",
       "Distance        0\n",
       "Postcode        0\n",
       "Bedroom2        0\n",
       "Bathroom        0\n",
       "Car             0\n",
       "Landsize        0\n",
       "BuildingArea    0\n",
       "YearBuilt       0\n",
       "0               0\n",
       "1               0\n",
       "2               0\n",
       "dtype: int64"
      ]
     },
     "execution_count": 62,
     "metadata": {},
     "output_type": "execute_result"
    }
   ],
   "source": [
    "print(X.shape)\n",
    "X.isnull().sum()"
   ]
  },
  {
   "cell_type": "code",
   "execution_count": 61,
   "metadata": {},
   "outputs": [
    {
     "name": "stdout",
     "output_type": "stream",
     "text": [
      "(1885, 12)\n"
     ]
    },
    {
     "data": {
      "text/plain": [
       "Rooms           0\n",
       "Distance        0\n",
       "Postcode        0\n",
       "Bedroom2        0\n",
       "Bathroom        0\n",
       "Car             0\n",
       "Landsize        0\n",
       "BuildingArea    0\n",
       "YearBuilt       0\n",
       "0               0\n",
       "1               0\n",
       "2               0\n",
       "dtype: int64"
      ]
     },
     "execution_count": 61,
     "metadata": {},
     "output_type": "execute_result"
    }
   ],
   "source": [
    "print(X_test.shape)\n",
    "X_test.isnull().sum()"
   ]
  },
  {
   "cell_type": "code",
   "execution_count": 63,
   "metadata": {},
   "outputs": [],
   "source": [
    "## So now no null values\n",
    "## lets go on model building"
   ]
  },
  {
   "cell_type": "code",
   "execution_count": 64,
   "metadata": {},
   "outputs": [],
   "source": [
    "train_target = X.Price\n",
    "train_features = X.drop(['Price'], axis=1)"
   ]
  },
  {
   "cell_type": "code",
   "execution_count": 68,
   "metadata": {},
   "outputs": [],
   "source": [
    "X_train, X_valid, y_train, y_valid = train_test_split(train_features, train_target, train_size=0.8, test_size=0.2,random_state=0)"
   ]
  },
  {
   "cell_type": "code",
   "execution_count": 69,
   "metadata": {},
   "outputs": [],
   "source": [
    "import numpy as np\n",
    "from sklearn.metrics import mean_squared_error, mean_absolute_error\n",
    "from sklearn.ensemble import GradientBoostingRegressor"
   ]
  },
  {
   "cell_type": "code",
   "execution_count": 70,
   "metadata": {},
   "outputs": [],
   "source": [
    "def final_pred(n):\n",
    "    rf_model = RandomForestRegressor(random_state=1, n_estimators=n)\n",
    "    rf_model.fit(X_train,y_train)\n",
    "    rf_pred = rf_model.predict(X_valid)\n",
    "\n",
    "    gbm_model = GradientBoostingRegressor(random_state=1, n_estimators=n)\n",
    "    gbm_model.fit(X_train,y_train)\n",
    "    gbm_pred = gbm_model.predict(X_valid)\n",
    "\n",
    "    pred = (rf_pred + gbm_pred)/2\n",
    "    return pred"
   ]
  },
  {
   "cell_type": "code",
   "execution_count": 71,
   "metadata": {},
   "outputs": [
    {
     "name": "stdout",
     "output_type": "stream",
     "text": [
      "0.9715801612572973\n"
     ]
    }
   ],
   "source": [
    "for n in [500]:\n",
    "    pred = final_pred(n)\n",
    "    print(212467/(np.sqrt(mean_squared_error(y_valid,pred))))"
   ]
  },
  {
   "cell_type": "code",
   "execution_count": 72,
   "metadata": {},
   "outputs": [],
   "source": [
    "rf_model = RandomForestRegressor(random_state=1, n_estimators=700)\n",
    "rf_model.fit(X_train,y_train)\n",
    "rf_pred = rf_model.predict(X_test)\n",
    "\n",
    "gbm_model = GradientBoostingRegressor(random_state=1, n_estimators=700)\n",
    "gbm_model.fit(X_train,y_train)\n",
    "gbm_pred = gbm_model.predict(X_test)\n",
    "\n",
    "pred = (rf_pred + gbm_pred)/2"
   ]
  },
  {
   "cell_type": "code",
   "execution_count": 74,
   "metadata": {},
   "outputs": [
    {
     "data": {
      "text/plain": [
       "1885"
      ]
     },
     "execution_count": 74,
     "metadata": {},
     "output_type": "execute_result"
    }
   ],
   "source": [
    "len(pred)"
   ]
  },
  {
   "cell_type": "code",
   "execution_count": 75,
   "metadata": {},
   "outputs": [
    {
     "data": {
      "text/plain": [
       "1885"
      ]
     },
     "execution_count": 75,
     "metadata": {},
     "output_type": "execute_result"
    }
   ],
   "source": [
    "len(idtest)"
   ]
  },
  {
   "cell_type": "code",
   "execution_count": 77,
   "metadata": {},
   "outputs": [],
   "source": [
    "pred = pd.DataFrame(pred)\n",
    "pred.to_csv('Pooja_bharadiya_P1_part2.csv', index=False)"
   ]
  },
  {
   "cell_type": "code",
   "execution_count": null,
   "metadata": {},
   "outputs": [],
   "source": []
  },
  {
   "cell_type": "code",
   "execution_count": null,
   "metadata": {},
   "outputs": [],
   "source": []
  }
 ],
 "metadata": {
  "interpreter": {
   "hash": "6b6e8e5f654a8e9bb9e69623dd15cf09cd0bf1a8f120d3fdbf2d2c9cdde81e19"
  },
  "kernelspec": {
   "display_name": "Python 3.6.13 64-bit ('gpu': conda)",
   "name": "python3"
  },
  "language_info": {
   "codemirror_mode": {
    "name": "ipython",
    "version": 3
   },
   "file_extension": ".py",
   "mimetype": "text/x-python",
   "name": "python",
   "nbconvert_exporter": "python",
   "pygments_lexer": "ipython3",
   "version": "3.6.13"
  },
  "orig_nbformat": 4
 },
 "nbformat": 4,
 "nbformat_minor": 2
}
