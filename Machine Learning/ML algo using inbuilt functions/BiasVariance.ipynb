{
 "cells": [
  {
   "cell_type": "markdown",
   "metadata": {},
   "source": [
    "Because of selection of diff points for training and testing dataset, theres diff. in the error for various models.\n",
    "\n",
    "Many people choode diff. points as training and testing datasets. So everyone will have diff. errors.\n",
    "\n",
    "For one set, you may get error as 100 and for other, error as 27. Theres a great difference between these test erros: Its Called as \"HIGH VARIANCE\"\n",
    "\n",
    "\n",
    "\n",
    "HIGH VARIANCE:\n",
    "\n",
    "Here, test error varies greatly based on the selection of the training dataset"
   ]
  },
  {
   "cell_type": "markdown",
   "metadata": {},
   "source": [
    "## HIGH VARIANCE:\n",
    "\n",
    "Here, test error varies greatly based on the selection of the training dataset"
   ]
  },
  {
   "cell_type": "markdown",
   "metadata": {},
   "source": [
    "## Low Variance:\n",
    "Less diff. in the testing errors"
   ]
  },
  {
   "cell_type": "markdown",
   "metadata": {},
   "source": [
    "## Bias:\n",
    "\n",
    "Models ability to capture the pattern/insights from the training datset.\n",
    "\n",
    "More the train error, more the bias\n",
    "\n"
   ]
  },
  {
   "cell_type": "markdown",
   "metadata": {},
   "source": [
    "## Take Home Lesson\n",
    "Overfit model : high variance\n",
    "\n",
    "Underfit Model: High bias\n",
    "\n",
    "Balanced model : Low variance and low bias"
   ]
  },
  {
   "cell_type": "markdown",
   "metadata": {},
   "source": [
    " "
   ]
  },
  {
   "cell_type": "markdown",
   "metadata": {},
   "source": [
    "If theres low variance for the model, the predicted values will be clustered togethere and opposite for high variance.\n",
    "\n"
   ]
  },
  {
   "cell_type": "markdown",
   "metadata": {},
   "source": [
    "## ways to get balanced fit model:\n",
    "        1. Cross validation\n",
    "        2. Regularization\n",
    "        3. Dimensionality Reduction\n",
    "        4. Bagging/Boosting"
   ]
  },
  {
   "cell_type": "markdown",
   "metadata": {},
   "source": []
  }
 ],
 "metadata": {
  "language_info": {
   "name": "python"
  },
  "orig_nbformat": 4
 },
 "nbformat": 4,
 "nbformat_minor": 2
}
