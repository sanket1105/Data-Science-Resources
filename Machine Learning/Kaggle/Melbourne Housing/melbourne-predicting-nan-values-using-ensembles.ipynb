{
 "cells": [
  {
   "cell_type": "markdown",
   "id": "ccacc967",
   "metadata": {
    "papermill": {
     "duration": 0.021909,
     "end_time": "2021-09-20T15:13:13.637179",
     "exception": false,
     "start_time": "2021-09-20T15:13:13.615270",
     "status": "completed"
    },
    "tags": []
   },
   "source": [
    "## Titanic: Predicting `NaN` values using Random Forest instead of imputing\n",
    "\n",
    "- This method of imputing is time taking and requires more effort than using simple imputers or dropping them, but it also works out of the box."
   ]
  },
  {
   "cell_type": "code",
   "execution_count": 1,
   "id": "01d5597b",
   "metadata": {
    "execution": {
     "iopub.execute_input": "2021-09-20T15:13:13.692859Z",
     "iopub.status.busy": "2021-09-20T15:13:13.692210Z",
     "iopub.status.idle": "2021-09-20T15:13:13.698428Z",
     "shell.execute_reply": "2021-09-20T15:13:13.699183Z",
     "shell.execute_reply.started": "2021-09-20T05:49:53.516483Z"
    },
    "papermill": {
     "duration": 0.040912,
     "end_time": "2021-09-20T15:13:13.699576",
     "exception": false,
     "start_time": "2021-09-20T15:13:13.658664",
     "status": "completed"
    },
    "tags": []
   },
   "outputs": [
    {
     "data": {
      "text/plain": [
       "['CaliforniaHousing.csv',\n",
       " 'Chapter 3 - wine.csv',\n",
       " 'MelbourneTest.csv',\n",
       " 'MelbourneTrain.csv']"
      ]
     },
     "execution_count": 1,
     "metadata": {},
     "output_type": "execute_result"
    }
   ],
   "source": [
    "import os\n",
    "os.chdir(\"E:\\Machine learning folder\\Datasets\")\n",
    "\n",
    "os.listdir(\"E:\\Machine learning folder\\Datasets\")"
   ]
  },
  {
   "cell_type": "markdown",
   "id": "ba108cba",
   "metadata": {
    "papermill": {
     "duration": 0.021034,
     "end_time": "2021-09-20T15:13:13.743963",
     "exception": false,
     "start_time": "2021-09-20T15:13:13.722929",
     "status": "completed"
    },
    "tags": []
   },
   "source": [
    "### How ?\n",
    "\n",
    "- Select the columns that has missing vlaues\n",
    "- Seperate the rows without missing values as a training data and with missing values as test data\n",
    "- Train your model on the training data then use it to infer missing values in test data\n",
    "- In the last merge them all and finally use it to predict the final target"
   ]
  },
  {
   "cell_type": "code",
   "execution_count": 9,
   "id": "f8a886b6",
   "metadata": {
    "execution": {
     "iopub.execute_input": "2021-09-20T15:13:13.791397Z",
     "iopub.status.busy": "2021-09-20T15:13:13.788253Z",
     "iopub.status.idle": "2021-09-20T15:13:14.843572Z",
     "shell.execute_reply": "2021-09-20T15:13:14.844137Z",
     "shell.execute_reply.started": "2021-09-20T05:49:53.555241Z"
    },
    "papermill": {
     "duration": 1.079716,
     "end_time": "2021-09-20T15:13:14.844309",
     "exception": false,
     "start_time": "2021-09-20T15:13:13.764593",
     "status": "completed"
    },
    "tags": []
   },
   "outputs": [],
   "source": [
    "import pandas as pd\n",
    "from sklearn.model_selection import train_test_split\n",
    "\n",
    "\n",
    "X_full = pd.read_csv(\"MelbourneTrain.csv\", index_col='Id')\n",
    "X_test_full = pd.read_csv(\"MelbourneTest.csv\", index_col='Id')\n",
    "\n",
    "\n",
    "\n",
    "X = X_full.select_dtypes(exclude=['object'])\n",
    "X_test = X_test_full.select_dtypes(exclude=['object'])\n"
   ]
  },
  {
   "cell_type": "markdown",
   "id": "9aac0a53",
   "metadata": {
    "papermill": {
     "duration": 0.020468,
     "end_time": "2021-09-20T15:13:14.887566",
     "exception": false,
     "start_time": "2021-09-20T15:13:14.867098",
     "status": "completed"
    },
    "tags": []
   },
   "source": [
    "### Using Random Forest and GBM for missing values prediction in columns"
   ]
  },
  {
   "cell_type": "code",
   "execution_count": null,
   "id": "97dd842c",
   "metadata": {
    "execution": {
     "iopub.execute_input": "2021-09-20T15:13:14.946856Z",
     "iopub.status.busy": "2021-09-20T15:13:14.945803Z",
     "iopub.status.idle": "2021-09-20T15:13:14.955996Z",
     "shell.execute_reply": "2021-09-20T15:13:14.955399Z",
     "shell.execute_reply.started": "2021-09-20T05:49:54.521146Z"
    },
    "papermill": {
     "duration": 0.047863,
     "end_time": "2021-09-20T15:13:14.956149",
     "exception": false,
     "start_time": "2021-09-20T15:13:14.908286",
     "status": "completed"
    },
    "tags": []
   },
   "outputs": [],
   "source": [
    "\n",
    "cols_with_missing_value = [col for col in X.columns if X[col].isnull().any()]\n",
    "print(cols_with_missing_value)\n",
    "cols_with_all = [col for col in X.columns if not X[col].isnull().any()]\n",
    "print(cols_with_all)"
   ]
  },
  {
   "cell_type": "code",
   "execution_count": 4,
   "id": "890eba8f",
   "metadata": {
    "execution": {
     "iopub.execute_input": "2021-09-20T15:13:15.009557Z",
     "iopub.status.busy": "2021-09-20T15:13:15.008695Z",
     "iopub.status.idle": "2021-09-20T15:13:15.191196Z",
     "shell.execute_reply": "2021-09-20T15:13:15.191732Z",
     "shell.execute_reply.started": "2021-09-20T05:49:54.542126Z"
    },
    "papermill": {
     "duration": 0.214532,
     "end_time": "2021-09-20T15:13:15.191929",
     "exception": false,
     "start_time": "2021-09-20T15:13:14.977397",
     "status": "completed"
    },
    "tags": []
   },
   "outputs": [],
   "source": [
    "from sklearn.ensemble import RandomForestRegressor, GradientBoostingRegressor\n",
    "\n",
    "\n",
    "def nan_predictor_train(col):\n",
    "    cols_with_all = [col for col in X.columns if not X[col].isnull().any()]\n",
    "    cols_used = cols_with_all[:]\n",
    "    cols_used.append(col)\n",
    "    data = X[cols_used]\n",
    "    print(f'before deleting nan values: {data.shape}')\n",
    "    data_train = data.dropna(axis=0)\n",
    "    print(f'after deleting nan values: {data_train.shape}')\n",
    "    target_train = data_train[col]\n",
    "    features_train = data_train.drop([col],axis=1)\n",
    "    \n",
    "    rf_model = RandomForestRegressor(n_estimators=500, random_state=0)\n",
    "    rf_model.fit(features_train, target_train)\n",
    "    gmb_model = GradientBoostingRegressor(n_estimators=500, random_state=0)\n",
    "    gmb_model.fit(features_train, target_train)\n",
    "    \n",
    "    features_test = data[cols_with_all]\n",
    "    pred1 = rf_model.predict(features_test)\n",
    "    pred2 = gmb_model.predict(features_test)\n",
    "    pred = (pred1 + pred2) / 2\n",
    "    X[col] = pred\n"
   ]
  },
  {
   "cell_type": "code",
   "execution_count": 5,
   "id": "592798f6",
   "metadata": {
    "execution": {
     "iopub.execute_input": "2021-09-20T15:13:15.246581Z",
     "iopub.status.busy": "2021-09-20T15:13:15.245897Z",
     "iopub.status.idle": "2021-09-20T15:13:46.424714Z",
     "shell.execute_reply": "2021-09-20T15:13:46.425256Z",
     "shell.execute_reply.started": "2021-09-20T05:49:54.740935Z"
    },
    "papermill": {
     "duration": 31.212172,
     "end_time": "2021-09-20T15:13:46.425423",
     "exception": false,
     "start_time": "2021-09-20T15:13:15.213251",
     "status": "completed"
    },
    "tags": []
   },
   "outputs": [
    {
     "name": "stdout",
     "output_type": "stream",
     "text": [
      "before deleting nan values: (1460, 35)\n",
      "after deleting nan values: (1201, 35)\n"
     ]
    },
    {
     "name": "stderr",
     "output_type": "stream",
     "text": [
      "/opt/conda/lib/python3.7/site-packages/ipykernel_launcher.py:24: SettingWithCopyWarning: \n",
      "A value is trying to be set on a copy of a slice from a DataFrame.\n",
      "Try using .loc[row_indexer,col_indexer] = value instead\n",
      "\n",
      "See the caveats in the documentation: https://pandas.pydata.org/pandas-docs/stable/user_guide/indexing.html#returning-a-view-versus-a-copy\n"
     ]
    },
    {
     "name": "stdout",
     "output_type": "stream",
     "text": [
      "before deleting nan values: (1460, 36)\n",
      "after deleting nan values: (1452, 36)\n"
     ]
    },
    {
     "name": "stderr",
     "output_type": "stream",
     "text": [
      "/opt/conda/lib/python3.7/site-packages/ipykernel_launcher.py:24: SettingWithCopyWarning: \n",
      "A value is trying to be set on a copy of a slice from a DataFrame.\n",
      "Try using .loc[row_indexer,col_indexer] = value instead\n",
      "\n",
      "See the caveats in the documentation: https://pandas.pydata.org/pandas-docs/stable/user_guide/indexing.html#returning-a-view-versus-a-copy\n"
     ]
    },
    {
     "name": "stdout",
     "output_type": "stream",
     "text": [
      "before deleting nan values: (1460, 37)\n",
      "after deleting nan values: (1379, 37)\n"
     ]
    },
    {
     "name": "stderr",
     "output_type": "stream",
     "text": [
      "/opt/conda/lib/python3.7/site-packages/ipykernel_launcher.py:24: SettingWithCopyWarning: \n",
      "A value is trying to be set on a copy of a slice from a DataFrame.\n",
      "Try using .loc[row_indexer,col_indexer] = value instead\n",
      "\n",
      "See the caveats in the documentation: https://pandas.pydata.org/pandas-docs/stable/user_guide/indexing.html#returning-a-view-versus-a-copy\n"
     ]
    }
   ],
   "source": [
    "for col in cols_with_missing_value:\n",
    "    nan_predictor_train(col)"
   ]
  },
  {
   "cell_type": "code",
   "execution_count": 6,
   "id": "cf48b5a6",
   "metadata": {
    "execution": {
     "iopub.execute_input": "2021-09-20T15:13:46.488265Z",
     "iopub.status.busy": "2021-09-20T15:13:46.487598Z",
     "iopub.status.idle": "2021-09-20T15:13:46.490374Z",
     "shell.execute_reply": "2021-09-20T15:13:46.490884Z",
     "shell.execute_reply.started": "2021-09-20T05:50:25.442319Z"
    },
    "papermill": {
     "duration": 0.042959,
     "end_time": "2021-09-20T15:13:46.491051",
     "exception": false,
     "start_time": "2021-09-20T15:13:46.448092",
     "status": "completed"
    },
    "tags": []
   },
   "outputs": [
    {
     "name": "stdout",
     "output_type": "stream",
     "text": [
      "['LotFrontage', 'MasVnrArea', 'BsmtFinSF1', 'BsmtFinSF2', 'BsmtUnfSF', 'TotalBsmtSF', 'BsmtFullBath', 'BsmtHalfBath', 'GarageYrBlt', 'GarageCars', 'GarageArea']\n",
      "['MSSubClass', 'LotArea', 'OverallQual', 'OverallCond', 'YearBuilt', 'YearRemodAdd', '1stFlrSF', '2ndFlrSF', 'LowQualFinSF', 'GrLivArea', 'FullBath', 'HalfBath', 'BedroomAbvGr', 'KitchenAbvGr', 'TotRmsAbvGrd', 'Fireplaces', 'WoodDeckSF', 'OpenPorchSF', 'EnclosedPorch', '3SsnPorch', 'ScreenPorch', 'PoolArea', 'MiscVal', 'MoSold', 'YrSold']\n"
     ]
    }
   ],
   "source": [
    "cols_with_nan = [col for col in X_test.columns if X_test[col].isnull().any()]\n",
    "print(cols_with_nan)\n",
    "cols_with_all = [col for col in X_test.columns if not X_test[col].isnull().any()]\n",
    "print(cols_with_all)"
   ]
  },
  {
   "cell_type": "code",
   "execution_count": 7,
   "id": "a38b60fe",
   "metadata": {
    "execution": {
     "iopub.execute_input": "2021-09-20T15:13:46.546778Z",
     "iopub.status.busy": "2021-09-20T15:13:46.546032Z",
     "iopub.status.idle": "2021-09-20T15:13:46.548421Z",
     "shell.execute_reply": "2021-09-20T15:13:46.547837Z",
     "shell.execute_reply.started": "2021-09-20T05:50:25.458365Z"
    },
    "papermill": {
     "duration": 0.034371,
     "end_time": "2021-09-20T15:13:46.548576",
     "exception": false,
     "start_time": "2021-09-20T15:13:46.514205",
     "status": "completed"
    },
    "tags": []
   },
   "outputs": [],
   "source": [
    "from sklearn.ensemble import RandomForestRegressor, GradientBoostingRegressor\n",
    "\n",
    "\n",
    "def nan_predictor_test(col):\n",
    "    cols_with_all = [col for col in X_test.columns if not X_test[col].isnull().any()]\n",
    "    cols_used = cols_with_all[:]\n",
    "    cols_used.append(col)\n",
    "    data = X_test[cols_used]\n",
    "    print(f'before deleting nan values: {data.shape}')\n",
    "    data_train = data.dropna(axis=0)\n",
    "    print(f'after deleting nan values: {data_train.shape}')\n",
    "    target_train = data_train[col]\n",
    "    features_train = data_train.drop([col],axis=1)\n",
    "    \n",
    "    rf_model = RandomForestRegressor(n_estimators=500, random_state=0)\n",
    "    rf_model.fit(features_train, target_train)\n",
    "    gmb_model = GradientBoostingRegressor(n_estimators=500, random_state=0)\n",
    "    gmb_model.fit(features_train, target_train)\n",
    "    \n",
    "    features_test = data[cols_with_all]\n",
    "    pred1 = rf_model.predict(features_test)\n",
    "    pred2 = gmb_model.predict(features_test)\n",
    "    pred = (pred1 + pred2) / 2\n",
    "    X_test[col] = pred\n"
   ]
  },
  {
   "cell_type": "code",
   "execution_count": 8,
   "id": "0bc68f5b",
   "metadata": {
    "execution": {
     "iopub.execute_input": "2021-09-20T15:13:46.631139Z",
     "iopub.status.busy": "2021-09-20T15:13:46.606306Z",
     "iopub.status.idle": "2021-09-20T15:15:40.201981Z",
     "shell.execute_reply": "2021-09-20T15:15:40.202493Z",
     "shell.execute_reply.started": "2021-09-20T05:50:25.474329Z"
    },
    "papermill": {
     "duration": 113.630653,
     "end_time": "2021-09-20T15:15:40.202693",
     "exception": false,
     "start_time": "2021-09-20T15:13:46.572040",
     "status": "completed"
    },
    "tags": []
   },
   "outputs": [
    {
     "name": "stdout",
     "output_type": "stream",
     "text": [
      "before deleting nan values: (1459, 26)\n",
      "after deleting nan values: (1232, 26)\n"
     ]
    },
    {
     "name": "stderr",
     "output_type": "stream",
     "text": [
      "/opt/conda/lib/python3.7/site-packages/ipykernel_launcher.py:24: SettingWithCopyWarning: \n",
      "A value is trying to be set on a copy of a slice from a DataFrame.\n",
      "Try using .loc[row_indexer,col_indexer] = value instead\n",
      "\n",
      "See the caveats in the documentation: https://pandas.pydata.org/pandas-docs/stable/user_guide/indexing.html#returning-a-view-versus-a-copy\n"
     ]
    },
    {
     "name": "stdout",
     "output_type": "stream",
     "text": [
      "before deleting nan values: (1459, 27)\n",
      "after deleting nan values: (1444, 27)\n"
     ]
    },
    {
     "name": "stderr",
     "output_type": "stream",
     "text": [
      "/opt/conda/lib/python3.7/site-packages/ipykernel_launcher.py:24: SettingWithCopyWarning: \n",
      "A value is trying to be set on a copy of a slice from a DataFrame.\n",
      "Try using .loc[row_indexer,col_indexer] = value instead\n",
      "\n",
      "See the caveats in the documentation: https://pandas.pydata.org/pandas-docs/stable/user_guide/indexing.html#returning-a-view-versus-a-copy\n"
     ]
    },
    {
     "name": "stdout",
     "output_type": "stream",
     "text": [
      "before deleting nan values: (1459, 28)\n",
      "after deleting nan values: (1458, 28)\n"
     ]
    },
    {
     "name": "stderr",
     "output_type": "stream",
     "text": [
      "/opt/conda/lib/python3.7/site-packages/ipykernel_launcher.py:24: SettingWithCopyWarning: \n",
      "A value is trying to be set on a copy of a slice from a DataFrame.\n",
      "Try using .loc[row_indexer,col_indexer] = value instead\n",
      "\n",
      "See the caveats in the documentation: https://pandas.pydata.org/pandas-docs/stable/user_guide/indexing.html#returning-a-view-versus-a-copy\n"
     ]
    },
    {
     "name": "stdout",
     "output_type": "stream",
     "text": [
      "before deleting nan values: (1459, 29)\n",
      "after deleting nan values: (1458, 29)\n"
     ]
    },
    {
     "name": "stderr",
     "output_type": "stream",
     "text": [
      "/opt/conda/lib/python3.7/site-packages/ipykernel_launcher.py:24: SettingWithCopyWarning: \n",
      "A value is trying to be set on a copy of a slice from a DataFrame.\n",
      "Try using .loc[row_indexer,col_indexer] = value instead\n",
      "\n",
      "See the caveats in the documentation: https://pandas.pydata.org/pandas-docs/stable/user_guide/indexing.html#returning-a-view-versus-a-copy\n"
     ]
    },
    {
     "name": "stdout",
     "output_type": "stream",
     "text": [
      "before deleting nan values: (1459, 30)\n",
      "after deleting nan values: (1458, 30)\n"
     ]
    },
    {
     "name": "stderr",
     "output_type": "stream",
     "text": [
      "/opt/conda/lib/python3.7/site-packages/ipykernel_launcher.py:24: SettingWithCopyWarning: \n",
      "A value is trying to be set on a copy of a slice from a DataFrame.\n",
      "Try using .loc[row_indexer,col_indexer] = value instead\n",
      "\n",
      "See the caveats in the documentation: https://pandas.pydata.org/pandas-docs/stable/user_guide/indexing.html#returning-a-view-versus-a-copy\n"
     ]
    },
    {
     "name": "stdout",
     "output_type": "stream",
     "text": [
      "before deleting nan values: (1459, 31)\n",
      "after deleting nan values: (1458, 31)\n"
     ]
    },
    {
     "name": "stderr",
     "output_type": "stream",
     "text": [
      "/opt/conda/lib/python3.7/site-packages/ipykernel_launcher.py:24: SettingWithCopyWarning: \n",
      "A value is trying to be set on a copy of a slice from a DataFrame.\n",
      "Try using .loc[row_indexer,col_indexer] = value instead\n",
      "\n",
      "See the caveats in the documentation: https://pandas.pydata.org/pandas-docs/stable/user_guide/indexing.html#returning-a-view-versus-a-copy\n"
     ]
    },
    {
     "name": "stdout",
     "output_type": "stream",
     "text": [
      "before deleting nan values: (1459, 32)\n",
      "after deleting nan values: (1457, 32)\n"
     ]
    },
    {
     "name": "stderr",
     "output_type": "stream",
     "text": [
      "/opt/conda/lib/python3.7/site-packages/ipykernel_launcher.py:24: SettingWithCopyWarning: \n",
      "A value is trying to be set on a copy of a slice from a DataFrame.\n",
      "Try using .loc[row_indexer,col_indexer] = value instead\n",
      "\n",
      "See the caveats in the documentation: https://pandas.pydata.org/pandas-docs/stable/user_guide/indexing.html#returning-a-view-versus-a-copy\n"
     ]
    },
    {
     "name": "stdout",
     "output_type": "stream",
     "text": [
      "before deleting nan values: (1459, 33)\n",
      "after deleting nan values: (1457, 33)\n"
     ]
    },
    {
     "name": "stderr",
     "output_type": "stream",
     "text": [
      "/opt/conda/lib/python3.7/site-packages/ipykernel_launcher.py:24: SettingWithCopyWarning: \n",
      "A value is trying to be set on a copy of a slice from a DataFrame.\n",
      "Try using .loc[row_indexer,col_indexer] = value instead\n",
      "\n",
      "See the caveats in the documentation: https://pandas.pydata.org/pandas-docs/stable/user_guide/indexing.html#returning-a-view-versus-a-copy\n"
     ]
    },
    {
     "name": "stdout",
     "output_type": "stream",
     "text": [
      "before deleting nan values: (1459, 34)\n",
      "after deleting nan values: (1381, 34)\n"
     ]
    },
    {
     "name": "stderr",
     "output_type": "stream",
     "text": [
      "/opt/conda/lib/python3.7/site-packages/ipykernel_launcher.py:24: SettingWithCopyWarning: \n",
      "A value is trying to be set on a copy of a slice from a DataFrame.\n",
      "Try using .loc[row_indexer,col_indexer] = value instead\n",
      "\n",
      "See the caveats in the documentation: https://pandas.pydata.org/pandas-docs/stable/user_guide/indexing.html#returning-a-view-versus-a-copy\n"
     ]
    },
    {
     "name": "stdout",
     "output_type": "stream",
     "text": [
      "before deleting nan values: (1459, 35)\n",
      "after deleting nan values: (1458, 35)\n"
     ]
    },
    {
     "name": "stderr",
     "output_type": "stream",
     "text": [
      "/opt/conda/lib/python3.7/site-packages/ipykernel_launcher.py:24: SettingWithCopyWarning: \n",
      "A value is trying to be set on a copy of a slice from a DataFrame.\n",
      "Try using .loc[row_indexer,col_indexer] = value instead\n",
      "\n",
      "See the caveats in the documentation: https://pandas.pydata.org/pandas-docs/stable/user_guide/indexing.html#returning-a-view-versus-a-copy\n"
     ]
    },
    {
     "name": "stdout",
     "output_type": "stream",
     "text": [
      "before deleting nan values: (1459, 36)\n",
      "after deleting nan values: (1458, 36)\n"
     ]
    },
    {
     "name": "stderr",
     "output_type": "stream",
     "text": [
      "/opt/conda/lib/python3.7/site-packages/ipykernel_launcher.py:24: SettingWithCopyWarning: \n",
      "A value is trying to be set on a copy of a slice from a DataFrame.\n",
      "Try using .loc[row_indexer,col_indexer] = value instead\n",
      "\n",
      "See the caveats in the documentation: https://pandas.pydata.org/pandas-docs/stable/user_guide/indexing.html#returning-a-view-versus-a-copy\n"
     ]
    }
   ],
   "source": [
    "for col in ['LotFrontage','MasVnrArea','BsmtFinSF1','BsmtFinSF2','BsmtUnfSF','TotalBsmtSF','BsmtFullBath','BsmtHalfBath','GarageYrBlt','GarageCars','GarageArea']:\n",
    "    nan_predictor_test(col)"
   ]
  },
  {
   "cell_type": "code",
   "execution_count": 9,
   "id": "3ffc8c65",
   "metadata": {
    "execution": {
     "iopub.execute_input": "2021-09-20T15:15:40.271789Z",
     "iopub.status.busy": "2021-09-20T15:15:40.265973Z",
     "iopub.status.idle": "2021-09-20T15:15:40.274800Z",
     "shell.execute_reply": "2021-09-20T15:15:40.274142Z",
     "shell.execute_reply.started": "2021-09-20T05:52:17.543687Z"
    },
    "papermill": {
     "duration": 0.041942,
     "end_time": "2021-09-20T15:15:40.274941",
     "exception": false,
     "start_time": "2021-09-20T15:15:40.232999",
     "status": "completed"
    },
    "tags": []
   },
   "outputs": [],
   "source": [
    "object_cols = [col for col in X_full.columns if X_full[col].dtype == 'object']"
   ]
  },
  {
   "cell_type": "markdown",
   "id": "a1878b44",
   "metadata": {
    "execution": {
     "iopub.execute_input": "2021-09-20T06:37:56.038571Z",
     "iopub.status.busy": "2021-09-20T06:37:56.038136Z",
     "iopub.status.idle": "2021-09-20T06:37:56.078402Z",
     "shell.execute_reply": "2021-09-20T06:37:56.077281Z",
     "shell.execute_reply.started": "2021-09-20T06:37:56.038435Z"
    },
    "papermill": {
     "duration": 0.02949,
     "end_time": "2021-09-20T15:15:40.335475",
     "exception": false,
     "start_time": "2021-09-20T15:15:40.305985",
     "status": "completed"
    },
    "tags": []
   },
   "source": [
    "### Remove the object columns that have missing values"
   ]
  },
  {
   "cell_type": "code",
   "execution_count": 10,
   "id": "7631921f",
   "metadata": {
    "execution": {
     "iopub.execute_input": "2021-09-20T15:15:40.417649Z",
     "iopub.status.busy": "2021-09-20T15:15:40.416961Z",
     "iopub.status.idle": "2021-09-20T15:15:40.420036Z",
     "shell.execute_reply": "2021-09-20T15:15:40.420512Z",
     "shell.execute_reply.started": "2021-09-20T05:52:17.553811Z"
    },
    "papermill": {
     "duration": 0.055262,
     "end_time": "2021-09-20T15:15:40.420695",
     "exception": false,
     "start_time": "2021-09-20T15:15:40.365433",
     "status": "completed"
    },
    "tags": []
   },
   "outputs": [
    {
     "data": {
      "text/plain": [
       "['Alley',\n",
       " 'MasVnrType',\n",
       " 'BsmtQual',\n",
       " 'BsmtCond',\n",
       " 'BsmtExposure',\n",
       " 'BsmtFinType1',\n",
       " 'BsmtFinType2',\n",
       " 'Electrical',\n",
       " 'FireplaceQu',\n",
       " 'GarageType',\n",
       " 'GarageFinish',\n",
       " 'GarageQual',\n",
       " 'GarageCond',\n",
       " 'PoolQC',\n",
       " 'Fence',\n",
       " 'MiscFeature']"
      ]
     },
     "execution_count": 10,
     "metadata": {},
     "output_type": "execute_result"
    }
   ],
   "source": [
    "object_col_with_nan = [col for col in object_cols if X_full[col].isnull().any()]\n",
    "object_col_with_nan"
   ]
  },
  {
   "cell_type": "code",
   "execution_count": 11,
   "id": "b180fe10",
   "metadata": {
    "execution": {
     "iopub.execute_input": "2021-09-20T15:15:40.487377Z",
     "iopub.status.busy": "2021-09-20T15:15:40.486716Z",
     "iopub.status.idle": "2021-09-20T15:15:40.491756Z",
     "shell.execute_reply": "2021-09-20T15:15:40.491189Z",
     "shell.execute_reply.started": "2021-09-20T05:52:17.59299Z"
    },
    "papermill": {
     "duration": 0.040779,
     "end_time": "2021-09-20T15:15:40.491890",
     "exception": false,
     "start_time": "2021-09-20T15:15:40.451111",
     "status": "completed"
    },
    "tags": []
   },
   "outputs": [
    {
     "data": {
      "text/plain": [
       "27"
      ]
     },
     "execution_count": 11,
     "metadata": {},
     "output_type": "execute_result"
    }
   ],
   "source": [
    "useful_object_col = list(set(object_cols) - set(object_col_with_nan))\n",
    "len(useful_object_col)"
   ]
  },
  {
   "cell_type": "code",
   "execution_count": 12,
   "id": "56a42239",
   "metadata": {
    "execution": {
     "iopub.execute_input": "2021-09-20T15:15:40.567038Z",
     "iopub.status.busy": "2021-09-20T15:15:40.566326Z",
     "iopub.status.idle": "2021-09-20T15:15:40.573555Z",
     "shell.execute_reply": "2021-09-20T15:15:40.574047Z",
     "shell.execute_reply.started": "2021-09-20T05:52:17.606205Z"
    },
    "papermill": {
     "duration": 0.05175,
     "end_time": "2021-09-20T15:15:40.574212",
     "exception": false,
     "start_time": "2021-09-20T15:15:40.522462",
     "status": "completed"
    },
    "tags": []
   },
   "outputs": [
    {
     "data": {
      "text/plain": [
       "['HeatingQC',\n",
       " 'MSZoning',\n",
       " 'LotConfig',\n",
       " 'LotShape',\n",
       " 'Functional',\n",
       " 'KitchenQual',\n",
       " 'LandContour',\n",
       " 'Foundation',\n",
       " 'Street',\n",
       " 'ExterCond',\n",
       " 'PavedDrive',\n",
       " 'BldgType',\n",
       " 'SaleCondition',\n",
       " 'LandSlope',\n",
       " 'CentralAir',\n",
       " 'SaleType',\n",
       " 'ExterQual',\n",
       " 'RoofStyle',\n",
       " 'Neighborhood',\n",
       " 'Condition1']"
      ]
     },
     "execution_count": 12,
     "metadata": {},
     "output_type": "execute_result"
    }
   ],
   "source": [
    "good_cols = [col for col in useful_object_col if set(X_full[col]).issubset(set(X_test_full[col]))]\n",
    "good_cols"
   ]
  },
  {
   "cell_type": "code",
   "execution_count": 13,
   "id": "2c64ad9e",
   "metadata": {
    "execution": {
     "iopub.execute_input": "2021-09-20T15:15:40.642560Z",
     "iopub.status.busy": "2021-09-20T15:15:40.641066Z",
     "iopub.status.idle": "2021-09-20T15:15:40.663359Z",
     "shell.execute_reply": "2021-09-20T15:15:40.663876Z",
     "shell.execute_reply.started": "2021-09-20T05:52:17.63064Z"
    },
    "papermill": {
     "duration": 0.058761,
     "end_time": "2021-09-20T15:15:40.664044",
     "exception": false,
     "start_time": "2021-09-20T15:15:40.605283",
     "status": "completed"
    },
    "tags": []
   },
   "outputs": [
    {
     "data": {
      "text/html": [
       "<div>\n",
       "<style scoped>\n",
       "    .dataframe tbody tr th:only-of-type {\n",
       "        vertical-align: middle;\n",
       "    }\n",
       "\n",
       "    .dataframe tbody tr th {\n",
       "        vertical-align: top;\n",
       "    }\n",
       "\n",
       "    .dataframe thead th {\n",
       "        text-align: right;\n",
       "    }\n",
       "</style>\n",
       "<table border=\"1\" class=\"dataframe\">\n",
       "  <thead>\n",
       "    <tr style=\"text-align: right;\">\n",
       "      <th></th>\n",
       "      <th>HeatingQC</th>\n",
       "      <th>MSZoning</th>\n",
       "      <th>LotConfig</th>\n",
       "      <th>LotShape</th>\n",
       "      <th>Functional</th>\n",
       "      <th>KitchenQual</th>\n",
       "      <th>LandContour</th>\n",
       "      <th>Foundation</th>\n",
       "      <th>Street</th>\n",
       "      <th>ExterCond</th>\n",
       "      <th>PavedDrive</th>\n",
       "      <th>BldgType</th>\n",
       "      <th>SaleCondition</th>\n",
       "      <th>LandSlope</th>\n",
       "      <th>CentralAir</th>\n",
       "      <th>SaleType</th>\n",
       "      <th>ExterQual</th>\n",
       "      <th>RoofStyle</th>\n",
       "      <th>Neighborhood</th>\n",
       "      <th>Condition1</th>\n",
       "    </tr>\n",
       "    <tr>\n",
       "      <th>Id</th>\n",
       "      <th></th>\n",
       "      <th></th>\n",
       "      <th></th>\n",
       "      <th></th>\n",
       "      <th></th>\n",
       "      <th></th>\n",
       "      <th></th>\n",
       "      <th></th>\n",
       "      <th></th>\n",
       "      <th></th>\n",
       "      <th></th>\n",
       "      <th></th>\n",
       "      <th></th>\n",
       "      <th></th>\n",
       "      <th></th>\n",
       "      <th></th>\n",
       "      <th></th>\n",
       "      <th></th>\n",
       "      <th></th>\n",
       "      <th></th>\n",
       "    </tr>\n",
       "  </thead>\n",
       "  <tbody>\n",
       "    <tr>\n",
       "      <th>1</th>\n",
       "      <td>Ex</td>\n",
       "      <td>RL</td>\n",
       "      <td>Inside</td>\n",
       "      <td>Reg</td>\n",
       "      <td>Typ</td>\n",
       "      <td>Gd</td>\n",
       "      <td>Lvl</td>\n",
       "      <td>PConc</td>\n",
       "      <td>Pave</td>\n",
       "      <td>TA</td>\n",
       "      <td>Y</td>\n",
       "      <td>1Fam</td>\n",
       "      <td>Normal</td>\n",
       "      <td>Gtl</td>\n",
       "      <td>Y</td>\n",
       "      <td>WD</td>\n",
       "      <td>Gd</td>\n",
       "      <td>Gable</td>\n",
       "      <td>CollgCr</td>\n",
       "      <td>Norm</td>\n",
       "    </tr>\n",
       "    <tr>\n",
       "      <th>2</th>\n",
       "      <td>Ex</td>\n",
       "      <td>RL</td>\n",
       "      <td>FR2</td>\n",
       "      <td>Reg</td>\n",
       "      <td>Typ</td>\n",
       "      <td>TA</td>\n",
       "      <td>Lvl</td>\n",
       "      <td>CBlock</td>\n",
       "      <td>Pave</td>\n",
       "      <td>TA</td>\n",
       "      <td>Y</td>\n",
       "      <td>1Fam</td>\n",
       "      <td>Normal</td>\n",
       "      <td>Gtl</td>\n",
       "      <td>Y</td>\n",
       "      <td>WD</td>\n",
       "      <td>TA</td>\n",
       "      <td>Gable</td>\n",
       "      <td>Veenker</td>\n",
       "      <td>Feedr</td>\n",
       "    </tr>\n",
       "    <tr>\n",
       "      <th>3</th>\n",
       "      <td>Ex</td>\n",
       "      <td>RL</td>\n",
       "      <td>Inside</td>\n",
       "      <td>IR1</td>\n",
       "      <td>Typ</td>\n",
       "      <td>Gd</td>\n",
       "      <td>Lvl</td>\n",
       "      <td>PConc</td>\n",
       "      <td>Pave</td>\n",
       "      <td>TA</td>\n",
       "      <td>Y</td>\n",
       "      <td>1Fam</td>\n",
       "      <td>Normal</td>\n",
       "      <td>Gtl</td>\n",
       "      <td>Y</td>\n",
       "      <td>WD</td>\n",
       "      <td>Gd</td>\n",
       "      <td>Gable</td>\n",
       "      <td>CollgCr</td>\n",
       "      <td>Norm</td>\n",
       "    </tr>\n",
       "    <tr>\n",
       "      <th>4</th>\n",
       "      <td>Gd</td>\n",
       "      <td>RL</td>\n",
       "      <td>Corner</td>\n",
       "      <td>IR1</td>\n",
       "      <td>Typ</td>\n",
       "      <td>Gd</td>\n",
       "      <td>Lvl</td>\n",
       "      <td>BrkTil</td>\n",
       "      <td>Pave</td>\n",
       "      <td>TA</td>\n",
       "      <td>Y</td>\n",
       "      <td>1Fam</td>\n",
       "      <td>Abnorml</td>\n",
       "      <td>Gtl</td>\n",
       "      <td>Y</td>\n",
       "      <td>WD</td>\n",
       "      <td>TA</td>\n",
       "      <td>Gable</td>\n",
       "      <td>Crawfor</td>\n",
       "      <td>Norm</td>\n",
       "    </tr>\n",
       "    <tr>\n",
       "      <th>5</th>\n",
       "      <td>Ex</td>\n",
       "      <td>RL</td>\n",
       "      <td>FR2</td>\n",
       "      <td>IR1</td>\n",
       "      <td>Typ</td>\n",
       "      <td>Gd</td>\n",
       "      <td>Lvl</td>\n",
       "      <td>PConc</td>\n",
       "      <td>Pave</td>\n",
       "      <td>TA</td>\n",
       "      <td>Y</td>\n",
       "      <td>1Fam</td>\n",
       "      <td>Normal</td>\n",
       "      <td>Gtl</td>\n",
       "      <td>Y</td>\n",
       "      <td>WD</td>\n",
       "      <td>Gd</td>\n",
       "      <td>Gable</td>\n",
       "      <td>NoRidge</td>\n",
       "      <td>Norm</td>\n",
       "    </tr>\n",
       "  </tbody>\n",
       "</table>\n",
       "</div>"
      ],
      "text/plain": [
       "   HeatingQC MSZoning LotConfig LotShape Functional KitchenQual LandContour  \\\n",
       "Id                                                                            \n",
       "1         Ex       RL    Inside      Reg        Typ          Gd         Lvl   \n",
       "2         Ex       RL       FR2      Reg        Typ          TA         Lvl   \n",
       "3         Ex       RL    Inside      IR1        Typ          Gd         Lvl   \n",
       "4         Gd       RL    Corner      IR1        Typ          Gd         Lvl   \n",
       "5         Ex       RL       FR2      IR1        Typ          Gd         Lvl   \n",
       "\n",
       "   Foundation Street ExterCond PavedDrive BldgType SaleCondition LandSlope  \\\n",
       "Id                                                                           \n",
       "1       PConc   Pave        TA          Y     1Fam        Normal       Gtl   \n",
       "2      CBlock   Pave        TA          Y     1Fam        Normal       Gtl   \n",
       "3       PConc   Pave        TA          Y     1Fam        Normal       Gtl   \n",
       "4      BrkTil   Pave        TA          Y     1Fam       Abnorml       Gtl   \n",
       "5       PConc   Pave        TA          Y     1Fam        Normal       Gtl   \n",
       "\n",
       "   CentralAir SaleType ExterQual RoofStyle Neighborhood Condition1  \n",
       "Id                                                                  \n",
       "1           Y       WD        Gd     Gable      CollgCr       Norm  \n",
       "2           Y       WD        TA     Gable      Veenker      Feedr  \n",
       "3           Y       WD        Gd     Gable      CollgCr       Norm  \n",
       "4           Y       WD        TA     Gable      Crawfor       Norm  \n",
       "5           Y       WD        Gd     Gable      NoRidge       Norm  "
      ]
     },
     "execution_count": 13,
     "metadata": {},
     "output_type": "execute_result"
    }
   ],
   "source": [
    "data_object_train = X_full[good_cols]\n",
    "data_object_train.head()"
   ]
  },
  {
   "cell_type": "code",
   "execution_count": 14,
   "id": "9eb32da9",
   "metadata": {
    "execution": {
     "iopub.execute_input": "2021-09-20T15:15:40.731596Z",
     "iopub.status.busy": "2021-09-20T15:15:40.730948Z",
     "iopub.status.idle": "2021-09-20T15:15:40.737517Z",
     "shell.execute_reply": "2021-09-20T15:15:40.737016Z",
     "shell.execute_reply.started": "2021-09-20T05:52:17.665094Z"
    },
    "papermill": {
     "duration": 0.041832,
     "end_time": "2021-09-20T15:15:40.737690",
     "exception": false,
     "start_time": "2021-09-20T15:15:40.695858",
     "status": "completed"
    },
    "tags": []
   },
   "outputs": [],
   "source": [
    "data_object_train = X_full[good_cols]\n",
    "data_object_train.head()\n",
    "data_object_test = X_test_full[good_cols]"
   ]
  },
  {
   "cell_type": "code",
   "execution_count": 15,
   "id": "7d4fd81a",
   "metadata": {
    "execution": {
     "iopub.execute_input": "2021-09-20T15:15:40.807355Z",
     "iopub.status.busy": "2021-09-20T15:15:40.806735Z",
     "iopub.status.idle": "2021-09-20T15:15:40.809866Z",
     "shell.execute_reply": "2021-09-20T15:15:40.809337Z",
     "shell.execute_reply.started": "2021-09-20T05:52:17.677283Z"
    },
    "papermill": {
     "duration": 0.040321,
     "end_time": "2021-09-20T15:15:40.810006",
     "exception": false,
     "start_time": "2021-09-20T15:15:40.769685",
     "status": "completed"
    },
    "tags": []
   },
   "outputs": [],
   "source": [
    "train_target = X.SalePrice\n",
    "train_features = X.drop(['SalePrice'], axis=1)"
   ]
  },
  {
   "cell_type": "code",
   "execution_count": 16,
   "id": "cb0204eb",
   "metadata": {
    "execution": {
     "iopub.execute_input": "2021-09-20T15:15:40.881841Z",
     "iopub.status.busy": "2021-09-20T15:15:40.876414Z",
     "iopub.status.idle": "2021-09-20T15:15:40.884886Z",
     "shell.execute_reply": "2021-09-20T15:15:40.884348Z",
     "shell.execute_reply.started": "2021-09-20T05:52:17.694529Z"
    },
    "papermill": {
     "duration": 0.043181,
     "end_time": "2021-09-20T15:15:40.885033",
     "exception": false,
     "start_time": "2021-09-20T15:15:40.841852",
     "status": "completed"
    },
    "tags": []
   },
   "outputs": [],
   "source": [
    "X_train, X_valid, y_train, y_valid = train_test_split(train_features, train_target, train_size=0.8, test_size=0.2,random_state=0)"
   ]
  },
  {
   "cell_type": "markdown",
   "id": "e8271b16",
   "metadata": {
    "papermill": {
     "duration": 0.031001,
     "end_time": "2021-09-20T15:15:40.947650",
     "exception": false,
     "start_time": "2021-09-20T15:15:40.916649",
     "status": "completed"
    },
    "tags": []
   },
   "source": [
    "### using Random Forest and Gradient Boost model via stacking for final predictions"
   ]
  },
  {
   "cell_type": "code",
   "execution_count": 17,
   "id": "540dcf4d",
   "metadata": {
    "execution": {
     "iopub.execute_input": "2021-09-20T15:15:41.015991Z",
     "iopub.status.busy": "2021-09-20T15:15:41.015277Z",
     "iopub.status.idle": "2021-09-20T15:15:41.017777Z",
     "shell.execute_reply": "2021-09-20T15:15:41.018239Z",
     "shell.execute_reply.started": "2021-09-20T05:52:17.714013Z"
    },
    "papermill": {
     "duration": 0.039172,
     "end_time": "2021-09-20T15:15:41.018408",
     "exception": false,
     "start_time": "2021-09-20T15:15:40.979236",
     "status": "completed"
    },
    "tags": []
   },
   "outputs": [],
   "source": [
    "import numpy as np\n",
    "from sklearn.metrics import mean_squared_error, mean_absolute_error\n",
    "from sklearn.ensemble import GradientBoostingRegressor"
   ]
  },
  {
   "cell_type": "code",
   "execution_count": 18,
   "id": "f3af8a38",
   "metadata": {
    "execution": {
     "iopub.execute_input": "2021-09-20T15:15:41.085876Z",
     "iopub.status.busy": "2021-09-20T15:15:41.085230Z",
     "iopub.status.idle": "2021-09-20T15:15:41.091308Z",
     "shell.execute_reply": "2021-09-20T15:15:41.090790Z",
     "shell.execute_reply.started": "2021-09-20T05:52:17.722278Z"
    },
    "papermill": {
     "duration": 0.040863,
     "end_time": "2021-09-20T15:15:41.091438",
     "exception": false,
     "start_time": "2021-09-20T15:15:41.050575",
     "status": "completed"
    },
    "tags": []
   },
   "outputs": [],
   "source": [
    "def final_pred(n):\n",
    "    rf_model = RandomForestRegressor(random_state=1, n_estimators=n)\n",
    "    rf_model.fit(X_train,y_train)\n",
    "    rf_pred = rf_model.predict(X_valid)\n",
    "\n",
    "    gbm_model = GradientBoostingRegressor(random_state=1, n_estimators=n)\n",
    "    gbm_model.fit(X_train,y_train)\n",
    "    gbm_pred = gbm_model.predict(X_valid)\n",
    "\n",
    "    pred = (rf_pred + gbm_pred)/2\n",
    "    return pred"
   ]
  },
  {
   "cell_type": "code",
   "execution_count": 19,
   "id": "71ebfb7a",
   "metadata": {
    "execution": {
     "iopub.execute_input": "2021-09-20T15:15:41.161862Z",
     "iopub.status.busy": "2021-09-20T15:15:41.161182Z",
     "iopub.status.idle": "2021-09-20T15:15:50.944005Z",
     "shell.execute_reply": "2021-09-20T15:15:50.944463Z",
     "shell.execute_reply.started": "2021-09-20T05:52:17.742472Z"
    },
    "papermill": {
     "duration": 9.82129,
     "end_time": "2021-09-20T15:15:50.944764",
     "exception": false,
     "start_time": "2021-09-20T15:15:41.123474",
     "status": "completed"
    },
    "tags": []
   },
   "outputs": [
    {
     "name": "stdout",
     "output_type": "stream",
     "text": [
      "29710.562824388515\n"
     ]
    }
   ],
   "source": [
    "for n in [500]:\n",
    "    pred = final_pred(n)\n",
    "    print(np.sqrt(mean_squared_error(y_valid,pred)))"
   ]
  },
  {
   "cell_type": "code",
   "execution_count": 20,
   "id": "862440f2",
   "metadata": {
    "execution": {
     "iopub.execute_input": "2021-09-20T15:15:51.011592Z",
     "iopub.status.busy": "2021-09-20T15:15:51.010942Z",
     "iopub.status.idle": "2021-09-20T15:16:04.970712Z",
     "shell.execute_reply": "2021-09-20T15:16:04.970064Z",
     "shell.execute_reply.started": "2021-09-20T05:52:27.489636Z"
    },
    "papermill": {
     "duration": 13.994207,
     "end_time": "2021-09-20T15:16:04.970867",
     "exception": false,
     "start_time": "2021-09-20T15:15:50.976660",
     "status": "completed"
    },
    "tags": []
   },
   "outputs": [],
   "source": [
    "rf_model = RandomForestRegressor(random_state=1, n_estimators=700)\n",
    "rf_model.fit(X_train,y_train)\n",
    "rf_pred = rf_model.predict(X_test)\n",
    "\n",
    "gbm_model = GradientBoostingRegressor(random_state=1, n_estimators=700)\n",
    "gbm_model.fit(X_train,y_train)\n",
    "gbm_pred = gbm_model.predict(X_test)\n",
    "\n",
    "pred = (rf_pred + gbm_pred)/2"
   ]
  },
  {
   "cell_type": "code",
   "execution_count": 21,
   "id": "623031d3",
   "metadata": {
    "execution": {
     "iopub.execute_input": "2021-09-20T15:16:05.057185Z",
     "iopub.status.busy": "2021-09-20T15:16:05.056274Z",
     "iopub.status.idle": "2021-09-20T15:16:05.070520Z",
     "shell.execute_reply": "2021-09-20T15:16:05.069692Z",
     "shell.execute_reply.started": "2021-09-20T05:52:41.191524Z"
    },
    "papermill": {
     "duration": 0.058989,
     "end_time": "2021-09-20T15:16:05.070742",
     "exception": false,
     "start_time": "2021-09-20T15:16:05.011753",
     "status": "completed"
    },
    "tags": []
   },
   "outputs": [],
   "source": [
    "output = pd.DataFrame({'Id': X_test.index,\n",
    "                       'SalePrice': pred})\n",
    "output.to_csv('submission.csv', index=False)"
   ]
  },
  {
   "cell_type": "markdown",
   "id": "bb6a37c0",
   "metadata": {
    "papermill": {
     "duration": 0.032772,
     "end_time": "2021-09-20T15:16:05.141190",
     "exception": false,
     "start_time": "2021-09-20T15:16:05.108418",
     "status": "completed"
    },
    "tags": []
   },
   "source": [
    "---\n",
    "\n",
    "\n",
    "\n",
    "\n",
    "*Have questions or comments? Visit the [Learn Discussion forum](https://www.kaggle.com/learn-forum/161289) to chat with other Learners.*"
   ]
  }
 ],
 "metadata": {
  "interpreter": {
   "hash": "6b6e8e5f654a8e9bb9e69623dd15cf09cd0bf1a8f120d3fdbf2d2c9cdde81e19"
  },
  "kernelspec": {
   "display_name": "Python 3.6.13 64-bit ('gpu': conda)",
   "name": "python3"
  },
  "language_info": {
   "codemirror_mode": {
    "name": "ipython",
    "version": 3
   },
   "file_extension": ".py",
   "mimetype": "text/x-python",
   "name": "python",
   "nbconvert_exporter": "python",
   "pygments_lexer": "ipython3",
   "version": "3.6.13"
  },
  "papermill": {
   "default_parameters": {},
   "duration": 180.312946,
   "end_time": "2021-09-20T15:16:05.788692",
   "environment_variables": {},
   "exception": null,
   "input_path": "__notebook__.ipynb",
   "output_path": "__notebook__.ipynb",
   "parameters": {},
   "start_time": "2021-09-20T15:13:05.475746",
   "version": "2.3.3"
  }
 },
 "nbformat": 4,
 "nbformat_minor": 5
}
