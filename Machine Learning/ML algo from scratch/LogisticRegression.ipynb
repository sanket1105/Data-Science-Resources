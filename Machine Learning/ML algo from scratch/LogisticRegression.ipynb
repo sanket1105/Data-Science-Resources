{
 "cells": [
  {
   "cell_type": "code",
   "execution_count": 4,
   "metadata": {},
   "outputs": [],
   "source": [
    "import pandas as pd\n",
    "import numpy as np\n",
    "from sklearn import datasets\n",
    "from sklearn.model_selection import train_test_split\n",
    "from IPython.display import Image"
   ]
  },
  {
   "cell_type": "code",
   "execution_count": 5,
   "metadata": {},
   "outputs": [],
   "source": [
    " ## we apply sigmoid function\n",
    "\n",
    "\n",
    "class LogisticRegression():\n",
    "    def __init__(self,lr=0.01,n_iter=1000):\n",
    "        self.lr=lr\n",
    "        self.n_iter = n_iter\n",
    "        self.weights = None\n",
    "        self.bias = None\n",
    "\n",
    "    def fit(self,X,y):\n",
    "        n_samples,n_features = X.shape\n",
    "        self.weights = np.zeros(n_features)\n",
    "        self.bias = 0\n",
    "\n",
    "        ## Gradient Descent\n",
    "        ## iteratively change the weights values\n",
    "\n",
    "        for _ in range(self.n_iter):\n",
    "            linear_model = np.dot(X,self.weights) + self.bias\n",
    "            y_predicted  = self.sigmoid(linear_model)\n",
    "\n",
    "            dw = (1/n_samples) * np.dot(X.T,(y_predicted - y))\n",
    "            db = (1/n_samples) * np.sum(y_predicted-y)\n",
    "\n",
    "            self.weights -= self.lr * dw\n",
    "            self.bias -= self.lr * db\n",
    "\n",
    "\n",
    "    def predict(self,X):\n",
    "        linear_model = np.dot(X,self.weights) + self.bias\n",
    "        y_predicted = self.sigmoid(linear_model)\n",
    "        y_predicted_logistic = [ 1 if i>0.5 else 0 for i in y_predicted ]\n",
    "        return np.array(y_predicted_logistic)\n",
    "        \n",
    "\n",
    "    def sigmoid(self,x):\n",
    "         return   1/(1+np.exp(-x))\n",
    "\n"
   ]
  },
  {
   "cell_type": "code",
   "execution_count": 16,
   "metadata": {},
   "outputs": [
    {
     "name": "stdout",
     "output_type": "stream",
     "text": [
      "(569, 30)\n"
     ]
    }
   ],
   "source": [
    "df = datasets.load_breast_cancer()\n",
    "print(df['data'].shape)\n",
    "df['target'].shape\n",
    "\n",
    "X,y = df.data, df.target"
   ]
  },
  {
   "cell_type": "code",
   "execution_count": 17,
   "metadata": {},
   "outputs": [],
   "source": [
    "X_train,X_test,y_train,y_test = train_test_split(X,y,random_state=42,test_size=0.2)"
   ]
  },
  {
   "cell_type": "code",
   "execution_count": 19,
   "metadata": {},
   "outputs": [
    {
     "name": "stderr",
     "output_type": "stream",
     "text": [
      "D:\\Anaconda\\envs\\gpu\\lib\\site-packages\\ipykernel_launcher.py:38: RuntimeWarning: overflow encountered in exp\n"
     ]
    }
   ],
   "source": [
    "regressor = LogisticRegression(lr = 0.001,n_iter=1000)\n",
    "regressor.fit(X_train,y_train)\n",
    "predictions = regressor.predict(X_test)"
   ]
  },
  {
   "cell_type": "code",
   "execution_count": 21,
   "metadata": {},
   "outputs": [
    {
     "name": "stdout",
     "output_type": "stream",
     "text": [
      "Accuracy score is: \n"
     ]
    },
    {
     "data": {
      "text/plain": [
       "0.9473684210526316"
      ]
     },
     "execution_count": 21,
     "metadata": {},
     "output_type": "execute_result"
    }
   ],
   "source": [
    "def accuracy(y_true, y_pred):\n",
    "    accuracy = np.sum((y_true==y_pred)/len(y_true))\n",
    "    return accuracy\n",
    "\n",
    "print(\"Accuracy score is: \")\n",
    "accuracy(predictions, y_test)    "
   ]
  },
  {
   "cell_type": "code",
   "execution_count": null,
   "metadata": {},
   "outputs": [],
   "source": []
  }
 ],
 "metadata": {
  "interpreter": {
   "hash": "6b6e8e5f654a8e9bb9e69623dd15cf09cd0bf1a8f120d3fdbf2d2c9cdde81e19"
  },
  "kernelspec": {
   "display_name": "Python 3.6.13 64-bit ('gpu': conda)",
   "language": "python",
   "name": "python3"
  },
  "language_info": {
   "codemirror_mode": {
    "name": "ipython",
    "version": 3
   },
   "file_extension": ".py",
   "mimetype": "text/x-python",
   "name": "python",
   "nbconvert_exporter": "python",
   "pygments_lexer": "ipython3",
   "version": "3.6.13"
  },
  "orig_nbformat": 4
 },
 "nbformat": 4,
 "nbformat_minor": 2
}
