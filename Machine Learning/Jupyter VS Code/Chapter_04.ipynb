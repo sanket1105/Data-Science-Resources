{
 "cells": [
  {
   "cell_type": "markdown",
   "metadata": {},
   "source": [
    "## Linear Regression"
   ]
  },
  {
   "cell_type": "markdown",
   "metadata": {},
   "source": [
    "y = θ0+ θ1x1+ θ2x2+ ⋯ + θnxn ## y is the predicted value                      \n",
    "\n",
    "Theta is the model parameter : various theta values are feature weights\n",
    "\n",
    "theta zero is the bias term"
   ]
  },
  {
   "cell_type": "code",
   "execution_count": 4,
   "metadata": {},
   "outputs": [
    {
     "data": {
      "text/plain": [
       "'0.24.2'"
      ]
     },
     "execution_count": 4,
     "metadata": {},
     "output_type": "execute_result"
    }
   ],
   "source": [
    "import sklearn\n",
    "import numpy as np\n",
    "import pandas as pd\n",
    "import matplotlib.pyplot as plt\n",
    "sklearn.__version__"
   ]
  },
  {
   "cell_type": "code",
   "execution_count": 5,
   "metadata": {},
   "outputs": [],
   "source": [
    "np.random.seed(42)"
   ]
  },
  {
   "cell_type": "code",
   "execution_count": 8,
   "metadata": {},
   "outputs": [],
   "source": [
    "X = np.random.rand(100,1)\n",
    "## create array of given shape with the values from [0,1)\n",
    "\n",
    "y = 4 + 3*X + np.random.rand(100,1)"
   ]
  },
  {
   "cell_type": "code",
   "execution_count": 15,
   "metadata": {},
   "outputs": [
    {
     "data": {
      "text/plain": [
       "(0.0, 1.0, 0.0, 15.0)"
      ]
     },
     "execution_count": 15,
     "metadata": {},
     "output_type": "execute_result"
    },
    {
     "data": {
      "image/png": "[encoded data removed]",
      "text/plain": [
       "<Figure size 432x288 with 1 Axes>"
      ]
     },
     "metadata": {
      "needs_background": "light"
     },
     "output_type": "display_data"
    }
   ],
   "source": [
    "plt.plot(X,y,'b.')\n",
    "plt.xlabel(\"$X_1$\", fontsize=18)\n",
    "plt.ylabel(\"$y$\",fontsize=18, rotation=0) ## se with removing the rotation\n",
    "plt.axis([0,1,0,15])\n"
   ]
  },
  {
   "cell_type": "code",
   "execution_count": 19,
   "metadata": {},
   "outputs": [
    {
     "data": {
      "text/plain": [
       "array([[1.        , 0.64203165],\n",
       "       [1.        , 0.08413996],\n",
       "       [1.        , 0.16162871],\n",
       "       [1.        , 0.89855419],\n",
       "       [1.        , 0.60642906],\n",
       "       [1.        , 0.00919705],\n",
       "       [1.        , 0.10147154],\n",
       "       [1.        , 0.66350177],\n",
       "       [1.        , 0.00506158],\n",
       "       [1.        , 0.16080805],\n",
       "       [1.        , 0.54873379],\n",
       "       [1.        , 0.6918952 ],\n",
       "       [1.        , 0.65196126],\n",
       "       [1.        , 0.22426931],\n",
       "       [1.        , 0.71217922],\n",
       "       [1.        , 0.23724909],\n",
       "       [1.        , 0.3253997 ],\n",
       "       [1.        , 0.74649141],\n",
       "       [1.        , 0.6496329 ],\n",
       "       [1.        , 0.84922341],\n",
       "       [1.        , 0.65761289],\n",
       "       [1.        , 0.5683086 ],\n",
       "       [1.        , 0.09367477],\n",
       "       [1.        , 0.3677158 ],\n",
       "       [1.        , 0.26520237],\n",
       "       [1.        , 0.24398964],\n",
       "       [1.        , 0.97301055],\n",
       "       [1.        , 0.39309772],\n",
       "       [1.        , 0.89204656],\n",
       "       [1.        , 0.63113863],\n",
       "       [1.        , 0.7948113 ],\n",
       "       [1.        , 0.50263709],\n",
       "       [1.        , 0.57690388],\n",
       "       [1.        , 0.49251769],\n",
       "       [1.        , 0.19524299],\n",
       "       [1.        , 0.72245212],\n",
       "       [1.        , 0.28077236],\n",
       "       [1.        , 0.02431597],\n",
       "       [1.        , 0.6454723 ],\n",
       "       [1.        , 0.17711068],\n",
       "       [1.        , 0.94045858],\n",
       "       [1.        , 0.95392858],\n",
       "       [1.        , 0.91486439],\n",
       "       [1.        , 0.3701587 ],\n",
       "       [1.        , 0.01545662],\n",
       "       [1.        , 0.92831856],\n",
       "       [1.        , 0.42818415],\n",
       "       [1.        , 0.96665482],\n",
       "       [1.        , 0.96361998],\n",
       "       [1.        , 0.85300946],\n",
       "       [1.        , 0.29444889],\n",
       "       [1.        , 0.38509773],\n",
       "       [1.        , 0.85113667],\n",
       "       [1.        , 0.31692201],\n",
       "       [1.        , 0.16949275],\n",
       "       [1.        , 0.55680126],\n",
       "       [1.        , 0.93615477],\n",
       "       [1.        , 0.6960298 ],\n",
       "       [1.        , 0.57006117],\n",
       "       [1.        , 0.09717649],\n",
       "       [1.        , 0.61500723],\n",
       "       [1.        , 0.99005385],\n",
       "       [1.        , 0.14008402],\n",
       "       [1.        , 0.51832965],\n",
       "       [1.        , 0.87737307],\n",
       "       [1.        , 0.74076862],\n",
       "       [1.        , 0.69701574],\n",
       "       [1.        , 0.70248408],\n",
       "       [1.        , 0.35949115],\n",
       "       [1.        , 0.29359184],\n",
       "       [1.        , 0.80936116],\n",
       "       [1.        , 0.81011339],\n",
       "       [1.        , 0.86707232],\n",
       "       [1.        , 0.91324055],\n",
       "       [1.        , 0.5113424 ],\n",
       "       [1.        , 0.50151629],\n",
       "       [1.        , 0.79829518],\n",
       "       [1.        , 0.64996393],\n",
       "       [1.        , 0.70196688],\n",
       "       [1.        , 0.79579267],\n",
       "       [1.        , 0.89000534],\n",
       "       [1.        , 0.33799516],\n",
       "       [1.        , 0.37558295],\n",
       "       [1.        , 0.09398194],\n",
       "       [1.        , 0.57828014],\n",
       "       [1.        , 0.03594227],\n",
       "       [1.        , 0.46559802],\n",
       "       [1.        , 0.54264463],\n",
       "       [1.        , 0.28654125],\n",
       "       [1.        , 0.59083326],\n",
       "       [1.        , 0.03050025],\n",
       "       [1.        , 0.03734819],\n",
       "       [1.        , 0.82260056],\n",
       "       [1.        , 0.36019064],\n",
       "       [1.        , 0.12706051],\n",
       "       [1.        , 0.52224326],\n",
       "       [1.        , 0.76999355],\n",
       "       [1.        , 0.21582103],\n",
       "       [1.        , 0.62289048],\n",
       "       [1.        , 0.08534746]])"
      ]
     },
     "execution_count": 19,
     "metadata": {},
     "output_type": "execute_result"
    }
   ],
   "source": [
    "## np.c_ does the horizontal concatenation\n",
    "\n",
    "X_b = np.c_[np.ones((100,1)),X]\n",
    "X_b"
   ]
  },
  {
   "cell_type": "code",
   "execution_count": 20,
   "metadata": {},
   "outputs": [],
   "source": [
    "# Now let’s compute θ using the Normal Equation. We will use the inv() function from\n",
    "# NumPy’s Linear Algebra module (np.linalg) to compute the inverse of a matrix, and\n",
    "# the dot() method for matrix multiplication:\n",
    "\n",
    "theta_best = np.linalg.inv(X_b.T.dot(X_b)).dot(X_b.T).dot(y)\n"
   ]
  },
  {
   "cell_type": "code",
   "execution_count": 21,
   "metadata": {},
   "outputs": [
    {
     "data": {
      "text/plain": [
       "array([[4.60234805],\n",
       "       [2.78516455]])"
      ]
     },
     "execution_count": 21,
     "metadata": {},
     "output_type": "execute_result"
    }
   ],
   "source": [
    "theta_best\n",
    "\n",
    "## θ0 = 4.215 and θ1 = 2.770"
   ]
  },
  {
   "cell_type": "code",
   "execution_count": 26,
   "metadata": {},
   "outputs": [
    {
     "data": {
      "text/plain": [
       "array([[ 4.60234805],\n",
       "       [10.17267716]])"
      ]
     },
     "execution_count": 26,
     "metadata": {},
     "output_type": "execute_result"
    }
   ],
   "source": [
    "## lets predict now\n",
    "\n",
    "X_new = np.array([[0],[2]])\n",
    "X_new.shape  ## entry of 2 rows and 1 column\n",
    "\n",
    "X_new_b = np.c_[np.ones((2,1)), X_new]\n",
    "y_predict = X_new_b.dot(theta_best)\n",
    "y_predict\n",
    "\n",
    "\n",
    "## 4.62 is the intercept\n",
    "## 10.17 is the coefficient"
   ]
  },
  {
   "cell_type": "code",
   "execution_count": 28,
   "metadata": {},
   "outputs": [
    {
     "data": {
      "text/plain": [
       "(0.0, 1.0, 0.0, 10.0)"
      ]
     },
     "execution_count": 28,
     "metadata": {},
     "output_type": "execute_result"
    },
    {
     "data": {
      "image/png": "[encoded data removed]",
      "text/plain": [
       "<Figure size 432x288 with 1 Axes>"
      ]
     },
     "metadata": {
      "needs_background": "light"
     },
     "output_type": "display_data"
    }
   ],
   "source": [
    "plt.plot(X_new, y_predict,'r-')\n",
    "plt.plot(X,y,'b.')\n",
    "plt.axis([0,1,0,10])\n"
   ]
  },
  {
   "cell_type": "code",
   "execution_count": 30,
   "metadata": {},
   "outputs": [
    {
     "data": {
      "text/plain": [
       "<matplotlib.legend.Legend at 0x1c1d8f373c8>"
      ]
     },
     "execution_count": 30,
     "metadata": {},
     "output_type": "execute_result"
    },
    {
     "data": {
      "image/png": "[encoded data removed]",
      "text/plain": [
       "<Figure size 432x288 with 1 Axes>"
      ]
     },
     "metadata": {
      "needs_background": "light"
     },
     "output_type": "display_data"
    }
   ],
   "source": [
    "plt.plot(X_new, y_predict,'r-',linewidth=2,label='Predictions')\n",
    "plt.plot(X,y,'b.')\n",
    "plt.xlabel(\"$X_1$\", fontsize=16)\n",
    "plt.ylabel(\"$y$\",rotation=0, fontsize=16)\n",
    "plt.axis([0,1,0,15])\n",
    "plt.legend(loc='upper left')"
   ]
  },
  {
   "cell_type": "markdown",
   "metadata": {},
   "source": [
    "Instead of doing this much, just simply use the Linear reg model from sklearn\n",
    "\n"
   ]
  },
  {
   "cell_type": "code",
   "execution_count": 31,
   "metadata": {},
   "outputs": [
    {
     "data": {
      "text/plain": [
       "(array([4.60234805]), array([[2.78516455]]))"
      ]
     },
     "execution_count": 31,
     "metadata": {},
     "output_type": "execute_result"
    }
   ],
   "source": [
    "from sklearn.linear_model import LinearRegression\n",
    "\n",
    "lin_reg = LinearRegression()\n",
    "lin_reg.fit(X,y)\n",
    "lin_reg.intercept_, lin_reg.coef_"
   ]
  },
  {
   "cell_type": "code",
   "execution_count": 33,
   "metadata": {},
   "outputs": [
    {
     "data": {
      "text/plain": [
       "array([[ 4.60234805],\n",
       "       [10.17267716]])"
      ]
     },
     "execution_count": 33,
     "metadata": {},
     "output_type": "execute_result"
    }
   ],
   "source": [
    "lin_reg.predict(X_new)"
   ]
  },
  {
   "cell_type": "code",
   "execution_count": 35,
   "metadata": {},
   "outputs": [
    {
     "data": {
      "text/plain": [
       "array([[4.60234805],\n",
       "       [2.78516455]])"
      ]
     },
     "execution_count": 35,
     "metadata": {},
     "output_type": "execute_result"
    }
   ],
   "source": [
    "##The LinearRegression class is based on the scipy.linalg.lstsq() function (the\n",
    "##name stands for “least squares”), which you could call directly:\n",
    "\n",
    "theta_best_svd, residuals, rank, s = np.linalg.lstsq(X_b, y, rcond=1e-6)\n",
    "theta_best_svd\n",
    "\n",
    "# ## This function computes θ = X+y, where\n",
    "#  is the pseudoinverse of X (specifically the\n",
    "# Moore-Penrose inverse). You can use np.linalg.pinv() to compute the pseudoin‐\n",
    "# verse directly:\n"
   ]
  },
  {
   "cell_type": "markdown",
   "metadata": {},
   "source": []
  },
  {
   "cell_type": "code",
   "execution_count": 36,
   "metadata": {},
   "outputs": [
    {
     "data": {
      "text/plain": [
       "array([[4.60234805],\n",
       "       [2.78516455]])"
      ]
     },
     "execution_count": 36,
     "metadata": {},
     "output_type": "execute_result"
    }
   ],
   "source": [
    "np.linalg.pinv(X_b).dot(y)"
   ]
  },
  {
   "cell_type": "markdown",
   "metadata": {},
   "source": [
    "The pseudoinverse itself is computed using a standard matrix factorization technique \n",
    "called Singular Value Decomposition (SVD) that can decompose the training set\n",
    "matrix X into the matrix multiplication of three matrices"
   ]
  },
  {
   "cell_type": "markdown",
   "metadata": {},
   "source": [
    "Both the Normal Equation and the SVD approach get very slow\n",
    "when the number of features grows large (e.g., 100,000). On the\n",
    "positive side, both are linear with regards to the number of instan‐\n",
    "ces in the training set (they are O(m)), so they handle large training\n",
    "sets efficiently, provided they can fit in memory"
   ]
  },
  {
   "cell_type": "markdown",
   "metadata": {},
   "source": [
    "# Linear Reg using Batch Gradient Descent"
   ]
  },
  {
   "cell_type": "code",
   "execution_count": 39,
   "metadata": {},
   "outputs": [],
   "source": [
    "theta_path_bgd = []\n",
    "\n",
    "def plot_gradient_descent(theta,eta,theta_path=None): ## eta is the learning rate of GD\n",
    "    m = len(X_b)\n",
    "    plt.plot(X,y,'b.')\n",
    "    n_iterations = 1000\n",
    "    for iteration in range(n_iterations):\n",
    "        if iteration < 10:\n",
    "            y_predict = X_new_b.dot(theta)\n",
    "            style = 'b-' if iteration > 0 else 'r--'\n",
    "            plt.plot(X_new, y_predict, style)\n",
    "\n",
    "        gradients = 2/m  * X_b.T.dot(X_b.dot(theta) - y)\n",
    "        theta = theta - eta * gradients\n",
    "\n",
    "        if theta_path is not None:\n",
    "            theta_path.append(theta)\n",
    "\n",
    "    plt.xlabel('$x_1$', fontsize=18)\n",
    "    plt.axis([0,1,0,15])\n",
    "    plt.title(r'$\\eta = {}$'.format(eta), fontsize = 16)        \n",
    "\n",
    "\n"
   ]
  },
  {
   "cell_type": "code",
   "execution_count": 40,
   "metadata": {},
   "outputs": [
    {
     "data": {
      "image/png": "[encoded data removed]",
      "text/plain": [
       "<Figure size 720x288 with 3 Axes>"
      ]
     },
     "metadata": {
      "needs_background": "light"
     },
     "output_type": "display_data"
    }
   ],
   "source": [
    "\n",
    "np.random.seed(42)\n",
    "theta = np.random.randn(2, 1)\n",
    "\n",
    "plt.figure(figsize=(10, 4))\n",
    "plt.subplot(131)\n",
    "plot_gradient_descent(theta, eta=0.02)\n",
    "plt.ylabel('$y$', rotation=0, fontsize=18)\n",
    "plt.subplot(132)\n",
    "plot_gradient_descent(theta, eta=0.1, theta_path=theta_path_bgd)\n",
    "plt.subplot(133)\n",
    "plot_gradient_descent(theta, eta=0.5)\n",
    "plt.show()"
   ]
  },
  {
   "cell_type": "markdown",
   "metadata": {},
   "source": [
    "## Stochastic Gradient DEscent"
   ]
  },
  {
   "cell_type": "code",
   "execution_count": null,
   "metadata": {},
   "outputs": [],
   "source": []
  },
  {
   "cell_type": "code",
   "execution_count": null,
   "metadata": {},
   "outputs": [],
   "source": []
  },
  {
   "cell_type": "code",
   "execution_count": null,
   "metadata": {},
   "outputs": [],
   "source": []
  },
  {
   "cell_type": "code",
   "execution_count": null,
   "metadata": {},
   "outputs": [],
   "source": []
  },
  {
   "cell_type": "code",
   "execution_count": null,
   "metadata": {},
   "outputs": [],
   "source": []
  },
  {
   "cell_type": "code",
   "execution_count": null,
   "metadata": {},
   "outputs": [],
   "source": []
  },
  {
   "cell_type": "code",
   "execution_count": null,
   "metadata": {},
   "outputs": [],
   "source": []
  },
  {
   "cell_type": "code",
   "execution_count": null,
   "metadata": {},
   "outputs": [],
   "source": []
  }
 ],
 "metadata": {
  "interpreter": {
   "hash": "6b6e8e5f654a8e9bb9e69623dd15cf09cd0bf1a8f120d3fdbf2d2c9cdde81e19"
  },
  "kernelspec": {
   "display_name": "Python 3.6.13 64-bit ('gpu': conda)",
   "name": "python3"
  },
  "language_info": {
   "codemirror_mode": {
    "name": "ipython",
    "version": 3
   },
   "file_extension": ".py",
   "mimetype": "text/x-python",
   "name": "python",
   "nbconvert_exporter": "python",
   "pygments_lexer": "ipython3",
   "version": "3.6.13"
  },
  "orig_nbformat": 4
 },
 "nbformat": 4,
 "nbformat_minor": 2
}
