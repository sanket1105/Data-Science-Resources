{
 "cells": [
  {
   "cell_type": "code",
   "execution_count": 4,
   "metadata": {},
   "outputs": [
    {
     "name": "stdout",
     "output_type": "stream",
     "text": [
      "[[2 1 1]\n",
      " [1 2 1]\n",
      " [2 0 2]]\n",
      "              precision    recall  f1-score   support\n",
      "\n",
      "         Cat      0.400     0.500     0.444         4\n",
      "         Dog      0.667     0.500     0.571         4\n",
      "        Fish      0.500     0.500     0.500         4\n",
      "\n",
      "    accuracy                          0.500        12\n",
      "   macro avg      0.522     0.500     0.505        12\n",
      "weighted avg      0.522     0.500     0.505        12\n",
      "\n"
     ]
    }
   ],
   "source": [
    "from sklearn import metrics\n",
    "\n",
    "c='Cat'\n",
    "d='Dog'\n",
    "f='Fish'\n",
    "\n",
    "y_true = [c,c,c,c, f,f,f,f, d,d,d,d]\n",
    "y_pred = [c,c,d,f, c,c,f,f, d,c,d,f]\n",
    "\n",
    "print(metrics.confusion_matrix(y_true, y_pred))\n",
    "\n",
    "print(metrics.classification_report(y_true, y_pred,digits=3,))"
   ]
  },
  {
   "cell_type": "code",
   "execution_count": null,
   "metadata": {},
   "outputs": [],
   "source": []
  },
  {
   "cell_type": "code",
   "execution_count": null,
   "metadata": {},
   "outputs": [],
   "source": []
  }
 ],
 "metadata": {
  "interpreter": {
   "hash": "6b6e8e5f654a8e9bb9e69623dd15cf09cd0bf1a8f120d3fdbf2d2c9cdde81e19"
  },
  "kernelspec": {
   "display_name": "Python 3.6.13 ('gpu')",
   "language": "python",
   "name": "python3"
  },
  "language_info": {
   "codemirror_mode": {
    "name": "ipython",
    "version": 3
   },
   "file_extension": ".py",
   "mimetype": "text/x-python",
   "name": "python",
   "nbconvert_exporter": "python",
   "pygments_lexer": "ipython3",
   "version": "3.6.13"
  },
  "orig_nbformat": 4
 },
 "nbformat": 4,
 "nbformat_minor": 2
}
