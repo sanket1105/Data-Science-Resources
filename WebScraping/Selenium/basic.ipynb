{
 "cells": [
  {
   "cell_type": "code",
   "execution_count": 24,
   "metadata": {},
   "outputs": [],
   "source": [
    "## pip install selenium\n",
    "from selenium import webdriver"
   ]
  },
  {
   "cell_type": "code",
   "execution_count": 25,
   "metadata": {},
   "outputs": [],
   "source": [
    "import requests\n",
    "from bs4 import BeautifulSoup  \n",
    "import pandas as pd\n",
    "from selenium import webdriver\n",
    "from selenium.webdriver.common.by import By\n",
    "from selenium.webdriver.support.ui import WebDriverWait\n",
    "from selenium.webdriver.support import expected_conditions as EC\n",
    "import time\n",
    "import re"
   ]
  },
  {
   "cell_type": "code",
   "execution_count": 26,
   "metadata": {},
   "outputs": [
    {
     "name": "stdout",
     "output_type": "stream",
     "text": [
      " This is slightly different to the other reviews, please stay with me here.\n",
      "\n"
     ]
    }
   ],
   "source": [
    "page_url = 'https://www.imdb.com/title/tt1745960/reviews?sort=totalVotes&dir=desc&ratingFilter=0'\n",
    "source = requests.get(page_url).text\n",
    "soup = BeautifulSoup(source,'lxml')\n",
    "title = soup.find('a',class_='title')\n",
    "print(title.text)"
   ]
  },
  {
   "cell_type": "code",
   "execution_count": 27,
   "metadata": {},
   "outputs": [
    {
     "name": "stdout",
     "output_type": "stream",
     "text": [
      "scottedwards-87359\n"
     ]
    }
   ],
   "source": [
    "user = soup.find('span',class_='display-name-link')\n",
    "print(user.text)"
   ]
  },
  {
   "cell_type": "code",
   "execution_count": 28,
   "metadata": {},
   "outputs": [
    {
     "name": "stdout",
     "output_type": "stream",
     "text": [
      "26 May 2022\n"
     ]
    }
   ],
   "source": [
    "date = soup.find('span',class_='review-date')\n",
    "print(date.text)"
   ]
  },
  {
   "cell_type": "code",
   "execution_count": 29,
   "metadata": {},
   "outputs": [
    {
     "name": "stdout",
     "output_type": "stream",
     "text": [
      "10\n"
     ]
    }
   ],
   "source": [
    "rating = soup.find('span',class_='rating-other-user-rating')\n",
    "print(rating.text.strip()[0:2])"
   ]
  },
  {
   "cell_type": "code",
   "execution_count": 30,
   "metadata": {},
   "outputs": [
    {
     "name": "stdout",
     "output_type": "stream",
     "text": [
      "If you were a late teen or in your early twenties in the mid 1980's the world was very different. No computers, no mobile phones, no internet, no DVD's. We had cars though, and bikes, and we loved them, and we loved films too. The original Top Gun captured this moment in time perfectly, and gave us a thrilling ride like we had never seen before. The humour, the games, the bikes, the aircraft and my word, those flying scenes. We went back to the cinema to see it again and again, and spent the following decades quoting the movie. As time went on, it remained like a static snapshot in time to perfectly represent that magical point in our lives for so many of us.Now, 36 years later, we are a generation that has lost our parents, we've had our own children who have moved on themselves, and we now approach the end of our own careers and our young selves are gone forever.This film is the missing bookend to that whole generation. The original was there for the start of our young adult lives, and this new film now marks the end. It's magnificent.I'm 55, but yesterday, just for one last night, I was 19 again. Thank you.\n"
     ]
    }
   ],
   "source": [
    "review = soup.find('div',class_='text show-more__control')\n",
    "print(review.text)"
   ]
  },
  {
   "cell_type": "code",
   "execution_count": 31,
   "metadata": {},
   "outputs": [
    {
     "name": "stdout",
     "output_type": "stream",
     "text": [
      "4,563 out of 4,779 found this helpful.\n"
     ]
    }
   ],
   "source": [
    "helpful = soup.find('div',class_='actions text-muted')\n",
    "print(helpful.text.strip().split(\".\")[0]+\".\")"
   ]
  },
  {
   "cell_type": "code",
   "execution_count": 32,
   "metadata": {},
   "outputs": [],
   "source": [
    "executable_path = 'C:/Users/Shankii/chromedriver_win32/chromedriver.exe'\n",
    "driver = webdriver.Chrome(executable_path=executable_path)\n",
    "driver.get(page_url)\n",
    "\n",
    "click_more = 5\n",
    "\n",
    "while click_more>0:\n",
    "    time.sleep(1)\n",
    "    element = driver.find_element_by_css_selector(\"button.ipl-load-more__button\")\n",
    "    if element:\n",
    "        element.click()\n",
    "    click_more -= 1  \n"
   ]
  },
  {
   "cell_type": "code",
   "execution_count": 33,
   "metadata": {},
   "outputs": [],
   "source": [
    "## lets store the scrapping data into a csv file\n",
    "import csv \n",
    "\n",
    "csv_file = open('scrapper_data.csv', 'w',encoding=\"utf-8\")\n",
    "csv_writer = csv.writer(csv_file)\n",
    "csv_writer.writerow(['title','user',\"date\",\"rating\",\"review\",\"helpful\"])\n",
    "\n",
    "soup = BeautifulSoup(driver.page_source,'lxml')\n",
    "\n",
    "articles = soup.find_all('div',class_=\"lister-item\")\n",
    "\n",
    "for article in articles:\n",
    "    ## print(article.prettify())\n",
    "\n",
    "    title = article.find('a',class_='title').text\n",
    "    ##print(title)\n",
    "\n",
    "    user = article.find('span',class_='display-name-link').text\n",
    "    #print(user.text)\n",
    "\n",
    "    date = article.find('span',class_='review-date').text\n",
    "    #print(date.text)\n",
    "\n",
    "    rating = article.find('span',class_='rating-other-user-rating').text.strip().split(\"/\")[0]\n",
    "    #print(rating.text.strip()[:2])\n",
    "\n",
    "    review = article.find('div',class_='content').text.strip(\"\\r\\n\")\n",
    "    #print(review.text)\n",
    "\n",
    "    helpful = article.find('div',class_='actions text-muted').text.strip().split(\".\")[0]+\".\"\n",
    "    #print(helpful.text.strip().split(\".\")[0]+\".\")\n",
    "\n",
    "    csv_writer.writerow([title,user,date,rating,review,helpful])\n",
    "\n",
    "csv_file.close()"
   ]
  },
  {
   "cell_type": "code",
   "execution_count": 35,
   "metadata": {},
   "outputs": [
    {
     "data": {
      "text/html": [
       "<div>\n",
       "<style scoped>\n",
       "    .dataframe tbody tr th:only-of-type {\n",
       "        vertical-align: middle;\n",
       "    }\n",
       "\n",
       "    .dataframe tbody tr th {\n",
       "        vertical-align: top;\n",
       "    }\n",
       "\n",
       "    .dataframe thead th {\n",
       "        text-align: right;\n",
       "    }\n",
       "</style>\n",
       "<table border=\"1\" class=\"dataframe\">\n",
       "  <thead>\n",
       "    <tr style=\"text-align: right;\">\n",
       "      <th></th>\n",
       "      <th>title</th>\n",
       "      <th>user</th>\n",
       "      <th>date</th>\n",
       "      <th>rating</th>\n",
       "      <th>review</th>\n",
       "      <th>helpful</th>\n",
       "    </tr>\n",
       "  </thead>\n",
       "  <tbody>\n",
       "    <tr>\n",
       "      <th>0</th>\n",
       "      <td>This is slightly different to the other revie...</td>\n",
       "      <td>scottedwards-87359</td>\n",
       "      <td>26 May 2022</td>\n",
       "      <td>10</td>\n",
       "      <td>If you were a late teen or in your early twent...</td>\n",
       "      <td>4,563 out of 4,779 found this helpful.</td>\n",
       "    </tr>\n",
       "    <tr>\n",
       "      <th>1</th>\n",
       "      <td>The truly epic blockbuster we needed.\\r\\n</td>\n",
       "      <td>Top_Dawg_Critic</td>\n",
       "      <td>23 May 2022</td>\n",
       "      <td>10</td>\n",
       "      <td>Wow. The first Top Gun is a classic, and as we...</td>\n",
       "      <td>2,417 out of 2,689 found this helpful.</td>\n",
       "    </tr>\n",
       "    <tr>\n",
       "      <th>2</th>\n",
       "      <td>Let me just say...\\r\\n</td>\n",
       "      <td>lovefalloutkindagamer</td>\n",
       "      <td>26 May 2022</td>\n",
       "      <td>10</td>\n",
       "      <td>I was reluctantly dragged into the theater, th...</td>\n",
       "      <td>1,427 out of 1,575 found this helpful.</td>\n",
       "    </tr>\n",
       "    <tr>\n",
       "      <th>3</th>\n",
       "      <td>Best Sequel yet\\r\\n</td>\n",
       "      <td>goshamorrell</td>\n",
       "      <td>25 May 2022</td>\n",
       "      <td>10</td>\n",
       "      <td>In one of the more memorable lines in the orig...</td>\n",
       "      <td>990 out of 1,157 found this helpful.</td>\n",
       "    </tr>\n",
       "    <tr>\n",
       "      <th>4</th>\n",
       "      <td>The real cinema experience!\\r\\n</td>\n",
       "      <td>alexglimbergwindh</td>\n",
       "      <td>30 May 2022</td>\n",
       "      <td>10</td>\n",
       "      <td>If there's any movie that deserves to be seen ...</td>\n",
       "      <td>837 out of 951 found this helpful.</td>\n",
       "    </tr>\n",
       "    <tr>\n",
       "      <th>...</th>\n",
       "      <td>...</td>\n",
       "      <td>...</td>\n",
       "      <td>...</td>\n",
       "      <td>...</td>\n",
       "      <td>...</td>\n",
       "      <td>...</td>\n",
       "    </tr>\n",
       "    <tr>\n",
       "      <th>120</th>\n",
       "      <td>Best thing - No cRap music...\\r\\n</td>\n",
       "      <td>bizzyziggy</td>\n",
       "      <td>19 June 2022</td>\n",
       "      <td>10</td>\n",
       "      <td>Hollywood, take note. It's getting really sick...</td>\n",
       "      <td>43 out of 72 found this helpful.</td>\n",
       "    </tr>\n",
       "    <tr>\n",
       "      <th>121</th>\n",
       "      <td>What is happening to the movie business?\\r\\n</td>\n",
       "      <td>Thecritic8282</td>\n",
       "      <td>3 June 2022</td>\n",
       "      <td>2</td>\n",
       "      <td>Top Gun Maverick had so much potential, but I ...</td>\n",
       "      <td>24 out of 72 found this helpful.</td>\n",
       "    </tr>\n",
       "    <tr>\n",
       "      <th>122</th>\n",
       "      <td>Underwhelming and unnecessary\\r\\n</td>\n",
       "      <td>ashishagupta</td>\n",
       "      <td>25 August 2022</td>\n",
       "      <td>5</td>\n",
       "      <td>There seem to be an overwhelming number of fak...</td>\n",
       "      <td>42 out of 71 found this helpful.</td>\n",
       "    </tr>\n",
       "    <tr>\n",
       "      <th>123</th>\n",
       "      <td>Everything was weak\\r\\n</td>\n",
       "      <td>andrewforeman74</td>\n",
       "      <td>19 June 2022</td>\n",
       "      <td>1</td>\n",
       "      <td>The pot, characters, script, directing.The who...</td>\n",
       "      <td>18 out of 71 found this helpful.</td>\n",
       "    </tr>\n",
       "    <tr>\n",
       "      <th>124</th>\n",
       "      <td>Can't remember the last time I smiled so much...</td>\n",
       "      <td>Joxerlives</td>\n",
       "      <td>28 May 2022</td>\n",
       "      <td>8</td>\n",
       "      <td>This was just such FUN! When I was leaving the...</td>\n",
       "      <td>42 out of 69 found this helpful.</td>\n",
       "    </tr>\n",
       "  </tbody>\n",
       "</table>\n",
       "<p>125 rows × 6 columns</p>\n",
       "</div>"
      ],
      "text/plain": [
       "                                                 title                   user  \\\n",
       "0     This is slightly different to the other revie...     scottedwards-87359   \n",
       "1            The truly epic blockbuster we needed.\\r\\n        Top_Dawg_Critic   \n",
       "2                               Let me just say...\\r\\n  lovefalloutkindagamer   \n",
       "3                                  Best Sequel yet\\r\\n           goshamorrell   \n",
       "4                      The real cinema experience!\\r\\n      alexglimbergwindh   \n",
       "..                                                 ...                    ...   \n",
       "120                  Best thing - No cRap music...\\r\\n             bizzyziggy   \n",
       "121       What is happening to the movie business?\\r\\n          Thecritic8282   \n",
       "122                  Underwhelming and unnecessary\\r\\n           ashishagupta   \n",
       "123                            Everything was weak\\r\\n        andrewforeman74   \n",
       "124   Can't remember the last time I smiled so much...             Joxerlives   \n",
       "\n",
       "               date  rating  \\\n",
       "0       26 May 2022      10   \n",
       "1       23 May 2022      10   \n",
       "2       26 May 2022      10   \n",
       "3       25 May 2022      10   \n",
       "4       30 May 2022      10   \n",
       "..              ...     ...   \n",
       "120    19 June 2022      10   \n",
       "121     3 June 2022       2   \n",
       "122  25 August 2022       5   \n",
       "123    19 June 2022       1   \n",
       "124     28 May 2022       8   \n",
       "\n",
       "                                                review  \\\n",
       "0    If you were a late teen or in your early twent...   \n",
       "1    Wow. The first Top Gun is a classic, and as we...   \n",
       "2    I was reluctantly dragged into the theater, th...   \n",
       "3    In one of the more memorable lines in the orig...   \n",
       "4    If there's any movie that deserves to be seen ...   \n",
       "..                                                 ...   \n",
       "120  Hollywood, take note. It's getting really sick...   \n",
       "121  Top Gun Maverick had so much potential, but I ...   \n",
       "122  There seem to be an overwhelming number of fak...   \n",
       "123  The pot, characters, script, directing.The who...   \n",
       "124  This was just such FUN! When I was leaving the...   \n",
       "\n",
       "                                    helpful  \n",
       "0    4,563 out of 4,779 found this helpful.  \n",
       "1    2,417 out of 2,689 found this helpful.  \n",
       "2    1,427 out of 1,575 found this helpful.  \n",
       "3      990 out of 1,157 found this helpful.  \n",
       "4        837 out of 951 found this helpful.  \n",
       "..                                      ...  \n",
       "120        43 out of 72 found this helpful.  \n",
       "121        24 out of 72 found this helpful.  \n",
       "122        42 out of 71 found this helpful.  \n",
       "123        18 out of 71 found this helpful.  \n",
       "124        42 out of 69 found this helpful.  \n",
       "\n",
       "[125 rows x 6 columns]"
      ]
     },
     "execution_count": 35,
     "metadata": {},
     "output_type": "execute_result"
    }
   ],
   "source": [
    "import pandas as pd\n",
    "k = pd.read_csv(\"scrapper_data.csv\")\n",
    "k\n"
   ]
  }
 ],
 "metadata": {
  "kernelspec": {
   "display_name": "Python 3.6.13 ('gputest')",
   "language": "python",
   "name": "python3"
  },
  "language_info": {
   "codemirror_mode": {
    "name": "ipython",
    "version": 3
   },
   "file_extension": ".py",
   "mimetype": "text/x-python",
   "name": "python",
   "nbconvert_exporter": "python",
   "pygments_lexer": "ipython3",
   "version": "3.6.13"
  },
  "orig_nbformat": 4,
  "vscode": {
   "interpreter": {
    "hash": "914c139996f68d185b073981459f96382266ba5f3df925a29404be19a0a7c343"
   }
  }
 },
 "nbformat": 4,
 "nbformat_minor": 2
}
