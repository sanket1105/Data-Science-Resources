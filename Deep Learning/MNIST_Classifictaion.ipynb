{
 "cells": [
  {
   "cell_type": "code",
   "execution_count": 32,
   "metadata": {},
   "outputs": [],
   "source": [
    "import tensorflow\n",
    "from tensorflow import keras\n",
    "from tensorflow.keras import Sequential, layers\n"
   ]
  },
  {
   "cell_type": "code",
   "execution_count": 33,
   "metadata": {},
   "outputs": [],
   "source": [
    "(X_train,y_train),(X_test,y_test)=keras.datasets.mnist.load_data()"
   ]
  },
  {
   "cell_type": "code",
   "execution_count": 34,
   "metadata": {},
   "outputs": [
    {
     "data": {
      "text/plain": [
       "(60000, 28, 28)"
      ]
     },
     "execution_count": 34,
     "metadata": {},
     "output_type": "execute_result"
    }
   ],
   "source": [
    "X_train.shape\n",
    "\n",
    "## 3d array : 60000 images and each image is of 28*28"
   ]
  },
  {
   "cell_type": "code",
   "execution_count": 35,
   "metadata": {},
   "outputs": [
    {
     "data": {
      "text/plain": [
       "array([5, 0, 4, ..., 5, 6, 8], dtype=uint8)"
      ]
     },
     "execution_count": 35,
     "metadata": {},
     "output_type": "execute_result"
    }
   ],
   "source": [
    "y_train"
   ]
  },
  {
   "cell_type": "code",
   "execution_count": 36,
   "metadata": {},
   "outputs": [
    {
     "data": {
      "text/plain": [
       "<matplotlib.image.AxesImage at 0x24878dcb2e8>"
      ]
     },
     "execution_count": 36,
     "metadata": {},
     "output_type": "execute_result"
    },
    {
     "data": {
      "image/png": "[encoded data removed]",
      "text/plain": [
       "<Figure size 432x288 with 1 Axes>"
      ]
     },
     "metadata": {
      "needs_background": "light"
     },
     "output_type": "display_data"
    }
   ],
   "source": [
    "import matplotlib.pyplot as plt\n",
    "plt.imshow(X_train[5])"
   ]
  },
  {
   "cell_type": "code",
   "execution_count": 37,
   "metadata": {},
   "outputs": [],
   "source": [
    "## lets normalize the values\n",
    "\n",
    "X_train = X_train/255\n",
    "X_test = X_test/255\n",
    "\n",
    "## X_train[0]"
   ]
  },
  {
   "cell_type": "code",
   "execution_count": 38,
   "metadata": {},
   "outputs": [
    {
     "data": {
      "text/plain": [
       "(60000, 28, 28)"
      ]
     },
     "execution_count": 38,
     "metadata": {},
     "output_type": "execute_result"
    }
   ],
   "source": [
    "X_train.shape\n",
    "\n",
    "## its in 2d , we need to bring it in a 1D array\n",
    "## that is we will need to flatten it"
   ]
  },
  {
   "cell_type": "code",
   "execution_count": 39,
   "metadata": {},
   "outputs": [],
   "source": [
    "model = Sequential()\n",
    "model.add(layers.Flatten(input_shape = (28,28)))\n",
    "model.add(layers.Dense(128,activation ='relu')) \n",
    "## here no need to mention anything regarding the input numbers\n",
    "## since flattens output is been given to dense\n",
    "model.add(layers.Dense(30,activation ='relu')) \n",
    "\n",
    "## whenever more than one node in the classification, you will use softmax function\n",
    "\n",
    "model.add(layers.Dense(10,activation ='softmax')) \n",
    "\n"
   ]
  },
  {
   "cell_type": "code",
   "execution_count": 40,
   "metadata": {},
   "outputs": [
    {
     "name": "stdout",
     "output_type": "stream",
     "text": [
      "Model: \"sequential_2\"\n",
      "_________________________________________________________________\n",
      "Layer (type)                 Output Shape              Param #   \n",
      "=================================================================\n",
      "flatten_2 (Flatten)          (None, 784)               0         \n",
      "_________________________________________________________________\n",
      "dense_6 (Dense)              (None, 128)               100480    \n",
      "_________________________________________________________________\n",
      "dense_7 (Dense)              (None, 30)                3870      \n",
      "_________________________________________________________________\n",
      "dense_8 (Dense)              (None, 10)                310       \n",
      "=================================================================\n",
      "Total params: 104,660\n",
      "Trainable params: 104,660\n",
      "Non-trainable params: 0\n",
      "_________________________________________________________________\n"
     ]
    }
   ],
   "source": [
    "model.summary()"
   ]
  },
  {
   "cell_type": "code",
   "execution_count": 41,
   "metadata": {},
   "outputs": [],
   "source": [
    "## whats the difference between sparse_categorical_crossentropy and just categorical_crossentropy\n",
    "## in this you dont need to label your target variable into one-hot-encoding\n",
    "import tensorflow as tf\n",
    "model.compile(loss='sparse_categorical_crossentropy',optimizer='sgd',metrics=['accuracy'])"
   ]
  },
  {
   "cell_type": "code",
   "execution_count": 42,
   "metadata": {},
   "outputs": [
    {
     "name": "stdout",
     "output_type": "stream",
     "text": [
      "Train on 48000 samples, validate on 12000 samples\n",
      "Epoch 1/25\n",
      "48000/48000 [==============================] - 5s 111us/sample - loss: 0.7425 - accuracy: 0.8009 - val_loss: 0.3384 - val_accuracy: 0.9043\n",
      "Epoch 2/25\n",
      "48000/48000 [==============================] - 5s 100us/sample - loss: 0.3249 - accuracy: 0.9070 - val_loss: 0.2748 - val_accuracy: 0.9205\n",
      "Epoch 3/25\n",
      "48000/48000 [==============================] - 5s 97us/sample - loss: 0.2694 - accuracy: 0.9223 - val_loss: 0.2412 - val_accuracy: 0.9327\n",
      "Epoch 4/25\n",
      "48000/48000 [==============================] - 5s 95us/sample - loss: 0.2345 - accuracy: 0.9328 - val_loss: 0.2164 - val_accuracy: 0.9399\n",
      "Epoch 5/25\n",
      "48000/48000 [==============================] - 5s 97us/sample - loss: 0.2085 - accuracy: 0.9403 - val_loss: 0.1980 - val_accuracy: 0.9434\n",
      "Epoch 6/25\n",
      "48000/48000 [==============================] - 5s 96us/sample - loss: 0.1888 - accuracy: 0.9455 - val_loss: 0.1844 - val_accuracy: 0.9466\n",
      "Epoch 7/25\n",
      "48000/48000 [==============================] - 5s 97us/sample - loss: 0.1719 - accuracy: 0.9496 - val_loss: 0.1726 - val_accuracy: 0.9498\n",
      "Epoch 8/25\n",
      "48000/48000 [==============================] - 5s 96us/sample - loss: 0.1572 - accuracy: 0.9542 - val_loss: 0.1589 - val_accuracy: 0.9533\n",
      "Epoch 9/25\n",
      "48000/48000 [==============================] - 5s 97us/sample - loss: 0.1451 - accuracy: 0.9581 - val_loss: 0.1496 - val_accuracy: 0.9567\n",
      "Epoch 10/25\n",
      "48000/48000 [==============================] - 5s 97us/sample - loss: 0.1341 - accuracy: 0.9616 - val_loss: 0.1435 - val_accuracy: 0.9588\n",
      "Epoch 11/25\n",
      "48000/48000 [==============================] - 5s 99us/sample - loss: 0.1248 - accuracy: 0.9644 - val_loss: 0.1393 - val_accuracy: 0.9604\n",
      "Epoch 12/25\n",
      "48000/48000 [==============================] - 5s 97us/sample - loss: 0.1168 - accuracy: 0.9661 - val_loss: 0.1309 - val_accuracy: 0.9626\n",
      "Epoch 13/25\n",
      "48000/48000 [==============================] - 5s 100us/sample - loss: 0.1090 - accuracy: 0.9690 - val_loss: 0.1267 - val_accuracy: 0.9628\n",
      "Epoch 14/25\n",
      "48000/48000 [==============================] - 5s 105us/sample - loss: 0.1023 - accuracy: 0.9714 - val_loss: 0.1232 - val_accuracy: 0.9643\n",
      "Epoch 15/25\n",
      "48000/48000 [==============================] - 5s 104us/sample - loss: 0.0966 - accuracy: 0.9728 - val_loss: 0.1182 - val_accuracy: 0.9648\n",
      "Epoch 16/25\n",
      "48000/48000 [==============================] - 5s 96us/sample - loss: 0.0909 - accuracy: 0.9741 - val_loss: 0.1163 - val_accuracy: 0.9643\n",
      "Epoch 17/25\n",
      "48000/48000 [==============================] - 5s 97us/sample - loss: 0.0858 - accuracy: 0.9760 - val_loss: 0.1131 - val_accuracy: 0.9668\n",
      "Epoch 18/25\n",
      "48000/48000 [==============================] - 5s 99us/sample - loss: 0.0809 - accuracy: 0.9777 - val_loss: 0.1101 - val_accuracy: 0.9678\n",
      "Epoch 19/25\n",
      "48000/48000 [==============================] - 5s 96us/sample - loss: 0.0771 - accuracy: 0.9784 - val_loss: 0.1085 - val_accuracy: 0.9678\n",
      "Epoch 20/25\n",
      "48000/48000 [==============================] - 5s 96us/sample - loss: 0.0734 - accuracy: 0.9791 - val_loss: 0.1042 - val_accuracy: 0.9690\n",
      "Epoch 21/25\n",
      "48000/48000 [==============================] - 5s 101us/sample - loss: 0.0695 - accuracy: 0.9808 - val_loss: 0.1064 - val_accuracy: 0.9691\n",
      "Epoch 22/25\n",
      "48000/48000 [==============================] - 5s 96us/sample - loss: 0.0664 - accuracy: 0.9812 - val_loss: 0.1020 - val_accuracy: 0.9697\n",
      "Epoch 23/25\n",
      "48000/48000 [==============================] - 5s 97us/sample - loss: 0.0629 - accuracy: 0.9833 - val_loss: 0.1031 - val_accuracy: 0.9700\n",
      "Epoch 24/25\n",
      "48000/48000 [==============================] - 5s 100us/sample - loss: 0.0599 - accuracy: 0.9836 - val_loss: 0.0997 - val_accuracy: 0.9710\n",
      "Epoch 25/25\n",
      "48000/48000 [==============================] - 5s 99us/sample - loss: 0.0569 - accuracy: 0.9845 - val_loss: 0.0988 - val_accuracy: 0.9704\n"
     ]
    }
   ],
   "source": [
    "with tf.device('/gpu:0'):\n",
    "    history = model.fit(X_train,y_train,epochs=25,validation_split=0.2)"
   ]
  },
  {
   "cell_type": "code",
   "execution_count": 23,
   "metadata": {},
   "outputs": [],
   "source": [
    "y_pred = model.predict(X_test)\n",
    "## will give the probability of the same\n",
    "## so we need to get the number which has maximum value\n",
    "\n",
    "y_pred = y_pred.argmax(axis=1)"
   ]
  },
  {
   "cell_type": "code",
   "execution_count": 24,
   "metadata": {},
   "outputs": [
    {
     "data": {
      "text/plain": [
       "0.971"
      ]
     },
     "execution_count": 24,
     "metadata": {},
     "output_type": "execute_result"
    }
   ],
   "source": [
    "from sklearn.metrics import accuracy_score\n",
    "\n",
    "accuracy_score(y_test,y_pred)"
   ]
  },
  {
   "cell_type": "code",
   "execution_count": 43,
   "metadata": {},
   "outputs": [
    {
     "data": {
      "text/plain": [
       "Text(0.5, 1.0, 'Loss vs Val-Loss')"
      ]
     },
     "execution_count": 43,
     "metadata": {},
     "output_type": "execute_result"
    },
    {
     "data": {
      "image/png": "[encoded data removed]",
      "text/plain": [
       "<Figure size 432x288 with 1 Axes>"
      ]
     },
     "metadata": {
      "needs_background": "light"
     },
     "output_type": "display_data"
    }
   ],
   "source": [
    "plt.plot(history.history['loss'])\n",
    "plt.plot(history.history['val_loss'])\n",
    "plt.title(\"Loss vs Val-Loss\")"
   ]
  },
  {
   "cell_type": "code",
   "execution_count": 47,
   "metadata": {},
   "outputs": [
    {
     "data": {
      "text/plain": [
       "Text(0.5, 1.0, 'accuracy vs val-accuracy')"
      ]
     },
     "execution_count": 47,
     "metadata": {},
     "output_type": "execute_result"
    },
    {
     "data": {
      "image/png": "[encoded data removed]",
      "text/plain": [
       "<Figure size 432x288 with 1 Axes>"
      ]
     },
     "metadata": {
      "needs_background": "light"
     },
     "output_type": "display_data"
    }
   ],
   "source": [
    "plt.plot(history.history['accuracy'])\n",
    "plt.plot(history.history['val_accuracy'])\n",
    "plt.title(\"accuracy vs val-accuracy\")"
   ]
  },
  {
   "cell_type": "code",
   "execution_count": 45,
   "metadata": {},
   "outputs": [
    {
     "name": "stdout",
     "output_type": "stream",
     "text": [
      "2\n"
     ]
    },
    {
     "data": {
      "image/png": "[encoded data removed]",
      "text/plain": [
       "<Figure size 432x288 with 1 Axes>"
      ]
     },
     "metadata": {
      "needs_background": "light"
     },
     "output_type": "display_data"
    }
   ],
   "source": [
    "plt.imshow(X_test[1])\n",
    "\n",
    "print(y_pred[1])\n",
    "\n",
    "## our model predicted correctly"
   ]
  },
  {
   "cell_type": "code",
   "execution_count": 46,
   "metadata": {},
   "outputs": [
    {
     "data": {
      "text/plain": [
       "7"
      ]
     },
     "execution_count": 46,
     "metadata": {},
     "output_type": "execute_result"
    },
    {
     "data": {
      "image/png": "[encoded data removed]",
      "text/plain": [
       "<Figure size 432x288 with 1 Axes>"
      ]
     },
     "metadata": {
      "needs_background": "light"
     },
     "output_type": "display_data"
    }
   ],
   "source": [
    "## prediction model\n",
    "\n",
    "## we need to reshape the image\n",
    "## so single image which is 28*28 : so (1,28,28)\n",
    "\n",
    "plt.imshow(X_test[0])\n",
    "model.predict(X_test[0].reshape(1,28,28)).argmax()\n",
    "\n",
    "## Model is predicting 7 and image is also 7"
   ]
  },
  {
   "cell_type": "code",
   "execution_count": null,
   "metadata": {},
   "outputs": [],
   "source": []
  }
 ],
 "metadata": {
  "kernelspec": {
   "display_name": "Python 3.6.13 ('gputest')",
   "language": "python",
   "name": "python3"
  },
  "language_info": {
   "codemirror_mode": {
    "name": "ipython",
    "version": 3
   },
   "file_extension": ".py",
   "mimetype": "text/x-python",
   "name": "python",
   "nbconvert_exporter": "python",
   "pygments_lexer": "ipython3",
   "version": "3.6.13"
  },
  "orig_nbformat": 4,
  "vscode": {
   "interpreter": {
    "hash": "914c139996f68d185b073981459f96382266ba5f3df925a29404be19a0a7c343"
   }
  }
 },
 "nbformat": 4,
 "nbformat_minor": 2
}
