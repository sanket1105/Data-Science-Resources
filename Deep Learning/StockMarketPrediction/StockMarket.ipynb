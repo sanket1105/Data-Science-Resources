{
 "cells": [
  {
   "cell_type": "code",
   "execution_count": 1,
   "metadata": {},
   "outputs": [
    {
     "data": {
      "text/html": [
       "<div>\n",
       "<style scoped>\n",
       "    .dataframe tbody tr th:only-of-type {\n",
       "        vertical-align: middle;\n",
       "    }\n",
       "\n",
       "    .dataframe tbody tr th {\n",
       "        vertical-align: top;\n",
       "    }\n",
       "\n",
       "    .dataframe thead th {\n",
       "        text-align: right;\n",
       "    }\n",
       "</style>\n",
       "<table border=\"1\" class=\"dataframe\">\n",
       "  <thead>\n",
       "    <tr style=\"text-align: right;\">\n",
       "      <th></th>\n",
       "      <th>Unnamed: 0</th>\n",
       "      <th>symbol</th>\n",
       "      <th>date</th>\n",
       "      <th>close</th>\n",
       "      <th>high</th>\n",
       "      <th>low</th>\n",
       "      <th>open</th>\n",
       "      <th>volume</th>\n",
       "      <th>adjClose</th>\n",
       "      <th>adjHigh</th>\n",
       "      <th>adjLow</th>\n",
       "      <th>adjOpen</th>\n",
       "      <th>adjVolume</th>\n",
       "      <th>divCash</th>\n",
       "      <th>splitFactor</th>\n",
       "    </tr>\n",
       "  </thead>\n",
       "  <tbody>\n",
       "    <tr>\n",
       "      <th>0</th>\n",
       "      <td>0</td>\n",
       "      <td>AAPL</td>\n",
       "      <td>2015-05-27 00:00:00+00:00</td>\n",
       "      <td>132.045</td>\n",
       "      <td>132.260</td>\n",
       "      <td>130.05</td>\n",
       "      <td>130.34</td>\n",
       "      <td>45833246</td>\n",
       "      <td>121.682558</td>\n",
       "      <td>121.880685</td>\n",
       "      <td>119.844118</td>\n",
       "      <td>120.111360</td>\n",
       "      <td>45833246</td>\n",
       "      <td>0.0</td>\n",
       "      <td>1.0</td>\n",
       "    </tr>\n",
       "    <tr>\n",
       "      <th>1</th>\n",
       "      <td>1</td>\n",
       "      <td>AAPL</td>\n",
       "      <td>2015-05-28 00:00:00+00:00</td>\n",
       "      <td>131.780</td>\n",
       "      <td>131.950</td>\n",
       "      <td>131.10</td>\n",
       "      <td>131.86</td>\n",
       "      <td>30733309</td>\n",
       "      <td>121.438354</td>\n",
       "      <td>121.595013</td>\n",
       "      <td>120.811718</td>\n",
       "      <td>121.512076</td>\n",
       "      <td>30733309</td>\n",
       "      <td>0.0</td>\n",
       "      <td>1.0</td>\n",
       "    </tr>\n",
       "    <tr>\n",
       "      <th>2</th>\n",
       "      <td>2</td>\n",
       "      <td>AAPL</td>\n",
       "      <td>2015-05-29 00:00:00+00:00</td>\n",
       "      <td>130.280</td>\n",
       "      <td>131.450</td>\n",
       "      <td>129.90</td>\n",
       "      <td>131.23</td>\n",
       "      <td>50884452</td>\n",
       "      <td>120.056069</td>\n",
       "      <td>121.134251</td>\n",
       "      <td>119.705890</td>\n",
       "      <td>120.931516</td>\n",
       "      <td>50884452</td>\n",
       "      <td>0.0</td>\n",
       "      <td>1.0</td>\n",
       "    </tr>\n",
       "    <tr>\n",
       "      <th>3</th>\n",
       "      <td>3</td>\n",
       "      <td>AAPL</td>\n",
       "      <td>2015-06-01 00:00:00+00:00</td>\n",
       "      <td>130.535</td>\n",
       "      <td>131.390</td>\n",
       "      <td>130.05</td>\n",
       "      <td>131.20</td>\n",
       "      <td>32112797</td>\n",
       "      <td>120.291057</td>\n",
       "      <td>121.078960</td>\n",
       "      <td>119.844118</td>\n",
       "      <td>120.903870</td>\n",
       "      <td>32112797</td>\n",
       "      <td>0.0</td>\n",
       "      <td>1.0</td>\n",
       "    </tr>\n",
       "    <tr>\n",
       "      <th>4</th>\n",
       "      <td>4</td>\n",
       "      <td>AAPL</td>\n",
       "      <td>2015-06-02 00:00:00+00:00</td>\n",
       "      <td>129.960</td>\n",
       "      <td>130.655</td>\n",
       "      <td>129.32</td>\n",
       "      <td>129.86</td>\n",
       "      <td>33667627</td>\n",
       "      <td>119.761181</td>\n",
       "      <td>120.401640</td>\n",
       "      <td>119.171406</td>\n",
       "      <td>119.669029</td>\n",
       "      <td>33667627</td>\n",
       "      <td>0.0</td>\n",
       "      <td>1.0</td>\n",
       "    </tr>\n",
       "  </tbody>\n",
       "</table>\n",
       "</div>"
      ],
      "text/plain": [
       "   Unnamed: 0 symbol                       date    close     high     low  \\\n",
       "0           0   AAPL  2015-05-27 00:00:00+00:00  132.045  132.260  130.05   \n",
       "1           1   AAPL  2015-05-28 00:00:00+00:00  131.780  131.950  131.10   \n",
       "2           2   AAPL  2015-05-29 00:00:00+00:00  130.280  131.450  129.90   \n",
       "3           3   AAPL  2015-06-01 00:00:00+00:00  130.535  131.390  130.05   \n",
       "4           4   AAPL  2015-06-02 00:00:00+00:00  129.960  130.655  129.32   \n",
       "\n",
       "     open    volume    adjClose     adjHigh      adjLow     adjOpen  \\\n",
       "0  130.34  45833246  121.682558  121.880685  119.844118  120.111360   \n",
       "1  131.86  30733309  121.438354  121.595013  120.811718  121.512076   \n",
       "2  131.23  50884452  120.056069  121.134251  119.705890  120.931516   \n",
       "3  131.20  32112797  120.291057  121.078960  119.844118  120.903870   \n",
       "4  129.86  33667627  119.761181  120.401640  119.171406  119.669029   \n",
       "\n",
       "   adjVolume  divCash  splitFactor  \n",
       "0   45833246      0.0          1.0  \n",
       "1   30733309      0.0          1.0  \n",
       "2   50884452      0.0          1.0  \n",
       "3   32112797      0.0          1.0  \n",
       "4   33667627      0.0          1.0  "
      ]
     },
     "execution_count": 1,
     "metadata": {},
     "output_type": "execute_result"
    }
   ],
   "source": [
    "import pandas as pd\n",
    "import numpy as np\n",
    "\n",
    "data = pd.read_csv(\"AAPL.csv\")\n",
    "data.head()"
   ]
  },
  {
   "cell_type": "code",
   "execution_count": 3,
   "metadata": {},
   "outputs": [
    {
     "name": "stdout",
     "output_type": "stream",
     "text": [
      "<class 'pandas.core.frame.DataFrame'>\n",
      "RangeIndex: 1258 entries, 0 to 1257\n",
      "Data columns (total 15 columns):\n",
      " #   Column       Non-Null Count  Dtype  \n",
      "---  ------       --------------  -----  \n",
      " 0   Unnamed: 0   1258 non-null   int64  \n",
      " 1   symbol       1258 non-null   object \n",
      " 2   date         1258 non-null   object \n",
      " 3   close        1258 non-null   float64\n",
      " 4   high         1258 non-null   float64\n",
      " 5   low          1258 non-null   float64\n",
      " 6   open         1258 non-null   float64\n",
      " 7   volume       1258 non-null   int64  \n",
      " 8   adjClose     1258 non-null   float64\n",
      " 9   adjHigh      1258 non-null   float64\n",
      " 10  adjLow       1258 non-null   float64\n",
      " 11  adjOpen      1258 non-null   float64\n",
      " 12  adjVolume    1258 non-null   int64  \n",
      " 13  divCash      1258 non-null   float64\n",
      " 14  splitFactor  1258 non-null   float64\n",
      "dtypes: float64(10), int64(3), object(2)\n",
      "memory usage: 147.5+ KB\n"
     ]
    }
   ],
   "source": [
    "data.info()\n",
    "## no null values"
   ]
  },
  {
   "cell_type": "code",
   "execution_count": 4,
   "metadata": {},
   "outputs": [
    {
     "data": {
      "text/html": [
       "<div>\n",
       "<style scoped>\n",
       "    .dataframe tbody tr th:only-of-type {\n",
       "        vertical-align: middle;\n",
       "    }\n",
       "\n",
       "    .dataframe tbody tr th {\n",
       "        vertical-align: top;\n",
       "    }\n",
       "\n",
       "    .dataframe thead th {\n",
       "        text-align: right;\n",
       "    }\n",
       "</style>\n",
       "<table border=\"1\" class=\"dataframe\">\n",
       "  <thead>\n",
       "    <tr style=\"text-align: right;\">\n",
       "      <th></th>\n",
       "      <th>index</th>\n",
       "      <th>Unnamed: 0</th>\n",
       "      <th>symbol</th>\n",
       "      <th>date</th>\n",
       "      <th>close</th>\n",
       "      <th>high</th>\n",
       "      <th>low</th>\n",
       "      <th>open</th>\n",
       "      <th>volume</th>\n",
       "      <th>adjClose</th>\n",
       "      <th>adjHigh</th>\n",
       "      <th>adjLow</th>\n",
       "      <th>adjOpen</th>\n",
       "      <th>adjVolume</th>\n",
       "      <th>divCash</th>\n",
       "      <th>splitFactor</th>\n",
       "    </tr>\n",
       "  </thead>\n",
       "  <tbody>\n",
       "    <tr>\n",
       "      <th>0</th>\n",
       "      <td>0</td>\n",
       "      <td>0</td>\n",
       "      <td>AAPL</td>\n",
       "      <td>2015-05-27 00:00:00+00:00</td>\n",
       "      <td>132.045</td>\n",
       "      <td>132.260</td>\n",
       "      <td>130.05</td>\n",
       "      <td>130.34</td>\n",
       "      <td>45833246</td>\n",
       "      <td>121.682558</td>\n",
       "      <td>121.880685</td>\n",
       "      <td>119.844118</td>\n",
       "      <td>120.111360</td>\n",
       "      <td>45833246</td>\n",
       "      <td>0.0</td>\n",
       "      <td>1.0</td>\n",
       "    </tr>\n",
       "    <tr>\n",
       "      <th>1</th>\n",
       "      <td>1</td>\n",
       "      <td>1</td>\n",
       "      <td>AAPL</td>\n",
       "      <td>2015-05-28 00:00:00+00:00</td>\n",
       "      <td>131.780</td>\n",
       "      <td>131.950</td>\n",
       "      <td>131.10</td>\n",
       "      <td>131.86</td>\n",
       "      <td>30733309</td>\n",
       "      <td>121.438354</td>\n",
       "      <td>121.595013</td>\n",
       "      <td>120.811718</td>\n",
       "      <td>121.512076</td>\n",
       "      <td>30733309</td>\n",
       "      <td>0.0</td>\n",
       "      <td>1.0</td>\n",
       "    </tr>\n",
       "    <tr>\n",
       "      <th>2</th>\n",
       "      <td>2</td>\n",
       "      <td>2</td>\n",
       "      <td>AAPL</td>\n",
       "      <td>2015-05-29 00:00:00+00:00</td>\n",
       "      <td>130.280</td>\n",
       "      <td>131.450</td>\n",
       "      <td>129.90</td>\n",
       "      <td>131.23</td>\n",
       "      <td>50884452</td>\n",
       "      <td>120.056069</td>\n",
       "      <td>121.134251</td>\n",
       "      <td>119.705890</td>\n",
       "      <td>120.931516</td>\n",
       "      <td>50884452</td>\n",
       "      <td>0.0</td>\n",
       "      <td>1.0</td>\n",
       "    </tr>\n",
       "    <tr>\n",
       "      <th>3</th>\n",
       "      <td>3</td>\n",
       "      <td>3</td>\n",
       "      <td>AAPL</td>\n",
       "      <td>2015-06-01 00:00:00+00:00</td>\n",
       "      <td>130.535</td>\n",
       "      <td>131.390</td>\n",
       "      <td>130.05</td>\n",
       "      <td>131.20</td>\n",
       "      <td>32112797</td>\n",
       "      <td>120.291057</td>\n",
       "      <td>121.078960</td>\n",
       "      <td>119.844118</td>\n",
       "      <td>120.903870</td>\n",
       "      <td>32112797</td>\n",
       "      <td>0.0</td>\n",
       "      <td>1.0</td>\n",
       "    </tr>\n",
       "    <tr>\n",
       "      <th>4</th>\n",
       "      <td>4</td>\n",
       "      <td>4</td>\n",
       "      <td>AAPL</td>\n",
       "      <td>2015-06-02 00:00:00+00:00</td>\n",
       "      <td>129.960</td>\n",
       "      <td>130.655</td>\n",
       "      <td>129.32</td>\n",
       "      <td>129.86</td>\n",
       "      <td>33667627</td>\n",
       "      <td>119.761181</td>\n",
       "      <td>120.401640</td>\n",
       "      <td>119.171406</td>\n",
       "      <td>119.669029</td>\n",
       "      <td>33667627</td>\n",
       "      <td>0.0</td>\n",
       "      <td>1.0</td>\n",
       "    </tr>\n",
       "  </tbody>\n",
       "</table>\n",
       "</div>"
      ],
      "text/plain": [
       "   index  Unnamed: 0 symbol                       date    close     high  \\\n",
       "0      0           0   AAPL  2015-05-27 00:00:00+00:00  132.045  132.260   \n",
       "1      1           1   AAPL  2015-05-28 00:00:00+00:00  131.780  131.950   \n",
       "2      2           2   AAPL  2015-05-29 00:00:00+00:00  130.280  131.450   \n",
       "3      3           3   AAPL  2015-06-01 00:00:00+00:00  130.535  131.390   \n",
       "4      4           4   AAPL  2015-06-02 00:00:00+00:00  129.960  130.655   \n",
       "\n",
       "      low    open    volume    adjClose     adjHigh      adjLow     adjOpen  \\\n",
       "0  130.05  130.34  45833246  121.682558  121.880685  119.844118  120.111360   \n",
       "1  131.10  131.86  30733309  121.438354  121.595013  120.811718  121.512076   \n",
       "2  129.90  131.23  50884452  120.056069  121.134251  119.705890  120.931516   \n",
       "3  130.05  131.20  32112797  120.291057  121.078960  119.844118  120.903870   \n",
       "4  129.32  129.86  33667627  119.761181  120.401640  119.171406  119.669029   \n",
       "\n",
       "   adjVolume  divCash  splitFactor  \n",
       "0   45833246      0.0          1.0  \n",
       "1   30733309      0.0          1.0  \n",
       "2   50884452      0.0          1.0  \n",
       "3   32112797      0.0          1.0  \n",
       "4   33667627      0.0          1.0  "
      ]
     },
     "execution_count": 4,
     "metadata": {},
     "output_type": "execute_result"
    }
   ],
   "source": [
    "data1 = data.reset_index()\n",
    "data1.head()"
   ]
  },
  {
   "cell_type": "code",
   "execution_count": 7,
   "metadata": {},
   "outputs": [
    {
     "data": {
      "text/plain": [
       "0       132.045\n",
       "1       131.780\n",
       "2       130.280\n",
       "3       130.535\n",
       "4       129.960\n",
       "         ...   \n",
       "1253    314.960\n",
       "1254    313.140\n",
       "1255    319.230\n",
       "1256    316.850\n",
       "1257    318.890\n",
       "Name: close, Length: 1258, dtype: float64"
      ]
     },
     "execution_count": 7,
     "metadata": {},
     "output_type": "execute_result"
    }
   ],
   "source": [
    "df1 = data1.close\n",
    "df1"
   ]
  },
  {
   "cell_type": "code",
   "execution_count": 8,
   "metadata": {},
   "outputs": [
    {
     "data": {
      "text/plain": [
       "[<matplotlib.lines.Line2D at 0x20f108ab278>]"
      ]
     },
     "execution_count": 8,
     "metadata": {},
     "output_type": "execute_result"
    },
    {
     "data": {
      "image/png": "[encoded data removed]",
      "text/plain": [
       "<Figure size 432x288 with 1 Axes>"
      ]
     },
     "metadata": {
      "needs_background": "light"
     },
     "output_type": "display_data"
    }
   ],
   "source": [
    "import matplotlib.pyplot as plt\n",
    "plt.plot(df1)"
   ]
  },
  {
   "cell_type": "code",
   "execution_count": 11,
   "metadata": {},
   "outputs": [
    {
     "data": {
      "text/plain": [
       "array([[0.17607447],\n",
       "       [0.17495567],\n",
       "       [0.16862282],\n",
       "       ...,\n",
       "       [0.96635143],\n",
       "       [0.9563033 ],\n",
       "       [0.96491598]])"
      ]
     },
     "execution_count": 11,
     "metadata": {},
     "output_type": "execute_result"
    }
   ],
   "source": [
    "from sklearn.preprocessing import MinMaxScaler\n",
    "scaler = MinMaxScaler()\n",
    "df1 = scaler.fit_transform(np.array(df1).reshape(-1,1))\n",
    "df1"
   ]
  },
  {
   "cell_type": "markdown",
   "metadata": {},
   "source": [
    "## Tip:\n",
    "\n",
    "You must divide the data into train and testing in many ways: like train_tets split, or cross validation or random seed split\n",
    "\n",
    "But dividing the dataset while dealing with time series data, shoul be taken care of"
   ]
  },
  {
   "cell_type": "code",
   "execution_count": 13,
   "metadata": {},
   "outputs": [],
   "source": [
    "## lets split in train and test dataset\n",
    "train_size = int(len(df1)*0.65)\n",
    "test_size = len(df1) - train_size\n",
    "train_data, test_data = df1[:train_size], df1[train_size:]"
   ]
  },
  {
   "cell_type": "code",
   "execution_count": 15,
   "metadata": {},
   "outputs": [
    {
     "data": {
      "text/plain": [
       "(817, 441)"
      ]
     },
     "execution_count": 15,
     "metadata": {},
     "output_type": "execute_result"
    }
   ],
   "source": [
    "train_data.size, test_data.size"
   ]
  },
  {
   "cell_type": "code",
   "execution_count": 19,
   "metadata": {},
   "outputs": [],
   "source": [
    "import numpy\n",
    "# convert an array of values into a dataset matrix\n",
    "def create_dataset(dataset, time_step=1):\n",
    "\tdataX, dataY = [], []\n",
    "\tfor i in range(len(dataset)-time_step-1):\n",
    "\t\ta = dataset[i:(i+time_step),0]   ###i=0, 0,1,2,3-----99   100 \n",
    "\t\tdataX.append(a)\n",
    "\t\tdataY.append(dataset[i + time_step,0])\n",
    "\treturn numpy.array(dataX), numpy.array(dataY)"
   ]
  },
  {
   "cell_type": "code",
   "execution_count": 20,
   "metadata": {},
   "outputs": [],
   "source": [
    "# reshape into X=t,t+1,t+2,t+3 and Y=t+4\n",
    "time_step = 100\n",
    "X_train, y_train = create_dataset(train_data, time_step)\n",
    "X_test, ytest = create_dataset(test_data, time_step)\n"
   ]
  },
  {
   "cell_type": "code",
   "execution_count": 21,
   "metadata": {},
   "outputs": [
    {
     "name": "stdout",
     "output_type": "stream",
     "text": [
      "(716, 100)\n",
      "(716,)\n"
     ]
    },
    {
     "data": {
      "text/plain": [
       "(None, None)"
      ]
     },
     "execution_count": 21,
     "metadata": {},
     "output_type": "execute_result"
    }
   ],
   "source": [
    "print(X_train.shape), print(y_train.shape)\n"
   ]
  },
  {
   "cell_type": "code",
   "execution_count": 23,
   "metadata": {},
   "outputs": [],
   "source": [
    "## before implementing a LSTM, we need to reshape our data into 3 dimension!\n",
    "X_train =X_train.reshape(X_train.shape[0],X_train.shape[1] , 1)\n",
    "X_test = X_test.reshape(X_test.shape[0],X_test.shape[1] , 1)\n"
   ]
  },
  {
   "cell_type": "code",
   "execution_count": 25,
   "metadata": {},
   "outputs": [
    {
     "data": {
      "text/plain": [
       "(716, 100, 1)"
      ]
     },
     "execution_count": 25,
     "metadata": {},
     "output_type": "execute_result"
    }
   ],
   "source": [
    "X_train.shape"
   ]
  },
  {
   "cell_type": "code",
   "execution_count": 24,
   "metadata": {},
   "outputs": [],
   "source": [
    "### Create the Stacked LSTM model\n",
    "from tensorflow.keras.models import Sequential\n",
    "from tensorflow.keras.layers import Dense\n",
    "from tensorflow.keras.layers import LSTM"
   ]
  },
  {
   "cell_type": "markdown",
   "metadata": {},
   "source": [
    "There are two primary situations when you can apply the return_sequences to return the full sequence. Stacking RNN, the former RNN layer or layers should set return_sequences to True so that the following RNN layer or layers can have the full sequence as input. We want to generate classification for each time step.\n"
   ]
  },
  {
   "cell_type": "code",
   "execution_count": 27,
   "metadata": {},
   "outputs": [],
   "source": [
    "model = Sequential()\n",
    "model.add(LSTM(50,input_shape=(100,1),return_sequences=True))\n",
    "model.add(LSTM(50,return_sequences=True))\n",
    "model.add(LSTM(50))\n",
    "model.add(Dense(1))\n",
    "model.compile(loss='mean_squared_error',optimizer='adam')\n"
   ]
  },
  {
   "cell_type": "code",
   "execution_count": 29,
   "metadata": {},
   "outputs": [
    {
     "name": "stdout",
     "output_type": "stream",
     "text": [
      "Model: \"sequential_1\"\n",
      "_________________________________________________________________\n",
      "Layer (type)                 Output Shape              Param #   \n",
      "=================================================================\n",
      "lstm_2 (LSTM)                (None, 100, 50)           10400     \n",
      "_________________________________________________________________\n",
      "lstm_3 (LSTM)                (None, 100, 50)           20200     \n",
      "_________________________________________________________________\n",
      "lstm_4 (LSTM)                (None, 50)                20200     \n",
      "_________________________________________________________________\n",
      "dense (Dense)                (None, 1)                 51        \n",
      "=================================================================\n",
      "Total params: 50,851\n",
      "Trainable params: 50,851\n",
      "Non-trainable params: 0\n",
      "_________________________________________________________________\n"
     ]
    }
   ],
   "source": [
    "model.summary()"
   ]
  },
  {
   "cell_type": "code",
   "execution_count": 33,
   "metadata": {},
   "outputs": [
    {
     "name": "stdout",
     "output_type": "stream",
     "text": [
      "[INFO] training network...\n",
      "Train on 716 samples, validate on 340 samples\n",
      "Epoch 1/100\n",
      "716/716 [==============================] - 1s 1ms/sample - loss: 0.0032 - val_loss: 0.0039\n",
      "Epoch 2/100\n",
      "716/716 [==============================] - 1s 905us/sample - loss: 0.0010 - val_loss: 0.0049\n",
      "Epoch 3/100\n",
      "716/716 [==============================] - 1s 866us/sample - loss: 6.7743e-04 - val_loss: 0.0037\n",
      "Epoch 4/100\n",
      "716/716 [==============================] - 1s 849us/sample - loss: 5.7066e-04 - val_loss: 0.0040\n",
      "Epoch 5/100\n",
      "716/716 [==============================] - 1s 834us/sample - loss: 5.7039e-04 - val_loss: 0.0034\n",
      "Epoch 6/100\n",
      "716/716 [==============================] - 1s 868us/sample - loss: 5.7568e-04 - val_loss: 0.0038\n",
      "Epoch 7/100\n",
      "716/716 [==============================] - 1s 947us/sample - loss: 5.5454e-04 - val_loss: 0.0034\n",
      "Epoch 8/100\n",
      "716/716 [==============================] - 1s 922us/sample - loss: 5.6113e-04 - val_loss: 0.0033\n",
      "Epoch 9/100\n",
      "716/716 [==============================] - 1s 885us/sample - loss: 5.4249e-04 - val_loss: 0.0033\n",
      "Epoch 10/100\n",
      "716/716 [==============================] - 1s 806us/sample - loss: 5.5943e-04 - val_loss: 0.0032\n",
      "Epoch 11/100\n",
      "716/716 [==============================] - 1s 826us/sample - loss: 5.5030e-04 - val_loss: 0.0031\n",
      "Epoch 12/100\n",
      "716/716 [==============================] - 1s 826us/sample - loss: 5.3564e-04 - val_loss: 0.0030\n",
      "Epoch 13/100\n",
      "716/716 [==============================] - 1s 868us/sample - loss: 5.2298e-04 - val_loss: 0.0030\n",
      "Epoch 14/100\n",
      "716/716 [==============================] - 1s 833us/sample - loss: 5.3727e-04 - val_loss: 0.0031\n",
      "Epoch 15/100\n",
      "716/716 [==============================] - 1s 830us/sample - loss: 5.3135e-04 - val_loss: 0.0030\n",
      "Epoch 16/100\n",
      "716/716 [==============================] - 1s 834us/sample - loss: 4.9155e-04 - val_loss: 0.0030\n",
      "Epoch 17/100\n",
      "716/716 [==============================] - 1s 840us/sample - loss: 4.9436e-04 - val_loss: 0.0028\n",
      "Epoch 18/100\n",
      "716/716 [==============================] - 1s 809us/sample - loss: 4.9945e-04 - val_loss: 0.0027\n",
      "Epoch 19/100\n",
      "716/716 [==============================] - 1s 851us/sample - loss: 4.7447e-04 - val_loss: 0.0028\n",
      "Epoch 20/100\n",
      "716/716 [==============================] - 1s 803us/sample - loss: 4.6409e-04 - val_loss: 0.0033\n",
      "Epoch 21/100\n",
      "716/716 [==============================] - 1s 864us/sample - loss: 5.3417e-04 - val_loss: 0.0025\n",
      "Epoch 22/100\n",
      "716/716 [==============================] - 1s 835us/sample - loss: 5.5797e-04 - val_loss: 0.0024\n",
      "Epoch 23/100\n",
      "716/716 [==============================] - 1s 858us/sample - loss: 4.9182e-04 - val_loss: 0.0024\n",
      "Epoch 24/100\n",
      "716/716 [==============================] - 1s 876us/sample - loss: 4.3389e-04 - val_loss: 0.0024\n",
      "Epoch 25/100\n",
      "716/716 [==============================] - 1s 865us/sample - loss: 4.6810e-04 - val_loss: 0.0022\n",
      "Epoch 26/100\n",
      "716/716 [==============================] - 1s 824us/sample - loss: 4.3941e-04 - val_loss: 0.0022\n",
      "Epoch 27/100\n",
      "716/716 [==============================] - 1s 865us/sample - loss: 4.2949e-04 - val_loss: 0.0024\n",
      "Epoch 28/100\n",
      "716/716 [==============================] - 1s 829us/sample - loss: 4.2997e-04 - val_loss: 0.0020\n",
      "Epoch 29/100\n",
      "716/716 [==============================] - 1s 885us/sample - loss: 4.1577e-04 - val_loss: 0.0020\n",
      "Epoch 30/100\n",
      "716/716 [==============================] - 1s 882us/sample - loss: 4.0296e-04 - val_loss: 0.0018\n",
      "Epoch 31/100\n",
      "716/716 [==============================] - 1s 865us/sample - loss: 4.0635e-04 - val_loss: 0.0019\n",
      "Epoch 32/100\n",
      "716/716 [==============================] - 1s 879us/sample - loss: 3.8924e-04 - val_loss: 0.0025\n",
      "Epoch 33/100\n",
      "716/716 [==============================] - 1s 882us/sample - loss: 4.1460e-04 - val_loss: 0.0017\n",
      "Epoch 34/100\n",
      "716/716 [==============================] - 1s 854us/sample - loss: 3.7031e-04 - val_loss: 0.0017\n",
      "Epoch 35/100\n",
      "716/716 [==============================] - 1s 872us/sample - loss: 3.8479e-04 - val_loss: 0.0017\n",
      "Epoch 36/100\n",
      "716/716 [==============================] - 1s 896us/sample - loss: 3.9781e-04 - val_loss: 0.0029\n",
      "Epoch 37/100\n",
      "716/716 [==============================] - 1s 878us/sample - loss: 4.1693e-04 - val_loss: 0.0016\n",
      "Epoch 38/100\n",
      "716/716 [==============================] - 1s 873us/sample - loss: 3.6113e-04 - val_loss: 0.0015\n",
      "Epoch 39/100\n",
      "716/716 [==============================] - 1s 865us/sample - loss: 3.4047e-04 - val_loss: 0.0019\n",
      "Epoch 40/100\n",
      "716/716 [==============================] - 1s 851us/sample - loss: 3.3681e-04 - val_loss: 0.0017\n",
      "Epoch 41/100\n",
      "716/716 [==============================] - 1s 871us/sample - loss: 3.7410e-04 - val_loss: 0.0035\n",
      "Epoch 42/100\n",
      "716/716 [==============================] - 1s 843us/sample - loss: 4.6202e-04 - val_loss: 0.0018\n",
      "Epoch 43/100\n",
      "716/716 [==============================] - 1s 836us/sample - loss: 3.7658e-04 - val_loss: 0.0020\n",
      "Epoch 44/100\n",
      "716/716 [==============================] - 1s 823us/sample - loss: 3.3454e-04 - val_loss: 0.0014\n",
      "Epoch 45/100\n",
      "716/716 [==============================] - 1s 870us/sample - loss: 3.1588e-04 - val_loss: 0.0016\n",
      "Epoch 46/100\n",
      "716/716 [==============================] - 1s 872us/sample - loss: 3.1472e-04 - val_loss: 0.0014\n",
      "Epoch 47/100\n",
      "716/716 [==============================] - 1s 862us/sample - loss: 3.2023e-04 - val_loss: 0.0018\n",
      "Epoch 48/100\n",
      "716/716 [==============================] - 1s 883us/sample - loss: 3.3016e-04 - val_loss: 0.0018\n",
      "Epoch 49/100\n",
      "716/716 [==============================] - 1s 838us/sample - loss: 3.0279e-04 - val_loss: 0.0013\n",
      "Epoch 50/100\n",
      "716/716 [==============================] - 1s 870us/sample - loss: 3.1481e-04 - val_loss: 0.0017\n",
      "Epoch 51/100\n",
      "716/716 [==============================] - 1s 861us/sample - loss: 3.0441e-04 - val_loss: 0.0014\n",
      "Epoch 52/100\n",
      "716/716 [==============================] - 1s 870us/sample - loss: 3.0197e-04 - val_loss: 0.0016\n",
      "Epoch 53/100\n",
      "716/716 [==============================] - 1s 847us/sample - loss: 3.0569e-04 - val_loss: 0.0018\n",
      "Epoch 54/100\n",
      "716/716 [==============================] - 1s 878us/sample - loss: 2.8630e-04 - val_loss: 0.0013\n",
      "Epoch 55/100\n",
      "716/716 [==============================] - 1s 876us/sample - loss: 2.9913e-04 - val_loss: 0.0014\n",
      "Epoch 56/100\n",
      "716/716 [==============================] - 1s 867us/sample - loss: 3.0067e-04 - val_loss: 0.0032\n",
      "Epoch 57/100\n",
      "716/716 [==============================] - 1s 833us/sample - loss: 3.3753e-04 - val_loss: 0.0014\n",
      "Epoch 58/100\n",
      "716/716 [==============================] - 1s 838us/sample - loss: 2.8545e-04 - val_loss: 0.0013\n",
      "Epoch 59/100\n",
      "716/716 [==============================] - 1s 841us/sample - loss: 2.5042e-04 - val_loss: 0.0014\n",
      "Epoch 60/100\n",
      "716/716 [==============================] - 1s 872us/sample - loss: 2.4351e-04 - val_loss: 0.0014\n",
      "Epoch 61/100\n",
      "716/716 [==============================] - 1s 818us/sample - loss: 2.4237e-04 - val_loss: 0.0013\n",
      "Epoch 62/100\n",
      "716/716 [==============================] - 1s 839us/sample - loss: 2.4081e-04 - val_loss: 0.0014\n",
      "Epoch 63/100\n",
      "716/716 [==============================] - 1s 867us/sample - loss: 2.4726e-04 - val_loss: 0.0012\n",
      "Epoch 64/100\n",
      "716/716 [==============================] - 1s 828us/sample - loss: 2.4966e-04 - val_loss: 0.0013\n",
      "Epoch 65/100\n",
      "716/716 [==============================] - 1s 896us/sample - loss: 2.3983e-04 - val_loss: 0.0016\n",
      "Epoch 66/100\n",
      "716/716 [==============================] - 1s 874us/sample - loss: 2.3682e-04 - val_loss: 0.0015\n",
      "Epoch 67/100\n",
      "716/716 [==============================] - 1s 823us/sample - loss: 2.7117e-04 - val_loss: 0.0012\n",
      "Epoch 68/100\n",
      "716/716 [==============================] - 1s 867us/sample - loss: 2.5770e-04 - val_loss: 0.0016\n",
      "Epoch 69/100\n",
      "716/716 [==============================] - 1s 870us/sample - loss: 2.1378e-04 - val_loss: 0.0011\n",
      "Epoch 70/100\n",
      "716/716 [==============================] - 1s 847us/sample - loss: 1.9997e-04 - val_loss: 0.0013\n",
      "Epoch 71/100\n",
      "716/716 [==============================] - 1s 869us/sample - loss: 2.0420e-04 - val_loss: 0.0011\n",
      "Epoch 72/100\n",
      "716/716 [==============================] - 1s 854us/sample - loss: 1.9402e-04 - val_loss: 0.0010\n",
      "Epoch 73/100\n",
      "716/716 [==============================] - 1s 840us/sample - loss: 1.9682e-04 - val_loss: 0.0011\n",
      "Epoch 74/100\n",
      "716/716 [==============================] - 1s 873us/sample - loss: 2.1300e-04 - val_loss: 0.0010\n",
      "Epoch 75/100\n",
      "716/716 [==============================] - 1s 852us/sample - loss: 1.8001e-04 - val_loss: 0.0010\n",
      "Epoch 76/100\n",
      "716/716 [==============================] - 1s 888us/sample - loss: 1.8606e-04 - val_loss: 0.0012\n",
      "Epoch 77/100\n",
      "716/716 [==============================] - 1s 855us/sample - loss: 1.8962e-04 - val_loss: 0.0012\n",
      "Epoch 78/100\n",
      "716/716 [==============================] - 1s 868us/sample - loss: 1.8679e-04 - val_loss: 9.5099e-04\n",
      "Epoch 79/100\n",
      "716/716 [==============================] - 1s 811us/sample - loss: 1.7598e-04 - val_loss: 0.0010\n",
      "Epoch 80/100\n",
      "716/716 [==============================] - 1s 891us/sample - loss: 1.8392e-04 - val_loss: 9.3613e-04\n",
      "Epoch 81/100\n",
      "716/716 [==============================] - 1s 878us/sample - loss: 1.7808e-04 - val_loss: 9.4117e-04\n",
      "Epoch 82/100\n",
      "716/716 [==============================] - 1s 864us/sample - loss: 1.6035e-04 - val_loss: 9.0798e-04\n",
      "Epoch 83/100\n",
      "716/716 [==============================] - 1s 868us/sample - loss: 1.6454e-04 - val_loss: 9.0803e-04\n",
      "Epoch 84/100\n",
      "716/716 [==============================] - 1s 872us/sample - loss: 1.5947e-04 - val_loss: 8.9101e-04\n",
      "Epoch 85/100\n",
      "716/716 [==============================] - 1s 879us/sample - loss: 1.6092e-04 - val_loss: 8.8809e-04\n",
      "Epoch 86/100\n",
      "716/716 [==============================] - 1s 878us/sample - loss: 1.7619e-04 - val_loss: 0.0010\n",
      "Epoch 87/100\n",
      "716/716 [==============================] - 1s 878us/sample - loss: 1.6134e-04 - val_loss: 9.6393e-04\n",
      "Epoch 88/100\n",
      "716/716 [==============================] - 1s 873us/sample - loss: 1.4719e-04 - val_loss: 9.1430e-04\n",
      "Epoch 89/100\n",
      "716/716 [==============================] - 1s 905us/sample - loss: 1.5548e-04 - val_loss: 8.6345e-04\n",
      "Epoch 90/100\n",
      "716/716 [==============================] - 1s 874us/sample - loss: 1.7960e-04 - val_loss: 9.6377e-04\n",
      "Epoch 91/100\n",
      "716/716 [==============================] - 1s 933us/sample - loss: 1.5761e-04 - val_loss: 8.5438e-04\n",
      "Epoch 92/100\n",
      "716/716 [==============================] - 1s 910us/sample - loss: 1.4685e-04 - val_loss: 0.0011\n",
      "Epoch 93/100\n",
      "716/716 [==============================] - 1s 943us/sample - loss: 1.4334e-04 - val_loss: 9.0960e-04\n",
      "Epoch 94/100\n",
      "716/716 [==============================] - 1s 919us/sample - loss: 1.7918e-04 - val_loss: 0.0010\n",
      "Epoch 95/100\n",
      "716/716 [==============================] - 1s 901us/sample - loss: 2.0391e-04 - val_loss: 0.0014\n",
      "Epoch 96/100\n",
      "716/716 [==============================] - 1s 900us/sample - loss: 1.5593e-04 - val_loss: 0.0011\n",
      "Epoch 97/100\n",
      "716/716 [==============================] - 1s 991us/sample - loss: 1.4194e-04 - val_loss: 8.6414e-04\n",
      "Epoch 98/100\n",
      "716/716 [==============================] - 1s 926us/sample - loss: 1.3777e-04 - val_loss: 0.0011\n",
      "Epoch 99/100\n",
      "716/716 [==============================] - 1s 917us/sample - loss: 1.4604e-04 - val_loss: 9.2703e-04\n",
      "Epoch 100/100\n",
      "716/716 [==============================] - 1s 911us/sample - loss: 1.4709e-04 - val_loss: 7.8617e-04\n"
     ]
    }
   ],
   "source": [
    "import tensorflow as tf\n",
    "with tf.device('/gpu:0'):\n",
    "    print(\"[INFO] training network...\") \n",
    "    model.fit(X_train,y_train,validation_data=(X_test,ytest),epochs=100,batch_size=64,verbose=1)\n"
   ]
  },
  {
   "cell_type": "code",
   "execution_count": 34,
   "metadata": {},
   "outputs": [],
   "source": [
    "train_predict=model.predict(X_train)\n",
    "test_predict=model.predict(X_test)"
   ]
  },
  {
   "cell_type": "code",
   "execution_count": 36,
   "metadata": {},
   "outputs": [],
   "source": [
    "## now since we have transformed the values, lets get back the original values and\n",
    "train_predict=scaler.inverse_transform(train_predict)\n",
    "test_predict=scaler.inverse_transform(test_predict)"
   ]
  },
  {
   "cell_type": "code",
   "execution_count": 40,
   "metadata": {},
   "outputs": [
    {
     "name": "stdout",
     "output_type": "stream",
     "text": [
      "141.2466636241605\n",
      "236.9946800281516\n"
     ]
    }
   ],
   "source": [
    "import math\n",
    "from sklearn.metrics import mean_squared_error\n",
    "\n",
    "print((mean_squared_error(y_train,train_predict))**0.5)\n",
    "print((mean_squared_error(ytest,test_predict))**0.5)"
   ]
  },
  {
   "cell_type": "code",
   "execution_count": 42,
   "metadata": {},
   "outputs": [
    {
     "data": {
      "image/png": "[encoded data removed]",
      "text/plain": [
       "<Figure size 432x288 with 1 Axes>"
      ]
     },
     "metadata": {
      "needs_background": "light"
     },
     "output_type": "display_data"
    }
   ],
   "source": [
    "### Plotting \n",
    "# shift train predictions for plotting\n",
    "look_back=100\n",
    "trainPredictPlot = numpy.empty_like(df1)\n",
    "trainPredictPlot[:, :] = np.nan\n",
    "trainPredictPlot[look_back:len(train_predict)+look_back, :] = train_predict\n",
    "# shift test predictions for plotting\n",
    "testPredictPlot = numpy.empty_like(df1)\n",
    "testPredictPlot[:, :] = numpy.nan\n",
    "testPredictPlot[len(train_predict)+(look_back*2)+1:len(df1)-1, :] = test_predict\n",
    "# plot baseline and predictions\n",
    "plt.plot(scaler.inverse_transform(df1))\n",
    "plt.plot(trainPredictPlot)\n",
    "plt.plot(testPredictPlot)\n",
    "plt.show()\n"
   ]
  },
  {
   "cell_type": "code",
   "execution_count": null,
   "metadata": {},
   "outputs": [],
   "source": []
  },
  {
   "cell_type": "code",
   "execution_count": 43,
   "metadata": {},
   "outputs": [
    {
     "data": {
      "text/plain": [
       "441"
      ]
     },
     "execution_count": 43,
     "metadata": {},
     "output_type": "execute_result"
    }
   ],
   "source": [
    "## since we are taking the previous 100 days to help us predict the next value\n",
    "## so lets take the previous 100 days value and\n",
    "\n",
    "len(test_data)"
   ]
  },
  {
   "cell_type": "code",
   "execution_count": 56,
   "metadata": {},
   "outputs": [
    {
     "data": {
      "text/plain": [
       "array([[0.85835515, 0.8866419 , 0.87431394, 0.88431985, 0.87836697,\n",
       "        0.8986321 , 0.92582116, 0.92877649, 0.95676771, 0.93869797,\n",
       "        0.93304061, 0.94950604, 0.96424048, 0.95512117, 0.95989192,\n",
       "        0.96635143, 0.96246728, 0.92295027, 0.9598497 , 0.98792536,\n",
       "        0.98594106, 0.92531453, 0.92172591, 0.96474711, 0.97572406,\n",
       "        0.99159841, 0.96972895, 0.97614625, 0.96795575, 1.        ,\n",
       "        0.99016297, 0.99050072, 0.96538039, 0.98488559, 0.97086887,\n",
       "        0.94026007, 0.87748037, 0.83483915, 0.85413324, 0.77336823,\n",
       "        0.77269273, 0.88014017, 0.84007431, 0.89673225, 0.85527316,\n",
       "        0.83884995, 0.74233725, 0.82327113, 0.78143207, 0.6665963 ,\n",
       "        0.7921557 , 0.64118044, 0.68614371, 0.66001013, 0.65203074,\n",
       "        0.58642236, 0.56586169, 0.66089673, 0.65515494, 0.70970193,\n",
       "        0.66452757, 0.69437642, 0.69218104, 0.63569197, 0.65266402,\n",
       "        0.63780292, 0.7267162 , 0.71388162, 0.74191506, 0.75002111,\n",
       "        0.77222832, 0.83049059, 0.8194292 , 0.8289707 , 0.8125475 ,\n",
       "        0.78776492, 0.75162543, 0.78426074, 0.77974331, 0.81326522,\n",
       "        0.8141096 , 0.79473106, 0.83336148, 0.85898843, 0.83901883,\n",
       "        0.85628641, 0.87486279, 0.88782403, 0.90095415, 0.92793211,\n",
       "        0.948535  , 0.93333615, 0.91746179, 0.92544119, 0.91771511,\n",
       "        0.9483239 , 0.94064004, 0.96635143, 0.9563033 , 0.96491598]])"
      ]
     },
     "execution_count": 56,
     "metadata": {},
     "output_type": "execute_result"
    }
   ],
   "source": [
    "x_input = test_data[341:].reshape(1,-1) ## row unknowns, columns 1\n",
    "x_input[:5]"
   ]
  },
  {
   "cell_type": "code",
   "execution_count": 58,
   "metadata": {},
   "outputs": [
    {
     "data": {
      "text/plain": [
       "[0.8583551465000423,\n",
       " 0.8866418981676942,\n",
       " 0.8743139407244789,\n",
       " 0.8843198513890065,\n",
       " 0.8783669678290975]"
      ]
     },
     "execution_count": 58,
     "metadata": {},
     "output_type": "execute_result"
    }
   ],
   "source": [
    "temp_input = list(x_input)\n",
    "temp_input = temp_input[0].tolist()\n",
    "temp_input[:5]"
   ]
  },
  {
   "cell_type": "markdown",
   "metadata": {},
   "source": [
    "## in LSTM, first step is always the reshape thing"
   ]
  },
  {
   "cell_type": "code",
   "execution_count": null,
   "metadata": {},
   "outputs": [],
   "source": []
  }
 ],
 "metadata": {
  "kernelspec": {
   "display_name": "Python 3.6.13 ('gputest')",
   "language": "python",
   "name": "python3"
  },
  "language_info": {
   "codemirror_mode": {
    "name": "ipython",
    "version": 3
   },
   "file_extension": ".py",
   "mimetype": "text/x-python",
   "name": "python",
   "nbconvert_exporter": "python",
   "pygments_lexer": "ipython3",
   "version": "3.6.13"
  },
  "orig_nbformat": 4,
  "vscode": {
   "interpreter": {
    "hash": "914c139996f68d185b073981459f96382266ba5f3df925a29404be19a0a7c343"
   }
  }
 },
 "nbformat": 4,
 "nbformat_minor": 2
}
