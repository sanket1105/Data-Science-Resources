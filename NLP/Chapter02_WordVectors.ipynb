{
 "cells": [
  {
   "cell_type": "code",
   "execution_count": 1,
   "metadata": {},
   "outputs": [
    {
     "name": "stdout",
     "output_type": "stream",
     "text": [
      "Collecting en-core-web-md==3.3.0\n",
      "  Downloading https://github.com/explosion/spacy-models/releases/download/en_core_web_md-3.3.0/en_core_web_md-3.3.0-py3-none-any.whl (33.5 MB)\n",
      "Requirement already satisfied: spacy<3.4.0,>=3.3.0.dev0 in c:\\users\\shankii\\anaconda3\\envs\\gputest\\lib\\site-packages (from en-core-web-md==3.3.0) (3.3.1)\n",
      "Requirement already satisfied: numpy>=1.15.0 in c:\\users\\shankii\\anaconda3\\envs\\gputest\\lib\\site-packages (from spacy<3.4.0,>=3.3.0.dev0->en-core-web-md==3.3.0) (1.19.5)\n",
      "Requirement already satisfied: blis<0.8.0,>=0.4.0 in c:\\users\\shankii\\anaconda3\\envs\\gputest\\lib\\site-packages (from spacy<3.4.0,>=3.3.0.dev0->en-core-web-md==3.3.0) (0.7.8)\n",
      "Requirement already satisfied: requests<3.0.0,>=2.13.0 in c:\\users\\shankii\\anaconda3\\envs\\gputest\\lib\\site-packages (from spacy<3.4.0,>=3.3.0.dev0->en-core-web-md==3.3.0) (2.27.1)\n",
      "Requirement already satisfied: catalogue<2.1.0,>=2.0.6 in c:\\users\\shankii\\anaconda3\\envs\\gputest\\lib\\site-packages (from spacy<3.4.0,>=3.3.0.dev0->en-core-web-md==3.3.0) (2.0.7)\n",
      "Requirement already satisfied: typing-extensions<4.2.0,>=3.7.4 in c:\\users\\shankii\\anaconda3\\envs\\gputest\\lib\\site-packages (from spacy<3.4.0,>=3.3.0.dev0->en-core-web-md==3.3.0) (4.1.1)\n",
      "Requirement already satisfied: srsly<3.0.0,>=2.4.3 in c:\\users\\shankii\\anaconda3\\envs\\gputest\\lib\\site-packages (from spacy<3.4.0,>=3.3.0.dev0->en-core-web-md==3.3.0) (2.4.3)\n",
      "Requirement already satisfied: packaging>=20.0 in c:\\users\\shankii\\anaconda3\\envs\\gputest\\lib\\site-packages (from spacy<3.4.0,>=3.3.0.dev0->en-core-web-md==3.3.0) (21.3)\n",
      "Requirement already satisfied: setuptools in c:\\users\\shankii\\anaconda3\\envs\\gputest\\lib\\site-packages (from spacy<3.4.0,>=3.3.0.dev0->en-core-web-md==3.3.0) (58.0.4)\n",
      "Requirement already satisfied: pydantic!=1.8,!=1.8.1,<1.9.0,>=1.7.4 in c:\\users\\shankii\\anaconda3\\envs\\gputest\\lib\\site-packages (from spacy<3.4.0,>=3.3.0.dev0->en-core-web-md==3.3.0) (1.8.2)\n",
      "Requirement already satisfied: typer<0.5.0,>=0.3.0 in c:\\users\\shankii\\anaconda3\\envs\\gputest\\lib\\site-packages (from spacy<3.4.0,>=3.3.0.dev0->en-core-web-md==3.3.0) (0.4.2)\n",
      "Requirement already satisfied: wasabi<1.1.0,>=0.9.1 in c:\\users\\shankii\\anaconda3\\envs\\gputest\\lib\\site-packages (from spacy<3.4.0,>=3.3.0.dev0->en-core-web-md==3.3.0) (0.9.1)\n",
      "Requirement already satisfied: murmurhash<1.1.0,>=0.28.0 in c:\\users\\shankii\\anaconda3\\envs\\gputest\\lib\\site-packages (from spacy<3.4.0,>=3.3.0.dev0->en-core-web-md==3.3.0) (1.0.7)\n",
      "Requirement already satisfied: pathy>=0.3.5 in c:\\users\\shankii\\anaconda3\\envs\\gputest\\lib\\site-packages (from spacy<3.4.0,>=3.3.0.dev0->en-core-web-md==3.3.0) (0.6.2)\n",
      "Requirement already satisfied: thinc<8.1.0,>=8.0.14 in c:\\users\\shankii\\anaconda3\\envs\\gputest\\lib\\site-packages (from spacy<3.4.0,>=3.3.0.dev0->en-core-web-md==3.3.0) (8.0.17)\n",
      "Requirement already satisfied: preshed<3.1.0,>=3.0.2 in c:\\users\\shankii\\anaconda3\\envs\\gputest\\lib\\site-packages (from spacy<3.4.0,>=3.3.0.dev0->en-core-web-md==3.3.0) (3.0.6)\n",
      "Requirement already satisfied: spacy-legacy<3.1.0,>=3.0.9 in c:\\users\\shankii\\anaconda3\\envs\\gputest\\lib\\site-packages (from spacy<3.4.0,>=3.3.0.dev0->en-core-web-md==3.3.0) (3.0.9)\n",
      "Requirement already satisfied: cymem<2.1.0,>=2.0.2 in c:\\users\\shankii\\anaconda3\\envs\\gputest\\lib\\site-packages (from spacy<3.4.0,>=3.3.0.dev0->en-core-web-md==3.3.0) (2.0.6)\n",
      "Requirement already satisfied: langcodes<4.0.0,>=3.2.0 in c:\\users\\shankii\\anaconda3\\envs\\gputest\\lib\\site-packages (from spacy<3.4.0,>=3.3.0.dev0->en-core-web-md==3.3.0) (3.3.0)\n",
      "Requirement already satisfied: jinja2 in c:\\users\\shankii\\anaconda3\\envs\\gputest\\lib\\site-packages (from spacy<3.4.0,>=3.3.0.dev0->en-core-web-md==3.3.0) (3.0.3)\n",
      "Requirement already satisfied: spacy-loggers<2.0.0,>=1.0.0 in c:\\users\\shankii\\anaconda3\\envs\\gputest\\lib\\site-packages (from spacy<3.4.0,>=3.3.0.dev0->en-core-web-md==3.3.0) (1.0.2)\n",
      "Requirement already satisfied: tqdm<5.0.0,>=4.38.0 in c:\\users\\shankii\\anaconda3\\envs\\gputest\\lib\\site-packages (from spacy<3.4.0,>=3.3.0.dev0->en-core-web-md==3.3.0) (4.64.0)\n",
      "Requirement already satisfied: zipp>=0.5 in c:\\users\\shankii\\anaconda3\\envs\\gputest\\lib\\site-packages (from catalogue<2.1.0,>=2.0.6->spacy<3.4.0,>=3.3.0.dev0->en-core-web-md==3.3.0) (3.6.0)\n",
      "Requirement already satisfied: pyparsing!=3.0.5,>=2.0.2 in c:\\users\\shankii\\anaconda3\\envs\\gputest\\lib\\site-packages (from packaging>=20.0->spacy<3.4.0,>=3.3.0.dev0->en-core-web-md==3.3.0) (3.0.9)\n",
      "Requirement already satisfied: dataclasses<1.0,>=0.6 in c:\\users\\shankii\\anaconda3\\envs\\gputest\\lib\\site-packages (from pathy>=0.3.5->spacy<3.4.0,>=3.3.0.dev0->en-core-web-md==3.3.0) (0.8)\n",
      "Requirement already satisfied: smart-open<6.0.0,>=5.2.1 in c:\\users\\shankii\\anaconda3\\envs\\gputest\\lib\\site-packages (from pathy>=0.3.5->spacy<3.4.0,>=3.3.0.dev0->en-core-web-md==3.3.0) (5.2.1)\n",
      "Requirement already satisfied: idna<4,>=2.5 in c:\\users\\shankii\\anaconda3\\envs\\gputest\\lib\\site-packages (from requests<3.0.0,>=2.13.0->spacy<3.4.0,>=3.3.0.dev0->en-core-web-md==3.3.0) (3.3)\n",
      "Requirement already satisfied: certifi>=2017.4.17 in c:\\users\\shankii\\anaconda3\\envs\\gputest\\lib\\site-packages (from requests<3.0.0,>=2.13.0->spacy<3.4.0,>=3.3.0.dev0->en-core-web-md==3.3.0) (2021.5.30)\n",
      "Requirement already satisfied: charset-normalizer~=2.0.0 in c:\\users\\shankii\\anaconda3\\envs\\gputest\\lib\\site-packages (from requests<3.0.0,>=2.13.0->spacy<3.4.0,>=3.3.0.dev0->en-core-web-md==3.3.0) (2.0.12)\n",
      "Requirement already satisfied: urllib3<1.27,>=1.21.1 in c:\\users\\shankii\\anaconda3\\envs\\gputest\\lib\\site-packages (from requests<3.0.0,>=2.13.0->spacy<3.4.0,>=3.3.0.dev0->en-core-web-md==3.3.0) (1.26.9)\n",
      "Requirement already satisfied: contextvars<3,>=2.4 in c:\\users\\shankii\\anaconda3\\envs\\gputest\\lib\\site-packages (from thinc<8.1.0,>=8.0.14->spacy<3.4.0,>=3.3.0.dev0->en-core-web-md==3.3.0) (2.4)\n",
      "Requirement already satisfied: immutables>=0.9 in c:\\users\\shankii\\anaconda3\\envs\\gputest\\lib\\site-packages (from contextvars<3,>=2.4->thinc<8.1.0,>=8.0.14->spacy<3.4.0,>=3.3.0.dev0->en-core-web-md==3.3.0) (0.18)\n",
      "Requirement already satisfied: colorama in c:\\users\\shankii\\anaconda3\\envs\\gputest\\lib\\site-packages (from tqdm<5.0.0,>=4.38.0->spacy<3.4.0,>=3.3.0.dev0->en-core-web-md==3.3.0) (0.4.5)\n",
      "Requirement already satisfied: importlib-resources in c:\\users\\shankii\\anaconda3\\envs\\gputest\\lib\\site-packages (from tqdm<5.0.0,>=4.38.0->spacy<3.4.0,>=3.3.0.dev0->en-core-web-md==3.3.0) (5.4.0)\n",
      "Requirement already satisfied: click<9.0.0,>=7.1.1 in c:\\users\\shankii\\anaconda3\\envs\\gputest\\lib\\site-packages (from typer<0.5.0,>=0.3.0->spacy<3.4.0,>=3.3.0.dev0->en-core-web-md==3.3.0) (8.0.4)\n",
      "Requirement already satisfied: importlib-metadata in c:\\users\\shankii\\anaconda3\\envs\\gputest\\lib\\site-packages (from click<9.0.0,>=7.1.1->typer<0.5.0,>=0.3.0->spacy<3.4.0,>=3.3.0.dev0->en-core-web-md==3.3.0) (4.8.3)\n",
      "Requirement already satisfied: MarkupSafe>=2.0 in c:\\users\\shankii\\anaconda3\\envs\\gputest\\lib\\site-packages (from jinja2->spacy<3.4.0,>=3.3.0.dev0->en-core-web-md==3.3.0) (2.0.1)\n",
      "Installing collected packages: en-core-web-md\n",
      "Successfully installed en-core-web-md-3.3.0\n",
      "✔ Download and installation successful\n",
      "You can now load the package via spacy.load('en_core_web_md')\n"
     ]
    },
    {
     "name": "stderr",
     "output_type": "stream",
     "text": [
      "2022-07-09 10:57:10.317022: I tensorflow/stream_executor/platform/default/dso_loader.cc:44] Successfully opened dynamic library cudart64_100.dll\n"
     ]
    }
   ],
   "source": [
    "## import spacy\n",
    "##!python -m spacy download en_core_web_md"
   ]
  },
  {
   "cell_type": "code",
   "execution_count": 3,
   "metadata": {},
   "outputs": [
    {
     "name": "stdout",
     "output_type": "stream",
     "text": [
      "It consists of 50 states, a federal district, five major unincorporated territories, 326 Indian reservations, and some minor possessions.[j]\n"
     ]
    }
   ],
   "source": [
    "nlp = spacy.load(\"en_core_web_md\")\n",
    "with open(\"./US_wiki.txt\",\"r\") as f:\n",
    "    text = f.read()\n",
    "\n",
    "doc = nlp(text)\n",
    "sentence1 = list(doc.sents)[1]    \n",
    "\n",
    "print(sentence1)"
   ]
  },
  {
   "cell_type": "markdown",
   "metadata": {},
   "source": [
    "## Word Vectors\n",
    "\n",
    "Word vectors, or word embeddings, are numerical representations of words in multidimensional space through matrices. The purpose of the word vector is to get a computer system to understand a word. Computers cannot understand text efficiently. They can, however, process numbers quickly and well. For this reason, it is important to convert a word into a number.\n",
    "\n",
    "Initial methods for creating word vectors in a pipeline take all words in a corpus and convert them into a single, unique number. These words are then stored in a dictionary that would look like this: {“the”: 1, “a”, 2} etc. This is known as a bag of words. This approach to representing words numerically, however, only allow a computer to understand words numerically to identify unique words. It does not, however, allow a computer to understand meaning.\n",
    "\n",
    "\n",
    "## Example\n",
    "\n",
    "-> I am Sanket. \n",
    "\n",
    "\n",
    "-> I am Shankii.\n",
    "\n",
    "Both will be read by machine as: \n",
    "\n",
    "\n",
    "0 1 2 -> (I am Sanket)\n",
    "\n",
    "\n",
    "0 1 3 -> (I am Shankii)\n",
    "\n",
    "\n",
    "\n",
    "Word Vectors take those 1D bag of words and give them multidimensional meaning by representing them in the higher dimensional space."
   ]
  },
  {
   "cell_type": "code",
   "execution_count": 4,
   "metadata": {},
   "outputs": [
    {
     "name": "stdout",
     "output_type": "stream",
     "text": [
      "It\n",
      "2\n"
     ]
    },
    {
     "data": {
      "text/plain": [
       "array([-7.3351e-01,  4.1392e-01, -4.4250e-01, -2.9127e-01, -9.6179e-02,\n",
       "        9.7562e-02,  1.3151e-01, -5.1825e-01,  1.0671e-01,  2.4144e+00,\n",
       "       -2.6212e-01, -1.2881e-01, -1.0052e-01,  1.2833e-01, -4.5271e-01,\n",
       "       -1.4928e-01, -1.5026e-01,  6.6120e-01, -1.8984e-01,  9.3389e-02,\n",
       "       -1.9194e-02, -9.1885e-02,  2.8984e-02, -2.3942e-01,  6.4044e-02,\n",
       "       -1.5922e-01, -3.0426e-01, -2.2637e-01,  3.8600e-02, -2.6689e-01,\n",
       "       -9.5402e-02,  7.9951e-02, -1.9862e-01, -1.2678e-01,  2.3640e-01,\n",
       "        6.6308e-01,  1.1111e-01,  2.9372e-02, -4.5536e-02, -2.5312e-02,\n",
       "       -2.6607e-02, -1.8607e-01, -2.2338e-01,  1.0604e-01,  1.1929e-01,\n",
       "        5.2028e-02, -1.0039e-01,  1.8268e-01, -3.4591e-01, -1.6101e-01,\n",
       "       -1.8500e-01,  5.0789e-01,  2.2425e-01,  1.2521e-01,  1.5326e-02,\n",
       "        7.9736e-02, -1.5052e-01, -1.2649e-01,  2.0725e-01, -8.7926e-02,\n",
       "       -7.4992e-02, -2.9551e-01,  6.6271e-02,  3.5549e-01,  4.9308e-01,\n",
       "       -1.8082e-01, -2.7133e-02,  8.2868e-03,  1.0039e-01, -2.7597e-02,\n",
       "        4.5138e-01,  2.4734e-01,  2.4167e-01,  1.3384e-02,  9.5598e-02,\n",
       "        3.7121e-01, -7.7239e-02, -2.8171e-01, -1.4073e-01,  4.6421e-01,\n",
       "       -2.8648e-01,  1.4002e-01,  1.5197e-01, -1.8129e-01, -1.5505e-01,\n",
       "       -1.9236e-01,  5.5929e-01, -5.7861e-01, -9.0552e-02, -2.7521e-01,\n",
       "       -2.8939e-01, -8.4986e-02, -2.3144e-01,  5.1729e-02,  1.7819e-01,\n",
       "       -3.2556e-01,  3.1488e-01, -1.4299e-01,  2.1185e-01, -1.0551e-01,\n",
       "       -4.3000e-01,  1.7165e-01, -1.6527e-01,  1.3271e-01,  6.1880e-01,\n",
       "       -1.0171e+00, -5.8113e-02,  4.8029e-02,  1.8454e-02, -2.3498e-01,\n",
       "       -1.6980e-01, -2.7157e-01, -2.0547e-01, -5.0518e-01, -3.3599e-01,\n",
       "        1.5134e-01,  1.8405e-03, -2.0448e-01, -1.1011e-01, -4.4870e-01,\n",
       "        7.9640e-02,  1.0418e-01, -8.0271e-02, -2.8480e-01, -5.0530e-02,\n",
       "        1.1302e-01,  9.2278e-02, -5.8314e-02,  3.5024e-02, -1.6963e-01,\n",
       "       -1.3425e-03, -5.3435e-02,  1.7699e-01,  2.4941e-01,  1.8786e-01,\n",
       "       -3.2698e-01, -4.2627e-01,  4.8289e-02,  6.6282e-02, -1.9033e-01,\n",
       "       -2.5010e+00,  3.4860e-01,  6.0322e-01, -1.4619e-01, -2.8099e-01,\n",
       "        5.5655e-02, -2.8033e-01,  1.0090e-01,  6.0253e-02, -4.4179e-02,\n",
       "        1.1639e-01,  9.2801e-02, -1.7375e-01, -3.3749e-02,  3.2390e-01,\n",
       "       -1.1226e-01, -3.3474e-01,  6.7303e-02,  1.5598e-01, -2.9633e-01,\n",
       "       -1.5204e-01, -2.2847e-01,  3.8574e-01,  2.4367e-02, -2.2866e-02,\n",
       "       -2.2048e-01,  1.8394e-01,  1.6290e-01, -1.2147e-02, -2.1621e-01,\n",
       "       -1.5601e-01, -2.3721e-01, -9.9739e-02, -3.6410e-02,  1.8520e-01,\n",
       "        1.1266e-01, -2.3234e-01,  2.3272e-01,  2.1948e-01, -1.1591e-01,\n",
       "       -9.7985e-02, -3.9361e-01, -5.9036e-01,  2.2522e-01, -3.0476e-01,\n",
       "        2.3337e-01, -2.7134e-01,  2.5348e-01,  2.2210e-01,  1.3236e-01,\n",
       "        3.3456e-01, -7.7566e-02,  1.0401e-02,  1.3468e-02, -3.5751e-01,\n",
       "       -2.3309e-02, -7.9655e-03, -1.6822e-01, -1.6826e-01,  4.1740e-01,\n",
       "       -1.1351e-02, -3.5518e-02, -1.0740e-01,  4.2927e-02, -1.2712e-01,\n",
       "        2.0835e-02,  8.4401e-02,  2.9680e-01,  2.0160e-01,  3.9956e-01,\n",
       "        1.0100e-01,  4.0497e-01,  9.0203e-02, -2.1344e-01, -2.7825e-01,\n",
       "       -7.8835e-02,  1.0119e-01,  2.5933e-01, -4.5749e-01, -1.6482e-01,\n",
       "       -1.8269e-01,  1.6793e-01, -2.8976e-01, -8.6973e-02,  1.5011e-01,\n",
       "       -3.1164e-01, -1.0782e-01,  4.8386e-03, -2.6186e-02, -1.8625e-01,\n",
       "       -4.8566e-02, -3.9599e-02,  4.0170e-01,  1.5871e-01,  9.7818e-02,\n",
       "        2.0147e-01,  2.9269e-01, -1.1670e-01, -7.4992e-02, -1.4296e-01,\n",
       "        1.7935e-01, -3.5507e-02,  5.2423e-02,  4.9044e-01,  3.9278e-02,\n",
       "       -1.0086e-01,  7.4740e-02, -5.2075e-01,  9.6293e-02,  3.0605e-01,\n",
       "        2.1218e-02, -2.2840e-02,  1.8915e-01, -1.9368e-01, -5.5287e-02,\n",
       "       -3.7036e-02, -2.2958e-01, -2.1667e-01,  1.3179e-01,  1.2160e-01,\n",
       "       -4.0044e-01,  3.8254e-02,  1.2728e-01,  2.7882e-01,  4.1433e-01,\n",
       "       -1.8962e-01, -1.1609e-01,  3.1615e-01,  7.3397e-01,  1.6596e-01,\n",
       "        3.9022e-02, -5.1148e-02, -2.3227e-02, -4.3265e-01, -8.6997e-02,\n",
       "        2.4961e-01, -3.0546e-02, -2.5048e-01,  1.2017e-01,  4.3831e-01,\n",
       "       -3.0787e-01, -2.6254e-01, -1.6921e-02,  8.9203e-02,  1.2089e-01,\n",
       "        4.0127e-01,  1.2566e-01, -3.1128e-01,  2.3132e-01, -1.9174e-01,\n",
       "       -3.0485e-01,  1.8648e-01, -2.7048e-01, -1.1111e-01,  1.2681e-01,\n",
       "        3.9538e-01, -5.6084e-02, -1.8777e-01, -7.6822e-02, -1.5507e-02],\n",
       "      dtype=float32)"
      ]
     },
     "execution_count": 4,
     "metadata": {},
     "output_type": "execute_result"
    }
   ],
   "source": [
    "## lets see how the vectors look like\n",
    "\n",
    "print(sentence1[0])\n",
    "print(len(sentence1[0]))\n",
    "\n",
    "sentence1[0].vector\n",
    "\n",
    "## this is how the vectors look"
   ]
  },
  {
   "cell_type": "markdown",
   "metadata": {},
   "source": [
    "## Word Similarity\n"
   ]
  },
  {
   "cell_type": "code",
   "execution_count": 5,
   "metadata": {},
   "outputs": [
    {
     "name": "stdout",
     "output_type": "stream",
     "text": [
      "['puppies', 'PUPPIES', 'CHINCHILLA', 'BREED', 'Breed', 'cattery', 'Poodles', 'CHINCHILLAS', 'POODLES', 'BREEDS']\n"
     ]
    }
   ],
   "source": [
    "#https://stackoverflow.com/questions/54717449/mapping-word-vector-to-the-most-similar-closest-word-using-spacy\n",
    "\n",
    "import numpy as np\n",
    "your_word = \"dog\"\n",
    "\n",
    "ms = nlp.vocab.vectors.most_similar(\n",
    "    np.asarray([nlp.vocab.vectors[nlp.vocab.strings[your_word]]]), n=10)\n",
    "words = [nlp.vocab.strings[w] for w in ms[0][0]]\n",
    "distances = ms[2]\n",
    "print(words)\n",
    "\n",
    "\n",
    "\n",
    "## these are not synonyms\n",
    "## these are word similar to the given word"
   ]
  },
  {
   "cell_type": "markdown",
   "metadata": {},
   "source": [
    "## Doc Similarity"
   ]
  },
  {
   "cell_type": "code",
   "execution_count": 12,
   "metadata": {},
   "outputs": [
    {
     "name": "stdout",
     "output_type": "stream",
     "text": [
      "I like Bhurji. <-> I love boiled Eggs. 0.8612383568111676\n"
     ]
    }
   ],
   "source": [
    "doc1 = nlp(\"I like Bhurji.\")\n",
    "doc2 = nlp(\"I love boiled Eggs.\")\n",
    "\n",
    "# Similarity of two documents\n",
    "print(doc1, \"<->\", doc2, doc1.similarity(doc2))\n",
    "\n",
    "\n",
    "## 78% similarity between the 2 sentences"
   ]
  },
  {
   "cell_type": "markdown",
   "metadata": {},
   "source": [
    "## Word Similarity"
   ]
  },
  {
   "cell_type": "code",
   "execution_count": 14,
   "metadata": {},
   "outputs": [
    {
     "name": "stdout",
     "output_type": "stream",
     "text": [
      "Bhurji.\n",
      "boiled Eggs\n",
      "Bhurji. <-> boiled Eggs 0.26173824071884155\n"
     ]
    }
   ],
   "source": [
    "# Similarity of tokens and spans\n",
    "Pav_Bhaji = doc1[2:4]\n",
    "Omelette = doc2[2:4]\n",
    "\n",
    "print(Pav_Bhaji)\n",
    "print(Omelette)\n",
    "\n",
    "print(Pav_Bhaji, \"<->\", Omelette, Pav_Bhaji.similarity(Omelette))\n",
    "\n",
    "##  57% match between these words"
   ]
  },
  {
   "cell_type": "code",
   "execution_count": null,
   "metadata": {},
   "outputs": [],
   "source": []
  }
 ],
 "metadata": {
  "kernelspec": {
   "display_name": "Python 3.6.13 ('gputest')",
   "language": "python",
   "name": "python3"
  },
  "language_info": {
   "codemirror_mode": {
    "name": "ipython",
    "version": 3
   },
   "file_extension": ".py",
   "mimetype": "text/x-python",
   "name": "python",
   "nbconvert_exporter": "python",
   "pygments_lexer": "ipython3",
   "version": "3.6.13"
  },
  "orig_nbformat": 4,
  "vscode": {
   "interpreter": {
    "hash": "914c139996f68d185b073981459f96382266ba5f3df925a29404be19a0a7c343"
   }
  }
 },
 "nbformat": 4,
 "nbformat_minor": 2
}
