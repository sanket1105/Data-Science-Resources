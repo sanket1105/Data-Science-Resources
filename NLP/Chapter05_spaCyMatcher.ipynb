{
 "cells": [
  {
   "cell_type": "markdown",
   "metadata": {},
   "source": [
    "When to use matcher over entity ruler?\n",
    "\n",
    "\n",
    "when the label is not that important, use matcher instead of entity ruler\n",
    "\n",
    "Use MAtcher when theres some kind of structure in the text and will help us in extracting the info"
   ]
  },
  {
   "cell_type": "markdown",
   "metadata": {},
   "source": [
    "## Regex vs matcher\n",
    "\n",
    "Regex when you want to extract a particular pattern and that pattern is not dependent on the parts of speech"
   ]
  },
  {
   "cell_type": "code",
   "execution_count": 1,
   "metadata": {},
   "outputs": [],
   "source": [
    "import spacy\n",
    "from spacy.matcher import Matcher"
   ]
  },
  {
   "cell_type": "code",
   "execution_count": 4,
   "metadata": {},
   "outputs": [],
   "source": [
    "nlp = spacy.load(\"en_core_web_sm\")\n",
    "matcher = Matcher(nlp.vocab)\n",
    "pattern = [{\"LIKE_EMAIL\":True}]\n",
    "matcher.add(\"Email_address\",[pattern])\n",
    "doc = nlp(\"This is an email address: sanket@gmail.com\")\n",
    "matches = matcher(doc)\n",
    "\n"
   ]
  },
  {
   "cell_type": "code",
   "execution_count": null,
   "metadata": {},
   "outputs": [],
   "source": []
  }
 ],
 "metadata": {
  "kernelspec": {
   "display_name": "Python 3.6.13 ('gpu')",
   "language": "python",
   "name": "python3"
  },
  "language_info": {
   "codemirror_mode": {
    "name": "ipython",
    "version": 3
   },
   "file_extension": ".py",
   "mimetype": "text/x-python",
   "name": "python",
   "nbconvert_exporter": "python",
   "pygments_lexer": "ipython3",
   "version": "3.6.13"
  },
  "orig_nbformat": 4,
  "vscode": {
   "interpreter": {
    "hash": "46dd88d8f66d3cbbd5b62f57295b9357945a09a6f3ece24bb88a39d29ed295db"
   }
  }
 },
 "nbformat": 4,
 "nbformat_minor": 2
}
